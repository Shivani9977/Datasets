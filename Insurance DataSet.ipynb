{
 "cells": [
  {
   "cell_type": "code",
   "execution_count": 37,
   "id": "3a91ab26-698b-445e-b234-116ca62375fd",
   "metadata": {},
   "outputs": [],
   "source": [
    "import pandas as pd\n",
    "import numpy as np\n",
    "import matplotlib.pyplot as plt\n",
    "import seaborn as sns\n",
    "import scipy.stats as stats"
   ]
  },
  {
   "cell_type": "code",
   "execution_count": 38,
   "id": "025b956c-e5e4-4582-8afe-77f8e19c36a2",
   "metadata": {},
   "outputs": [],
   "source": [
    "df=pd.read_csv('insurance.csv')"
   ]
  },
  {
   "cell_type": "code",
   "execution_count": 39,
   "id": "cda2f17a-3a6a-4dca-bdb5-23a98ee6c44a",
   "metadata": {},
   "outputs": [
    {
     "data": {
      "text/html": [
       "<div>\n",
       "<style scoped>\n",
       "    .dataframe tbody tr th:only-of-type {\n",
       "        vertical-align: middle;\n",
       "    }\n",
       "\n",
       "    .dataframe tbody tr th {\n",
       "        vertical-align: top;\n",
       "    }\n",
       "\n",
       "    .dataframe thead th {\n",
       "        text-align: right;\n",
       "    }\n",
       "</style>\n",
       "<table border=\"1\" class=\"dataframe\">\n",
       "  <thead>\n",
       "    <tr style=\"text-align: right;\">\n",
       "      <th></th>\n",
       "      <th>age</th>\n",
       "      <th>sex</th>\n",
       "      <th>bmi</th>\n",
       "      <th>children</th>\n",
       "      <th>smoker</th>\n",
       "      <th>region</th>\n",
       "      <th>charges</th>\n",
       "    </tr>\n",
       "  </thead>\n",
       "  <tbody>\n",
       "    <tr>\n",
       "      <th>0</th>\n",
       "      <td>19</td>\n",
       "      <td>female</td>\n",
       "      <td>27.900</td>\n",
       "      <td>0</td>\n",
       "      <td>yes</td>\n",
       "      <td>southwest</td>\n",
       "      <td>16884.92400</td>\n",
       "    </tr>\n",
       "    <tr>\n",
       "      <th>1</th>\n",
       "      <td>18</td>\n",
       "      <td>male</td>\n",
       "      <td>33.770</td>\n",
       "      <td>1</td>\n",
       "      <td>no</td>\n",
       "      <td>southeast</td>\n",
       "      <td>1725.55230</td>\n",
       "    </tr>\n",
       "    <tr>\n",
       "      <th>2</th>\n",
       "      <td>28</td>\n",
       "      <td>male</td>\n",
       "      <td>33.000</td>\n",
       "      <td>3</td>\n",
       "      <td>no</td>\n",
       "      <td>southeast</td>\n",
       "      <td>4449.46200</td>\n",
       "    </tr>\n",
       "    <tr>\n",
       "      <th>3</th>\n",
       "      <td>33</td>\n",
       "      <td>male</td>\n",
       "      <td>22.705</td>\n",
       "      <td>0</td>\n",
       "      <td>no</td>\n",
       "      <td>northwest</td>\n",
       "      <td>21984.47061</td>\n",
       "    </tr>\n",
       "    <tr>\n",
       "      <th>4</th>\n",
       "      <td>32</td>\n",
       "      <td>male</td>\n",
       "      <td>28.880</td>\n",
       "      <td>0</td>\n",
       "      <td>no</td>\n",
       "      <td>northwest</td>\n",
       "      <td>3866.85520</td>\n",
       "    </tr>\n",
       "    <tr>\n",
       "      <th>...</th>\n",
       "      <td>...</td>\n",
       "      <td>...</td>\n",
       "      <td>...</td>\n",
       "      <td>...</td>\n",
       "      <td>...</td>\n",
       "      <td>...</td>\n",
       "      <td>...</td>\n",
       "    </tr>\n",
       "    <tr>\n",
       "      <th>1333</th>\n",
       "      <td>50</td>\n",
       "      <td>male</td>\n",
       "      <td>30.970</td>\n",
       "      <td>3</td>\n",
       "      <td>no</td>\n",
       "      <td>northwest</td>\n",
       "      <td>10600.54830</td>\n",
       "    </tr>\n",
       "    <tr>\n",
       "      <th>1334</th>\n",
       "      <td>18</td>\n",
       "      <td>female</td>\n",
       "      <td>31.920</td>\n",
       "      <td>0</td>\n",
       "      <td>no</td>\n",
       "      <td>northeast</td>\n",
       "      <td>2205.98080</td>\n",
       "    </tr>\n",
       "    <tr>\n",
       "      <th>1335</th>\n",
       "      <td>18</td>\n",
       "      <td>female</td>\n",
       "      <td>36.850</td>\n",
       "      <td>0</td>\n",
       "      <td>no</td>\n",
       "      <td>southeast</td>\n",
       "      <td>1629.83350</td>\n",
       "    </tr>\n",
       "    <tr>\n",
       "      <th>1336</th>\n",
       "      <td>21</td>\n",
       "      <td>female</td>\n",
       "      <td>25.800</td>\n",
       "      <td>0</td>\n",
       "      <td>no</td>\n",
       "      <td>southwest</td>\n",
       "      <td>2007.94500</td>\n",
       "    </tr>\n",
       "    <tr>\n",
       "      <th>1337</th>\n",
       "      <td>61</td>\n",
       "      <td>female</td>\n",
       "      <td>29.070</td>\n",
       "      <td>0</td>\n",
       "      <td>yes</td>\n",
       "      <td>northwest</td>\n",
       "      <td>29141.36030</td>\n",
       "    </tr>\n",
       "  </tbody>\n",
       "</table>\n",
       "<p>1338 rows × 7 columns</p>\n",
       "</div>"
      ],
      "text/plain": [
       "      age     sex     bmi  children smoker     region      charges\n",
       "0      19  female  27.900         0    yes  southwest  16884.92400\n",
       "1      18    male  33.770         1     no  southeast   1725.55230\n",
       "2      28    male  33.000         3     no  southeast   4449.46200\n",
       "3      33    male  22.705         0     no  northwest  21984.47061\n",
       "4      32    male  28.880         0     no  northwest   3866.85520\n",
       "...   ...     ...     ...       ...    ...        ...          ...\n",
       "1333   50    male  30.970         3     no  northwest  10600.54830\n",
       "1334   18  female  31.920         0     no  northeast   2205.98080\n",
       "1335   18  female  36.850         0     no  southeast   1629.83350\n",
       "1336   21  female  25.800         0     no  southwest   2007.94500\n",
       "1337   61  female  29.070         0    yes  northwest  29141.36030\n",
       "\n",
       "[1338 rows x 7 columns]"
      ]
     },
     "execution_count": 39,
     "metadata": {},
     "output_type": "execute_result"
    }
   ],
   "source": [
    "df"
   ]
  },
  {
   "cell_type": "code",
   "execution_count": 40,
   "id": "d979546f-6ec8-4ff2-ae19-ae0773bbd5f1",
   "metadata": {},
   "outputs": [
    {
     "data": {
      "text/plain": [
       "9366"
      ]
     },
     "execution_count": 40,
     "metadata": {},
     "output_type": "execute_result"
    }
   ],
   "source": [
    "df.size"
   ]
  },
  {
   "cell_type": "code",
   "execution_count": 41,
   "id": "42a892d8-460c-48e0-bcdc-2df4c1d68025",
   "metadata": {},
   "outputs": [
    {
     "data": {
      "text/plain": [
       "(1338, 7)"
      ]
     },
     "execution_count": 41,
     "metadata": {},
     "output_type": "execute_result"
    }
   ],
   "source": [
    "df.shape"
   ]
  },
  {
   "cell_type": "code",
   "execution_count": 42,
   "id": "b4622eaf-fc4f-4435-91f2-affbb5894b67",
   "metadata": {},
   "outputs": [
    {
     "data": {
      "text/plain": [
       "Index(['age', 'sex', 'bmi', 'children', 'smoker', 'region', 'charges'], dtype='object')"
      ]
     },
     "execution_count": 42,
     "metadata": {},
     "output_type": "execute_result"
    }
   ],
   "source": [
    "df.columns"
   ]
  },
  {
   "cell_type": "code",
   "execution_count": 43,
   "id": "9c71c8b0-15be-4d1a-b4d8-0a27cfec7b33",
   "metadata": {},
   "outputs": [
    {
     "data": {
      "text/plain": [
       "age         0\n",
       "sex         0\n",
       "bmi         0\n",
       "children    0\n",
       "smoker      0\n",
       "region      0\n",
       "charges     0\n",
       "dtype: int64"
      ]
     },
     "execution_count": 43,
     "metadata": {},
     "output_type": "execute_result"
    }
   ],
   "source": [
    "df.isnull().sum()"
   ]
  },
  {
   "cell_type": "code",
   "execution_count": 44,
   "id": "3b1c9aca-aef9-4b47-9e85-b18ab6a18a1d",
   "metadata": {},
   "outputs": [
    {
     "data": {
      "text/plain": [
       "1"
      ]
     },
     "execution_count": 44,
     "metadata": {},
     "output_type": "execute_result"
    }
   ],
   "source": [
    "df.duplicated().sum()"
   ]
  },
  {
   "cell_type": "code",
   "execution_count": 45,
   "id": "fc13f72a-52db-4ab2-943c-e96e77cd85ee",
   "metadata": {},
   "outputs": [
    {
     "name": "stdout",
     "output_type": "stream",
     "text": [
      "<class 'pandas.core.frame.DataFrame'>\n",
      "RangeIndex: 1338 entries, 0 to 1337\n",
      "Data columns (total 7 columns):\n",
      " #   Column    Non-Null Count  Dtype  \n",
      "---  ------    --------------  -----  \n",
      " 0   age       1338 non-null   int64  \n",
      " 1   sex       1338 non-null   object \n",
      " 2   bmi       1338 non-null   float64\n",
      " 3   children  1338 non-null   int64  \n",
      " 4   smoker    1338 non-null   object \n",
      " 5   region    1338 non-null   object \n",
      " 6   charges   1338 non-null   float64\n",
      "dtypes: float64(2), int64(2), object(3)\n",
      "memory usage: 73.3+ KB\n"
     ]
    }
   ],
   "source": [
    "df.info()"
   ]
  },
  {
   "cell_type": "code",
   "execution_count": 46,
   "id": "5adcc3d6-b556-4bcc-b1f7-a1f9c53d6907",
   "metadata": {},
   "outputs": [
    {
     "data": {
      "text/html": [
       "<div>\n",
       "<style scoped>\n",
       "    .dataframe tbody tr th:only-of-type {\n",
       "        vertical-align: middle;\n",
       "    }\n",
       "\n",
       "    .dataframe tbody tr th {\n",
       "        vertical-align: top;\n",
       "    }\n",
       "\n",
       "    .dataframe thead th {\n",
       "        text-align: right;\n",
       "    }\n",
       "</style>\n",
       "<table border=\"1\" class=\"dataframe\">\n",
       "  <thead>\n",
       "    <tr style=\"text-align: right;\">\n",
       "      <th></th>\n",
       "      <th>age</th>\n",
       "      <th>bmi</th>\n",
       "      <th>children</th>\n",
       "      <th>charges</th>\n",
       "    </tr>\n",
       "  </thead>\n",
       "  <tbody>\n",
       "    <tr>\n",
       "      <th>count</th>\n",
       "      <td>1338.000000</td>\n",
       "      <td>1338.000000</td>\n",
       "      <td>1338.000000</td>\n",
       "      <td>1338.000000</td>\n",
       "    </tr>\n",
       "    <tr>\n",
       "      <th>mean</th>\n",
       "      <td>39.207025</td>\n",
       "      <td>30.663397</td>\n",
       "      <td>1.094918</td>\n",
       "      <td>13270.422265</td>\n",
       "    </tr>\n",
       "    <tr>\n",
       "      <th>std</th>\n",
       "      <td>14.049960</td>\n",
       "      <td>6.098187</td>\n",
       "      <td>1.205493</td>\n",
       "      <td>12110.011237</td>\n",
       "    </tr>\n",
       "    <tr>\n",
       "      <th>min</th>\n",
       "      <td>18.000000</td>\n",
       "      <td>15.960000</td>\n",
       "      <td>0.000000</td>\n",
       "      <td>1121.873900</td>\n",
       "    </tr>\n",
       "    <tr>\n",
       "      <th>25%</th>\n",
       "      <td>27.000000</td>\n",
       "      <td>26.296250</td>\n",
       "      <td>0.000000</td>\n",
       "      <td>4740.287150</td>\n",
       "    </tr>\n",
       "    <tr>\n",
       "      <th>50%</th>\n",
       "      <td>39.000000</td>\n",
       "      <td>30.400000</td>\n",
       "      <td>1.000000</td>\n",
       "      <td>9382.033000</td>\n",
       "    </tr>\n",
       "    <tr>\n",
       "      <th>75%</th>\n",
       "      <td>51.000000</td>\n",
       "      <td>34.693750</td>\n",
       "      <td>2.000000</td>\n",
       "      <td>16639.912515</td>\n",
       "    </tr>\n",
       "    <tr>\n",
       "      <th>max</th>\n",
       "      <td>64.000000</td>\n",
       "      <td>53.130000</td>\n",
       "      <td>5.000000</td>\n",
       "      <td>63770.428010</td>\n",
       "    </tr>\n",
       "  </tbody>\n",
       "</table>\n",
       "</div>"
      ],
      "text/plain": [
       "               age          bmi     children       charges\n",
       "count  1338.000000  1338.000000  1338.000000   1338.000000\n",
       "mean     39.207025    30.663397     1.094918  13270.422265\n",
       "std      14.049960     6.098187     1.205493  12110.011237\n",
       "min      18.000000    15.960000     0.000000   1121.873900\n",
       "25%      27.000000    26.296250     0.000000   4740.287150\n",
       "50%      39.000000    30.400000     1.000000   9382.033000\n",
       "75%      51.000000    34.693750     2.000000  16639.912515\n",
       "max      64.000000    53.130000     5.000000  63770.428010"
      ]
     },
     "execution_count": 46,
     "metadata": {},
     "output_type": "execute_result"
    }
   ],
   "source": [
    "df.describe()"
   ]
  },
  {
   "cell_type": "code",
   "execution_count": 47,
   "id": "e7505521-6ec7-445e-9965-085f0c362b6d",
   "metadata": {},
   "outputs": [
    {
     "data": {
      "text/html": [
       "<div>\n",
       "<style scoped>\n",
       "    .dataframe tbody tr th:only-of-type {\n",
       "        vertical-align: middle;\n",
       "    }\n",
       "\n",
       "    .dataframe tbody tr th {\n",
       "        vertical-align: top;\n",
       "    }\n",
       "\n",
       "    .dataframe thead th {\n",
       "        text-align: right;\n",
       "    }\n",
       "</style>\n",
       "<table border=\"1\" class=\"dataframe\">\n",
       "  <thead>\n",
       "    <tr style=\"text-align: right;\">\n",
       "      <th></th>\n",
       "      <th>age</th>\n",
       "      <th>sex</th>\n",
       "      <th>bmi</th>\n",
       "      <th>children</th>\n",
       "      <th>smoker</th>\n",
       "      <th>region</th>\n",
       "      <th>charges</th>\n",
       "    </tr>\n",
       "  </thead>\n",
       "  <tbody>\n",
       "    <tr>\n",
       "      <th>0</th>\n",
       "      <td>19</td>\n",
       "      <td>female</td>\n",
       "      <td>27.900</td>\n",
       "      <td>0</td>\n",
       "      <td>yes</td>\n",
       "      <td>southwest</td>\n",
       "      <td>16884.92400</td>\n",
       "    </tr>\n",
       "    <tr>\n",
       "      <th>1</th>\n",
       "      <td>18</td>\n",
       "      <td>male</td>\n",
       "      <td>33.770</td>\n",
       "      <td>1</td>\n",
       "      <td>no</td>\n",
       "      <td>southeast</td>\n",
       "      <td>1725.55230</td>\n",
       "    </tr>\n",
       "    <tr>\n",
       "      <th>2</th>\n",
       "      <td>28</td>\n",
       "      <td>male</td>\n",
       "      <td>33.000</td>\n",
       "      <td>3</td>\n",
       "      <td>no</td>\n",
       "      <td>southeast</td>\n",
       "      <td>4449.46200</td>\n",
       "    </tr>\n",
       "    <tr>\n",
       "      <th>3</th>\n",
       "      <td>33</td>\n",
       "      <td>male</td>\n",
       "      <td>22.705</td>\n",
       "      <td>0</td>\n",
       "      <td>no</td>\n",
       "      <td>northwest</td>\n",
       "      <td>21984.47061</td>\n",
       "    </tr>\n",
       "    <tr>\n",
       "      <th>4</th>\n",
       "      <td>32</td>\n",
       "      <td>male</td>\n",
       "      <td>28.880</td>\n",
       "      <td>0</td>\n",
       "      <td>no</td>\n",
       "      <td>northwest</td>\n",
       "      <td>3866.85520</td>\n",
       "    </tr>\n",
       "  </tbody>\n",
       "</table>\n",
       "</div>"
      ],
      "text/plain": [
       "   age     sex     bmi  children smoker     region      charges\n",
       "0   19  female  27.900         0    yes  southwest  16884.92400\n",
       "1   18    male  33.770         1     no  southeast   1725.55230\n",
       "2   28    male  33.000         3     no  southeast   4449.46200\n",
       "3   33    male  22.705         0     no  northwest  21984.47061\n",
       "4   32    male  28.880         0     no  northwest   3866.85520"
      ]
     },
     "execution_count": 47,
     "metadata": {},
     "output_type": "execute_result"
    }
   ],
   "source": [
    "df.head()"
   ]
  },
  {
   "cell_type": "code",
   "execution_count": 48,
   "id": "e0c9f785-03a9-4aa4-92db-45b7e1087584",
   "metadata": {},
   "outputs": [
    {
     "data": {
      "text/html": [
       "<div>\n",
       "<style scoped>\n",
       "    .dataframe tbody tr th:only-of-type {\n",
       "        vertical-align: middle;\n",
       "    }\n",
       "\n",
       "    .dataframe tbody tr th {\n",
       "        vertical-align: top;\n",
       "    }\n",
       "\n",
       "    .dataframe thead th {\n",
       "        text-align: right;\n",
       "    }\n",
       "</style>\n",
       "<table border=\"1\" class=\"dataframe\">\n",
       "  <thead>\n",
       "    <tr style=\"text-align: right;\">\n",
       "      <th></th>\n",
       "      <th>age</th>\n",
       "      <th>sex</th>\n",
       "      <th>bmi</th>\n",
       "      <th>children</th>\n",
       "      <th>smoker</th>\n",
       "      <th>region</th>\n",
       "      <th>charges</th>\n",
       "    </tr>\n",
       "  </thead>\n",
       "  <tbody>\n",
       "    <tr>\n",
       "      <th>1333</th>\n",
       "      <td>50</td>\n",
       "      <td>male</td>\n",
       "      <td>30.97</td>\n",
       "      <td>3</td>\n",
       "      <td>no</td>\n",
       "      <td>northwest</td>\n",
       "      <td>10600.5483</td>\n",
       "    </tr>\n",
       "    <tr>\n",
       "      <th>1334</th>\n",
       "      <td>18</td>\n",
       "      <td>female</td>\n",
       "      <td>31.92</td>\n",
       "      <td>0</td>\n",
       "      <td>no</td>\n",
       "      <td>northeast</td>\n",
       "      <td>2205.9808</td>\n",
       "    </tr>\n",
       "    <tr>\n",
       "      <th>1335</th>\n",
       "      <td>18</td>\n",
       "      <td>female</td>\n",
       "      <td>36.85</td>\n",
       "      <td>0</td>\n",
       "      <td>no</td>\n",
       "      <td>southeast</td>\n",
       "      <td>1629.8335</td>\n",
       "    </tr>\n",
       "    <tr>\n",
       "      <th>1336</th>\n",
       "      <td>21</td>\n",
       "      <td>female</td>\n",
       "      <td>25.80</td>\n",
       "      <td>0</td>\n",
       "      <td>no</td>\n",
       "      <td>southwest</td>\n",
       "      <td>2007.9450</td>\n",
       "    </tr>\n",
       "    <tr>\n",
       "      <th>1337</th>\n",
       "      <td>61</td>\n",
       "      <td>female</td>\n",
       "      <td>29.07</td>\n",
       "      <td>0</td>\n",
       "      <td>yes</td>\n",
       "      <td>northwest</td>\n",
       "      <td>29141.3603</td>\n",
       "    </tr>\n",
       "  </tbody>\n",
       "</table>\n",
       "</div>"
      ],
      "text/plain": [
       "      age     sex    bmi  children smoker     region     charges\n",
       "1333   50    male  30.97         3     no  northwest  10600.5483\n",
       "1334   18  female  31.92         0     no  northeast   2205.9808\n",
       "1335   18  female  36.85         0     no  southeast   1629.8335\n",
       "1336   21  female  25.80         0     no  southwest   2007.9450\n",
       "1337   61  female  29.07         0    yes  northwest  29141.3603"
      ]
     },
     "execution_count": 48,
     "metadata": {},
     "output_type": "execute_result"
    }
   ],
   "source": [
    "df.tail()"
   ]
  },
  {
   "cell_type": "code",
   "execution_count": 49,
   "id": "88234d59-600c-441e-a104-107d5db0b86b",
   "metadata": {},
   "outputs": [
    {
     "data": {
      "text/plain": [
       "Index(['age', 'sex', 'bmi', 'children', 'smoker', 'region', 'charges'], dtype='object')"
      ]
     },
     "execution_count": 49,
     "metadata": {},
     "output_type": "execute_result"
    }
   ],
   "source": [
    "df.columns"
   ]
  },
  {
   "cell_type": "code",
   "execution_count": 50,
   "id": "e0c2c541-23a8-436f-aba3-bff1bedf3616",
   "metadata": {},
   "outputs": [
    {
     "data": {
      "text/plain": [
       "1291"
      ]
     },
     "execution_count": 50,
     "metadata": {},
     "output_type": "execute_result"
    }
   ],
   "source": [
    "df['age'].duplicated().sum()"
   ]
  },
  {
   "cell_type": "markdown",
   "id": "4ffd9224-f40c-446b-97db-589587d33fd0",
   "metadata": {},
   "source": [
    "# Univarient analysis"
   ]
  },
  {
   "cell_type": "code",
   "execution_count": 72,
   "id": "aafcc033-863d-40da-a5a2-65a47e3cead8",
   "metadata": {},
   "outputs": [
    {
     "data": {
      "text/plain": [
       "Index(['age', 'bmi', 'children', 'charges'], dtype='object')"
      ]
     },
     "execution_count": 72,
     "metadata": {},
     "output_type": "execute_result"
    }
   ],
   "source": [
    "numeric=df.select_dtypes(include=['int64','float64']).columns\n",
    "numeric"
   ]
  },
  {
   "cell_type": "code",
   "execution_count": 75,
   "id": "ecf95785-cab1-4de3-a017-0c6e96850f0c",
   "metadata": {},
   "outputs": [
    {
     "data": {
      "text/plain": [
       "Index(['sex', 'smoker', 'region'], dtype='object')"
      ]
     },
     "execution_count": 75,
     "metadata": {},
     "output_type": "execute_result"
    }
   ],
   "source": [
    "category=df.select_dtypes(include=['object']).columns\n",
    "category"
   ]
  },
  {
   "cell_type": "code",
   "execution_count": 51,
   "id": "4ed7ecb1-b3aa-4ba9-9d17-c5476df6a78d",
   "metadata": {},
   "outputs": [],
   "source": [
    "def check_gaussian(data):\n",
    "    sns.histplot(data,kde=True)\n",
    "    plt.show()\n",
    "    stats.probplot(data,dist='norm',plot=plt)\n",
    "    plt.show()\n",
    "    a=stats.anderson(data,dist='norm')\n",
    "    if a.statistic>a.critical_values[2]:\n",
    "        print('column is non-gaussian')\n",
    "    else:\n",
    "        print('column is gaussian')\n",
    "    "
   ]
  },
  {
   "cell_type": "code",
   "execution_count": 52,
   "id": "e1502678-32a6-497d-a24e-9ffa0db5bdfb",
   "metadata": {},
   "outputs": [
    {
     "data": {
      "image/png": "[encoded data removed]",
      "text/plain": [
       "<Figure size 640x480 with 1 Axes>"
      ]
     },
     "metadata": {},
     "output_type": "display_data"
    },
    {
     "data": {
      "image/png": "[encoded data removed]",
      "text/plain": [
       "<Figure size 640x480 with 1 Axes>"
      ]
     },
     "metadata": {},
     "output_type": "display_data"
    },
    {
     "name": "stdout",
     "output_type": "stream",
     "text": [
      "column is non-gaussian\n"
     ]
    }
   ],
   "source": [
    "check_gaussian(df['age'])"
   ]
  },
  {
   "cell_type": "code",
   "execution_count": 53,
   "id": "118ba37b-0b11-47e3-810c-08aba3f84277",
   "metadata": {},
   "outputs": [
    {
     "data": {
      "text/plain": [
       "<Axes: ylabel='age'>"
      ]
     },
     "execution_count": 53,
     "metadata": {},
     "output_type": "execute_result"
    },
    {
     "data": {
      "image/png": "[encoded data removed]",
      "text/plain": [
       "<Figure size 640x480 with 1 Axes>"
      ]
     },
     "metadata": {},
     "output_type": "display_data"
    }
   ],
   "source": [
    "sns.boxplot(df['age'])"
   ]
  },
  {
   "cell_type": "code",
   "execution_count": 54,
   "id": "21aab037-c3ab-483c-bd80-b70e21e36abc",
   "metadata": {},
   "outputs": [
    {
     "data": {
      "text/plain": [
       "<Axes: ylabel='age'>"
      ]
     },
     "execution_count": 54,
     "metadata": {},
     "output_type": "execute_result"
    },
    {
     "data": {
      "image/png": "[encoded data removed]",
      "text/plain": [
       "<Figure size 640x480 with 1 Axes>"
      ]
     },
     "metadata": {},
     "output_type": "display_data"
    }
   ],
   "source": [
    "sns.violinplot(df['age'])"
   ]
  },
  {
   "cell_type": "code",
   "execution_count": 55,
   "id": "25c725ec-af9b-4a87-b606-d03a4b6c8a5c",
   "metadata": {},
   "outputs": [
    {
     "data": {
      "text/plain": [
       "array(['female', 'male'], dtype=object)"
      ]
     },
     "execution_count": 55,
     "metadata": {},
     "output_type": "execute_result"
    }
   ],
   "source": [
    "df['sex'].unique()"
   ]
  },
  {
   "cell_type": "code",
   "execution_count": 56,
   "id": "b7faa09a-158c-4c2b-89af-2fe0b7975c9a",
   "metadata": {},
   "outputs": [
    {
     "data": {
      "text/plain": [
       "<Axes: xlabel='count', ylabel='sex'>"
      ]
     },
     "execution_count": 56,
     "metadata": {},
     "output_type": "execute_result"
    },
    {
     "data": {
      "image/png": "[encoded data removed]",
      "text/plain": [
       "<Figure size 640x480 with 1 Axes>"
      ]
     },
     "metadata": {},
     "output_type": "display_data"
    }
   ],
   "source": [
    "sns.countplot(df['sex'])"
   ]
  },
  {
   "cell_type": "code",
   "execution_count": 57,
   "id": "309942f4-e467-4c4c-a190-7d9516dea2b1",
   "metadata": {},
   "outputs": [
    {
     "data": {
      "text/plain": [
       "array([27.9  , 33.77 , 33.   , 22.705, 28.88 , 25.74 , 33.44 , 27.74 ,\n",
       "       29.83 , 25.84 , 26.22 , 26.29 , 34.4  , 39.82 , 42.13 , 24.6  ,\n",
       "       30.78 , 23.845, 40.3  , 35.3  , 36.005, 32.4  , 34.1  , 31.92 ,\n",
       "       28.025, 27.72 , 23.085, 32.775, 17.385, 36.3  , 35.6  , 26.315,\n",
       "       28.6  , 28.31 , 36.4  , 20.425, 32.965, 20.8  , 36.67 , 39.9  ,\n",
       "       26.6  , 36.63 , 21.78 , 30.8  , 37.05 , 37.3  , 38.665, 34.77 ,\n",
       "       24.53 , 35.2  , 35.625, 33.63 , 28.   , 34.43 , 28.69 , 36.955,\n",
       "       31.825, 31.68 , 22.88 , 37.335, 27.36 , 33.66 , 24.7  , 25.935,\n",
       "       22.42 , 28.9  , 39.1  , 36.19 , 23.98 , 24.75 , 28.5  , 28.1  ,\n",
       "       32.01 , 27.4  , 34.01 , 29.59 , 35.53 , 39.805, 26.885, 38.285,\n",
       "       37.62 , 41.23 , 34.8  , 22.895, 31.16 , 27.2  , 26.98 , 39.49 ,\n",
       "       24.795, 31.3  , 38.28 , 19.95 , 19.3  , 31.6  , 25.46 , 30.115,\n",
       "       29.92 , 27.5  , 28.4  , 30.875, 27.94 , 35.09 , 29.7  , 35.72 ,\n",
       "       32.205, 28.595, 49.06 , 27.17 , 23.37 , 37.1  , 23.75 , 28.975,\n",
       "       31.35 , 33.915, 28.785, 28.3  , 37.4  , 17.765, 34.7  , 26.505,\n",
       "       22.04 , 35.9  , 25.555, 28.05 , 25.175, 31.9  , 36.   , 32.49 ,\n",
       "       25.3  , 29.735, 38.83 , 30.495, 37.73 , 37.43 , 24.13 , 37.145,\n",
       "       39.52 , 24.42 , 27.83 , 36.85 , 39.6  , 29.8  , 29.64 , 28.215,\n",
       "       37.   , 33.155, 18.905, 41.47 , 30.3  , 15.96 , 33.345, 37.7  ,\n",
       "       27.835, 29.2  , 26.41 , 30.69 , 41.895, 30.9  , 32.2  , 32.11 ,\n",
       "       31.57 , 26.2  , 30.59 , 32.8  , 18.05 , 39.33 , 32.23 , 24.035,\n",
       "       36.08 , 22.3  , 26.4  , 31.8  , 26.73 , 23.1  , 23.21 , 33.7  ,\n",
       "       33.25 , 24.64 , 33.88 , 38.06 , 41.91 , 31.635, 36.195, 17.8  ,\n",
       "       24.51 , 22.22 , 38.39 , 29.07 , 22.135, 26.8  , 30.02 , 35.86 ,\n",
       "       20.9  , 17.29 , 34.21 , 25.365, 40.15 , 24.415, 25.2  , 26.84 ,\n",
       "       24.32 , 42.35 , 19.8  , 32.395, 30.2  , 29.37 , 34.2  , 27.455,\n",
       "       27.55 , 20.615, 24.3  , 31.79 , 21.56 , 28.12 , 40.565, 27.645,\n",
       "       31.2  , 26.62 , 48.07 , 36.765, 33.4  , 45.54 , 28.82 , 22.99 ,\n",
       "       27.7  , 25.41 , 34.39 , 22.61 , 37.51 , 38.   , 33.33 , 34.865,\n",
       "       33.06 , 35.97 , 31.4  , 25.27 , 40.945, 34.105, 36.48 , 33.8  ,\n",
       "       36.7  , 36.385, 34.5  , 32.3  , 27.6  , 29.26 , 35.75 , 23.18 ,\n",
       "       25.6  , 35.245, 43.89 , 20.79 , 30.5  , 21.7  , 21.89 , 24.985,\n",
       "       32.015, 30.4  , 21.09 , 22.23 , 32.9  , 24.89 , 31.46 , 17.955,\n",
       "       30.685, 43.34 , 39.05 , 30.21 , 31.445, 19.855, 31.02 , 38.17 ,\n",
       "       20.6  , 47.52 , 20.4  , 38.38 , 24.31 , 23.6  , 21.12 , 30.03 ,\n",
       "       17.48 , 20.235, 17.195, 23.9  , 35.15 , 35.64 , 22.6  , 39.16 ,\n",
       "       27.265, 29.165, 16.815, 33.1  , 26.9  , 33.11 , 31.73 , 46.75 ,\n",
       "       29.45 , 32.68 , 33.5  , 43.01 , 36.52 , 26.695, 25.65 , 29.6  ,\n",
       "       38.6  , 23.4  , 46.53 , 30.14 , 30.   , 38.095, 28.38 , 28.7  ,\n",
       "       33.82 , 24.09 , 32.67 , 25.1  , 32.56 , 41.325, 39.5  , 34.3  ,\n",
       "       31.065, 21.47 , 25.08 , 43.4  , 25.7  , 27.93 , 39.2  , 26.03 ,\n",
       "       30.25 , 28.93 , 35.7  , 35.31 , 31.   , 44.22 , 26.07 , 25.8  ,\n",
       "       39.425, 40.48 , 38.9  , 47.41 , 35.435, 46.7  , 46.2  , 21.4  ,\n",
       "       23.8  , 44.77 , 32.12 , 29.1  , 37.29 , 43.12 , 36.86 , 34.295,\n",
       "       23.465, 45.43 , 23.65 , 20.7  , 28.27 , 35.91 , 29.   , 19.57 ,\n",
       "       31.13 , 21.85 , 40.26 , 33.725, 29.48 , 32.6  , 37.525, 23.655,\n",
       "       37.8  , 19.   , 21.3  , 33.535, 42.46 , 38.95 , 36.1  , 29.3  ,\n",
       "       39.7  , 38.19 , 42.4  , 34.96 , 42.68 , 31.54 , 29.81 , 21.375,\n",
       "       40.81 , 17.4  , 20.3  , 18.5  , 26.125, 41.69 , 24.1  , 36.2  ,\n",
       "       40.185, 39.27 , 34.87 , 44.745, 29.545, 23.54 , 40.47 , 40.66 ,\n",
       "       36.6  , 35.4  , 27.075, 28.405, 21.755, 40.28 , 30.1  , 32.1  ,\n",
       "       23.7  , 35.5  , 29.15 , 27.   , 37.905, 22.77 , 22.8  , 34.58 ,\n",
       "       27.1  , 19.475, 26.7  , 34.32 , 24.4  , 41.14 , 22.515, 41.8  ,\n",
       "       26.18 , 42.24 , 26.51 , 35.815, 41.42 , 36.575, 42.94 , 21.01 ,\n",
       "       24.225, 17.67 , 31.5  , 31.1  , 32.78 , 32.45 , 50.38 , 47.6  ,\n",
       "       25.4  , 29.9  , 43.7  , 24.86 , 28.8  , 29.5  , 29.04 , 38.94 ,\n",
       "       44.   , 20.045, 40.92 , 35.1  , 29.355, 32.585, 32.34 , 39.8  ,\n",
       "       24.605, 33.99 , 28.2  , 25.   , 33.2  , 23.2  , 20.1  , 32.5  ,\n",
       "       37.18 , 46.09 , 39.93 , 35.8  , 31.255, 18.335, 42.9  , 26.79 ,\n",
       "       39.615, 25.9  , 25.745, 28.16 , 23.56 , 40.5  , 35.42 , 39.995,\n",
       "       34.675, 20.52 , 23.275, 36.29 , 32.7  , 19.19 , 20.13 , 23.32 ,\n",
       "       45.32 , 34.6  , 18.715, 21.565, 23.   , 37.07 , 52.58 , 42.655,\n",
       "       21.66 , 32.   , 18.3  , 47.74 , 22.1  , 19.095, 31.24 , 29.925,\n",
       "       20.35 , 25.85 , 42.75 , 18.6  , 23.87 , 45.9  , 21.5  , 30.305,\n",
       "       44.88 , 41.1  , 40.37 , 28.49 , 33.55 , 40.375, 27.28 , 17.86 ,\n",
       "       33.3  , 39.14 , 21.945, 24.97 , 23.94 , 34.485, 21.8  , 23.3  ,\n",
       "       36.96 , 21.28 , 29.4  , 27.3  , 37.9  , 37.715, 23.76 , 25.52 ,\n",
       "       27.61 , 27.06 , 39.4  , 34.9  , 22.   , 30.36 , 27.8  , 53.13 ,\n",
       "       39.71 , 32.87 , 44.7  , 30.97 ])"
      ]
     },
     "execution_count": 57,
     "metadata": {},
     "output_type": "execute_result"
    }
   ],
   "source": [
    "df['bmi'].unique()"
   ]
  },
  {
   "cell_type": "code",
   "execution_count": 58,
   "id": "990eabcc-e9a5-4e48-bb08-762dda69eceb",
   "metadata": {},
   "outputs": [
    {
     "data": {
      "image/png": "[encoded data removed]",
      "text/plain": [
       "<Figure size 640x480 with 1 Axes>"
      ]
     },
     "metadata": {},
     "output_type": "display_data"
    },
    {
     "data": {
      "image/png": "[encoded data removed]",
      "text/plain": [
       "<Figure size 640x480 with 1 Axes>"
      ]
     },
     "metadata": {},
     "output_type": "display_data"
    },
    {
     "name": "stdout",
     "output_type": "stream",
     "text": [
      "column is non-gaussian\n"
     ]
    }
   ],
   "source": [
    "check_gaussian(df['bmi'])"
   ]
  },
  {
   "cell_type": "code",
   "execution_count": 59,
   "id": "97334373-aac5-44d0-a7fc-2570484a7a5e",
   "metadata": {},
   "outputs": [
    {
     "data": {
      "text/plain": [
       "<Axes: ylabel='bmi'>"
      ]
     },
     "execution_count": 59,
     "metadata": {},
     "output_type": "execute_result"
    },
    {
     "data": {
      "image/png": "[encoded data removed]",
      "text/plain": [
       "<Figure size 640x480 with 1 Axes>"
      ]
     },
     "metadata": {},
     "output_type": "display_data"
    }
   ],
   "source": [
    "sns.boxplot(df['bmi'])"
   ]
  },
  {
   "cell_type": "code",
   "execution_count": 60,
   "id": "bf44f1b6-9cd4-4088-afd0-34c5d4b33955",
   "metadata": {},
   "outputs": [
    {
     "data": {
      "text/plain": [
       "0.2840471105987448"
      ]
     },
     "execution_count": 60,
     "metadata": {},
     "output_type": "execute_result"
    }
   ],
   "source": [
    "df['bmi'].skew()"
   ]
  },
  {
   "cell_type": "code",
   "execution_count": 61,
   "id": "b44c6f46-a3dc-4ae7-9f2f-12bb8e94a61d",
   "metadata": {},
   "outputs": [],
   "source": [
    "def fix_outliers_NG(data):\n",
    "    q1=np.percentile(data,25)\n",
    "    q3=np.percentile(data,75)\n",
    "    iqr=q3-q1\n",
    "    lb=q1-(1.5*iqr)\n",
    "    ub=q3+(1.5*iqr)\n",
    "    data=data.apply(lambda x:lb if (x<lb) else ub if (x>ub) else x)\n",
    "    return data"
   ]
  },
  {
   "cell_type": "code",
   "execution_count": 62,
   "id": "259e1e93-f46a-433f-8c14-13d35bb82d84",
   "metadata": {},
   "outputs": [
    {
     "data": {
      "text/plain": [
       "0       27.900\n",
       "1       33.770\n",
       "2       33.000\n",
       "3       22.705\n",
       "4       28.880\n",
       "         ...  \n",
       "1333    30.970\n",
       "1334    31.920\n",
       "1335    36.850\n",
       "1336    25.800\n",
       "1337    29.070\n",
       "Name: bmi, Length: 1338, dtype: float64"
      ]
     },
     "execution_count": 62,
     "metadata": {},
     "output_type": "execute_result"
    }
   ],
   "source": [
    "fix_outliers_NG(df['bmi'])"
   ]
  },
  {
   "cell_type": "code",
   "execution_count": 63,
   "id": "e00e2c0a-c3e4-49c4-a53f-f61cdb7d4a71",
   "metadata": {},
   "outputs": [
    {
     "data": {
      "text/plain": [
       "<Axes: ylabel='bmi'>"
      ]
     },
     "execution_count": 63,
     "metadata": {},
     "output_type": "execute_result"
    },
    {
     "data": {
      "image/png": "[encoded data removed]",
      "text/plain": [
       "<Figure size 640x480 with 1 Axes>"
      ]
     },
     "metadata": {},
     "output_type": "display_data"
    }
   ],
   "source": [
    "sns.boxplot(df['bmi'])"
   ]
  },
  {
   "cell_type": "code",
   "execution_count": 64,
   "id": "e36473bf-2f93-4457-b217-60b42103e069",
   "metadata": {},
   "outputs": [
    {
     "data": {
      "text/plain": [
       "0.2840471105987448"
      ]
     },
     "execution_count": 64,
     "metadata": {},
     "output_type": "execute_result"
    }
   ],
   "source": [
    "df['bmi'].skew()"
   ]
  },
  {
   "cell_type": "code",
   "execution_count": 65,
   "id": "f526d81d-804c-49fb-bf88-ffed696d8c69",
   "metadata": {},
   "outputs": [],
   "source": [
    "from sklearn.preprocessing import RobustScaler\n",
    "\n",
    "scaler = RobustScaler()\n",
    "df[['bmi']] = scaler.fit_transform(df[['bmi']])\n"
   ]
  },
  {
   "cell_type": "code",
   "execution_count": 67,
   "id": "50ffe013-4899-4c9e-bc1d-f8d2e09ea59e",
   "metadata": {},
   "outputs": [
    {
     "data": {
      "text/plain": [
       "<Axes: >"
      ]
     },
     "execution_count": 67,
     "metadata": {},
     "output_type": "execute_result"
    },
    {
     "data": {
      "image/png": "[encoded data removed]",
      "text/plain": [
       "<Figure size 640x480 with 1 Axes>"
      ]
     },
     "metadata": {},
     "output_type": "display_data"
    }
   ],
   "source": [
    "sns.boxplot(df[['bmi']])"
   ]
  },
  {
   "cell_type": "code",
   "execution_count": 68,
   "id": "927f5a0d-e6bb-4d48-8e8a-556f7378039b",
   "metadata": {},
   "outputs": [
    {
     "data": {
      "text/plain": [
       "Index(['age', 'sex', 'bmi', 'children', 'smoker', 'region', 'charges'], dtype='object')"
      ]
     },
     "execution_count": 68,
     "metadata": {},
     "output_type": "execute_result"
    }
   ],
   "source": [
    "df.columns"
   ]
  },
  {
   "cell_type": "code",
   "execution_count": 76,
   "id": "1fcdff5e-ffcf-4fae-bfe0-504f6ed4938b",
   "metadata": {},
   "outputs": [
    {
     "data": {
      "text/plain": [
       "array([0, 1, 3, 2, 5, 4], dtype=int64)"
      ]
     },
     "execution_count": 76,
     "metadata": {},
     "output_type": "execute_result"
    }
   ],
   "source": [
    "df['children'].unique()"
   ]
  },
  {
   "cell_type": "code",
   "execution_count": 77,
   "id": "c9b7ff17-3d44-4c61-8392-e6e638003c7a",
   "metadata": {},
   "outputs": [
    {
     "data": {
      "text/plain": [
       "children\n",
       "0    574\n",
       "1    324\n",
       "2    240\n",
       "3    157\n",
       "4     25\n",
       "5     18\n",
       "Name: count, dtype: int64"
      ]
     },
     "execution_count": 77,
     "metadata": {},
     "output_type": "execute_result"
    }
   ],
   "source": [
    "df['children'].value_counts()"
   ]
  },
  {
   "cell_type": "code",
   "execution_count": 78,
   "id": "f7d5c113-45c1-4290-9a3b-1bb8e1e21254",
   "metadata": {},
   "outputs": [
    {
     "data": {
      "image/png": "[encoded data removed]",
      "text/plain": [
       "<Figure size 640x480 with 1 Axes>"
      ]
     },
     "metadata": {},
     "output_type": "display_data"
    },
    {
     "data": {
      "image/png": "[encoded data removed]",
      "text/plain": [
       "<Figure size 640x480 with 1 Axes>"
      ]
     },
     "metadata": {},
     "output_type": "display_data"
    },
    {
     "name": "stdout",
     "output_type": "stream",
     "text": [
      "column is non-gaussian\n"
     ]
    }
   ],
   "source": [
    "check_gaussian(df['children'])"
   ]
  },
  {
   "cell_type": "code",
   "execution_count": 79,
   "id": "069afa25-70f8-4aa8-a267-35653d9fa631",
   "metadata": {},
   "outputs": [
    {
     "data": {
      "text/plain": [
       "<Axes: ylabel='children'>"
      ]
     },
     "execution_count": 79,
     "metadata": {},
     "output_type": "execute_result"
    },
    {
     "data": {
      "image/png": "[encoded data removed]",
      "text/plain": [
       "<Figure size 640x480 with 1 Axes>"
      ]
     },
     "metadata": {},
     "output_type": "display_data"
    }
   ],
   "source": [
    "sns.boxplot(df['children'])"
   ]
  },
  {
   "cell_type": "code",
   "execution_count": 81,
   "id": "e68ea73b-7b86-49d8-b3dc-35c4b573aa39",
   "metadata": {},
   "outputs": [
    {
     "data": {
      "text/plain": [
       "array(['yes', 'no'], dtype=object)"
      ]
     },
     "execution_count": 81,
     "metadata": {},
     "output_type": "execute_result"
    }
   ],
   "source": [
    "df['smoker'].unique()"
   ]
  },
  {
   "cell_type": "code",
   "execution_count": 82,
   "id": "6fb275ec-8d28-422a-b9e9-80e9b5396ba2",
   "metadata": {},
   "outputs": [
    {
     "data": {
      "text/plain": [
       "<Axes: xlabel='count', ylabel='smoker'>"
      ]
     },
     "execution_count": 82,
     "metadata": {},
     "output_type": "execute_result"
    },
    {
     "data": {
      "image/png": "[encoded data removed]",
      "text/plain": [
       "<Figure size 640x480 with 1 Axes>"
      ]
     },
     "metadata": {},
     "output_type": "display_data"
    }
   ],
   "source": [
    "sns.countplot(df['smoker'])"
   ]
  },
  {
   "cell_type": "code",
   "execution_count": 84,
   "id": "cf3aafd9-2ffb-4f3d-85e6-eda59bed65e2",
   "metadata": {},
   "outputs": [
    {
     "data": {
      "text/plain": [
       "array(['southwest', 'southeast', 'northwest', 'northeast'], dtype=object)"
      ]
     },
     "execution_count": 84,
     "metadata": {},
     "output_type": "execute_result"
    }
   ],
   "source": [
    "df['region'].unique()"
   ]
  },
  {
   "cell_type": "code",
   "execution_count": 85,
   "id": "3787072e-f898-478d-bf67-66fc4f600167",
   "metadata": {},
   "outputs": [
    {
     "data": {
      "text/plain": [
       "<Axes: xlabel='count', ylabel='region'>"
      ]
     },
     "execution_count": 85,
     "metadata": {},
     "output_type": "execute_result"
    },
    {
     "data": {
      "image/png": "[encoded data removed]",
      "text/plain": [
       "<Figure size 640x480 with 1 Axes>"
      ]
     },
     "metadata": {},
     "output_type": "display_data"
    }
   ],
   "source": [
    "sns.countplot(df['region'])"
   ]
  },
  {
   "cell_type": "code",
   "execution_count": 87,
   "id": "7743242e-d651-4c95-b9a4-9b9e8baef58d",
   "metadata": {},
   "outputs": [
    {
     "data": {
      "text/plain": [
       "array([16884.924 ,  1725.5523,  4449.462 , ...,  1629.8335,  2007.945 ,\n",
       "       29141.3603])"
      ]
     },
     "execution_count": 87,
     "metadata": {},
     "output_type": "execute_result"
    }
   ],
   "source": [
    "df['charges'].unique()"
   ]
  },
  {
   "cell_type": "code",
   "execution_count": 88,
   "id": "f83039a4-e985-4018-bdf3-30c3ba9cb1c8",
   "metadata": {},
   "outputs": [
    {
     "data": {
      "image/png": "[encoded data removed]",
      "text/plain": [
       "<Figure size 640x480 with 1 Axes>"
      ]
     },
     "metadata": {},
     "output_type": "display_data"
    },
    {
     "data": {
      "image/png": "[encoded data removed]",
      "text/plain": [
       "<Figure size 640x480 with 1 Axes>"
      ]
     },
     "metadata": {},
     "output_type": "display_data"
    },
    {
     "name": "stdout",
     "output_type": "stream",
     "text": [
      "column is non-gaussian\n"
     ]
    }
   ],
   "source": [
    "check_gaussian(df['charges'])"
   ]
  },
  {
   "cell_type": "code",
   "execution_count": 89,
   "id": "77cd1fe4-016a-43e9-b159-e8db72b51ca6",
   "metadata": {},
   "outputs": [
    {
     "data": {
      "text/plain": [
       "<Axes: ylabel='charges'>"
      ]
     },
     "execution_count": 89,
     "metadata": {},
     "output_type": "execute_result"
    },
    {
     "data": {
      "image/png": "[encoded data removed]",
      "text/plain": [
       "<Figure size 640x480 with 1 Axes>"
      ]
     },
     "metadata": {},
     "output_type": "display_data"
    }
   ],
   "source": [
    "sns.boxplot(df['charges'])"
   ]
  },
  {
   "cell_type": "code",
   "execution_count": 90,
   "id": "817e60ed-5ca4-4301-a3c6-99ca0a69d90a",
   "metadata": {},
   "outputs": [
    {
     "data": {
      "text/plain": [
       "0       16884.92400\n",
       "1        1725.55230\n",
       "2        4449.46200\n",
       "3       21984.47061\n",
       "4        3866.85520\n",
       "           ...     \n",
       "1333    10600.54830\n",
       "1334     2205.98080\n",
       "1335     1629.83350\n",
       "1336     2007.94500\n",
       "1337    29141.36030\n",
       "Name: charges, Length: 1338, dtype: float64"
      ]
     },
     "execution_count": 90,
     "metadata": {},
     "output_type": "execute_result"
    }
   ],
   "source": [
    "fix_outliers_NG(df['charges'])"
   ]
  },
  {
   "cell_type": "code",
   "execution_count": 142,
   "id": "1cfb61f6-d1a9-4fd6-a01b-ba2b5e4d58d5",
   "metadata": {},
   "outputs": [
    {
     "data": {
      "text/plain": [
       "1.515879658024039"
      ]
     },
     "execution_count": 142,
     "metadata": {},
     "output_type": "execute_result"
    }
   ],
   "source": [
    "df['charges'].skew()"
   ]
  },
  {
   "cell_type": "code",
   "execution_count": 91,
   "id": "a8d56def-75d6-4fb2-ae9b-d1c5cd212741",
   "metadata": {},
   "outputs": [
    {
     "data": {
      "text/plain": [
       "<Axes: ylabel='charges'>"
      ]
     },
     "execution_count": 91,
     "metadata": {},
     "output_type": "execute_result"
    },
    {
     "data": {
      "image/png": "[encoded data removed]",
      "text/plain": [
       "<Figure size 640x480 with 1 Axes>"
      ]
     },
     "metadata": {},
     "output_type": "display_data"
    }
   ],
   "source": [
    "sns.boxplot(df['charges'])"
   ]
  },
  {
   "cell_type": "code",
   "execution_count": 178,
   "id": "28a6b798-ceea-41d2-b383-476a944dad0f",
   "metadata": {},
   "outputs": [],
   "source": [
    "df['log_charges'] = np.log(df['charges'])\n"
   ]
  },
  {
   "cell_type": "code",
   "execution_count": 180,
   "id": "34763f88-993b-4554-bc72-03d20b4b2986",
   "metadata": {},
   "outputs": [
    {
     "data": {
      "text/plain": [
       "-0.957100096793604"
      ]
     },
     "execution_count": 180,
     "metadata": {},
     "output_type": "execute_result"
    }
   ],
   "source": [
    "df['log_charges'].skew()"
   ]
  },
  {
   "cell_type": "code",
   "execution_count": 181,
   "id": "788e58ad-d028-4f40-9853-4a0e75b49171",
   "metadata": {},
   "outputs": [
    {
     "data": {
      "text/plain": [
       "array([-4.61218505e-01,             nan,  5.73833387e-02,  4.96013223e-01,\n",
       "        4.37293353e-01, -1.94078297e+00,  9.32318784e-01, -2.12916313e+00,\n",
       "       -2.27736758e+00,  8.36057191e-01, -1.12926166e+00,  8.67055836e-01,\n",
       "       -9.46306864e-01, -8.53205125e-01, -1.41642784e+00,  9.02068745e-01,\n",
       "        7.89387713e-01, -9.97618585e-01,  1.25668905e+00, -6.47104847e-01,\n",
       "        9.37680504e-01,  1.18168980e+00, -5.62943114e-02, -1.29850946e+00,\n",
       "        9.02006552e-01,  1.75765493e-01,  8.68491920e-01,  1.16408686e+00,\n",
       "       -1.03540819e+00,  7.39209289e-01,  1.52698988e-01,  5.57704697e-01,\n",
       "       -8.03209940e-01, -8.96901811e-01, -3.62529755e-01, -5.03016830e-01,\n",
       "       -1.61797539e+00, -1.53470717e+00, -1.79612694e+00,  8.47922113e-01,\n",
       "       -1.97474503e+00,  9.39726389e-01, -1.55070163e-02,  1.05562827e+00,\n",
       "       -1.95110229e+00, -1.94555860e+00, -2.03175760e+00,  5.58585660e-01,\n",
       "        1.15868221e+00, -1.47466731e+00, -2.64581212e+00,  9.07947095e-02,\n",
       "       -6.14185542e-01,  5.29606236e-03,  5.94340194e-01, -3.75016896e-01,\n",
       "        1.15244999e+00, -2.10962970e+00, -1.56048622e+00, -1.73158168e+00,\n",
       "        5.62187262e-01, -1.78371360e+00, -2.01730260e-01,  9.30489003e-01,\n",
       "       -2.78714944e+00, -4.35410363e-01, -3.85283115e+00,  6.74182281e-01,\n",
       "       -1.24295241e+00, -1.03328285e+00, -1.89903157e+00,  4.10565005e-01,\n",
       "        4.13524326e-01, -2.15737855e-01, -3.04504085e-01, -4.60603168e-02,\n",
       "        9.68341032e-01, -3.17854410e+00, -2.02056310e+00, -1.17285069e-01,\n",
       "       -4.88454786e-03, -6.62309856e-01,  8.40156877e-01, -1.37845436e-01,\n",
       "        5.61861838e-03,  8.10679698e-01, -2.41023334e+00, -2.45176275e+00,\n",
       "       -1.08439021e+00,  1.19833489e+00, -2.42385470e+00, -1.62045631e+00,\n",
       "        1.06071511e+00, -1.32101905e+00, -1.49731313e+00, -3.81508026e+00,\n",
       "       -7.68222594e-01, -1.18722588e+00,  8.46796135e-01, -1.61730900e+00,\n",
       "       -2.53241974e-02, -9.72670439e-01, -2.50325344e+00,  2.77136905e-01,\n",
       "       -2.30857887e+00,  7.58147055e-01, -1.60659302e-01, -1.51902234e+00,\n",
       "        2.21176685e-01, -9.46273762e-01, -1.39409346e+00, -1.67717829e-01,\n",
       "       -4.00741211e-01,  8.95247760e-01,  7.73018437e-01,  5.26257204e-01,\n",
       "        2.37819911e-01, -1.29273568e+00, -1.23888018e+00,  1.15905804e+00,\n",
       "        1.07536989e+00,  9.80286897e-01, -1.17759691e+00,  1.06558657e+00,\n",
       "       -1.71660484e+00,  7.16774499e-01, -1.57832843e+00, -4.34866599e-01,\n",
       "        2.63545945e-01,  8.13288493e-01, -7.12781770e-02,  1.12815067e+00,\n",
       "       -4.22705159e-01, -8.26195994e-01,  1.03428615e+00, -3.92200175e+00,\n",
       "       -3.57369622e+00, -1.21047294e+00, -3.22495880e+00,  8.45528698e-02,\n",
       "        1.19133135e+00, -1.56138845e+00, -3.88755719e+00, -5.45455056e+00,\n",
       "       -8.92559177e-01,  1.17453458e+00,  3.33545449e-01, -8.81318632e-02,\n",
       "        1.01179136e+00, -5.42696389e-01,  5.69235036e-02,  9.03273486e-01,\n",
       "        2.63775009e-01, -1.41751114e+00, -1.29350017e+00, -1.67907895e-01,\n",
       "       -9.73647420e-02, -1.53549963e+00,  1.01216647e+00,  7.60477551e-01,\n",
       "       -3.55315275e+00, -2.42483306e+00,  2.50667925e-01,  7.85796413e-01,\n",
       "       -1.69522636e+00,  1.03140414e+00,  1.17534534e+00,  1.19052384e+00,\n",
       "        2.32315612e-01, -1.07853046e+00, -1.65393533e+00, -1.97953945e-01,\n",
       "       -9.85679133e-01, -1.46107858e+00, -9.60142319e-01,  1.00587295e+00,\n",
       "       -2.17540730e-01, -1.09772400e+00, -1.13232145e+00, -9.50490322e-01,\n",
       "       -2.00952454e+00, -1.58100102e+00, -1.37030811e+00, -9.18150796e-01,\n",
       "        2.46170145e-01, -3.91074146e+00, -2.89018163e+00, -9.80803821e-01,\n",
       "       -3.40205487e+00, -1.07822668e+00, -1.08199514e+00, -1.50298415e+00,\n",
       "        8.08275966e-01, -3.18723934e-01,  3.12937444e-02,  8.81929560e-01,\n",
       "       -5.20126792e-01,  3.92468208e-01, -7.49366604e-01,  1.01762386e+00,\n",
       "       -4.29412897e-02, -1.57051766e+00,  5.63367111e-01, -2.17282521e+00,\n",
       "       -6.01793235e+00, -5.01805985e-01, -7.52598294e-01, -8.06795250e-01,\n",
       "       -2.59593593e+00, -1.77595363e+00, -1.52867369e-01, -8.52454115e-01,\n",
       "       -2.54456512e-01, -8.59845676e-01,  4.97410953e-01,  1.14802675e+00,\n",
       "        1.14026075e+00,  9.16096954e-01, -3.37585966e+00, -2.33383187e-01,\n",
       "        1.40956236e-01, -1.29595772e+00, -9.64066830e-01, -1.31007976e+00,\n",
       "        8.44829426e-01,  4.62965256e-01,  3.40534961e-01, -1.26785510e+00,\n",
       "       -1.74799814e+00,  4.23958754e-02, -1.56024155e+00, -1.57685706e+00,\n",
       "       -2.27816520e+00, -2.47706137e+00,  6.99650094e-02, -7.10357427e-01,\n",
       "       -1.89799387e+00, -1.60025310e-01, -1.13034208e+00, -1.29436729e+00,\n",
       "        1.55877871e-01, -3.44424066e-02,  2.96098304e-01,  4.93221718e-01,\n",
       "        7.72529295e-01, -6.56296744e-01, -3.17359184e+00, -4.18578727e+00,\n",
       "       -1.34726252e+00,  1.19987230e+00, -2.39959551e+00,  2.40242552e-01,\n",
       "       -1.31585423e+00, -3.29398200e-01, -1.06824879e+00,  8.12479351e-01,\n",
       "        7.57531860e-02,  6.66192042e-01, -1.74739094e+00, -1.60899983e+00,\n",
       "       -1.69072212e-02, -1.79304549e+00,  4.32700538e-01,  3.13095145e-01,\n",
       "       -3.20161577e+00,  8.86072992e-01, -1.73428302e+00,  2.09818819e-01,\n",
       "       -3.21257830e+00,  1.19455180e+00, -9.37181711e-01, -1.21129236e+00,\n",
       "       -1.90796146e-01, -9.83809090e-01,  4.11863342e-01, -9.71281070e-01,\n",
       "        1.51964389e+00, -2.63965322e+00,  1.92470286e-01, -1.70807232e+00,\n",
       "        1.12028937e+00, -1.08808332e+00, -1.20251797e+00, -1.88560085e+00,\n",
       "       -3.36809330e-01,  9.44538611e-01, -2.04349137e+00, -1.70137845e+00,\n",
       "        1.11586134e+00,  6.25294183e-01, -1.13050759e+00, -1.43239823e+00,\n",
       "        1.41916395e+00, -3.54799930e+00, -1.21465413e+00, -3.66996205e-01,\n",
       "        1.06624336e+00, -1.02874008e+00, -1.57617932e+00, -6.88576185e-01,\n",
       "        7.05287362e-01, -1.95266517e+00, -5.73937632e-01, -3.86255155e-01,\n",
       "        3.14458505e-01,  9.19993082e-01,  1.03765657e+00, -1.65405135e+00,\n",
       "        1.57143966e-01,  7.44679153e-01, -2.19011743e+00,  9.51014688e-01,\n",
       "        7.51757007e-01, -1.46578597e+00, -1.81140852e+00, -1.79143274e+00,\n",
       "        1.03806157e+00, -2.82774950e+00, -7.15285092e+00, -8.61305824e-01,\n",
       "        2.66460729e-01, -9.99940924e-02, -1.20474770e+00,  6.76460941e-01,\n",
       "       -1.15160088e+00, -2.33235356e-01, -2.75212446e+00, -1.36171937e+00,\n",
       "       -3.34673692e+00, -2.29612224e+00, -1.42481225e+00,  2.50390291e-01,\n",
       "        3.57307851e-01, -8.64599028e-01,  7.37507442e-02,  3.94562017e-01,\n",
       "        1.02539207e+00,  9.45188903e-01,  1.11608669e+00,  1.12950580e+00,\n",
       "       -1.34389009e+00,  1.12759031e+00, -1.38407569e+00, -2.73172154e+00,\n",
       "        9.48467438e-01, -3.20748308e+00, -1.85467106e+00,  3.48113553e-01,\n",
       "        7.59203790e-01,  5.09399710e-01,  9.53977789e-01, -2.01012688e+00,\n",
       "       -4.31119967e+00, -4.57797078e+00,  1.07936596e+00, -2.60160642e+00,\n",
       "       -2.79783182e+00, -1.45948871e+00, -4.16413397e+00, -1.15994540e+00,\n",
       "       -2.09390022e+00, -1.42933509e+00, -3.18244070e+00, -1.84390199e+00,\n",
       "       -1.19631640e+00, -2.79933097e+00,  9.75079239e-01, -4.91969027e-01,\n",
       "       -1.75927254e-01, -2.85721112e+00, -5.20653666e+00, -9.44989683e-01,\n",
       "       -4.07668632e+00,  9.58672676e-01,  8.12158693e-01,  1.08463640e+00,\n",
       "       -2.94456612e-01,  1.04609316e+00, -3.11454707e+00, -1.61961982e+00,\n",
       "       -1.58323120e-01, -9.01970446e-01, -1.57970515e+00, -4.29279592e-01,\n",
       "        1.39675603e-01,  8.16576728e-01, -2.08633049e-01, -1.57610545e+00,\n",
       "       -8.79749464e-01,  4.44461646e-01, -1.90623553e+00, -1.24827771e+00,\n",
       "       -3.52274484e-01, -2.31229952e+00, -3.19440345e+00, -2.93022641e-01,\n",
       "       -7.96639650e+00,  2.40716481e-01, -1.26482358e+00, -1.07140852e+00,\n",
       "       -7.23984772e-03, -2.87235102e-01, -1.57386572e+00, -3.33797891e-01,\n",
       "       -8.80800188e-01,  9.04850024e-01,  4.72903996e-01, -5.89118475e+00,\n",
       "       -1.98689743e+00,  1.63926090e-01,  1.34675851e+00, -1.33178367e+00,\n",
       "       -5.76333836e-01,  1.06247460e+00, -4.36311369e-02,  9.31843957e-01,\n",
       "       -1.08728609e+00, -1.61704007e+00, -1.65422542e+00, -1.30088837e+00,\n",
       "       -1.39745027e+00,  8.05868571e-01,  4.22267213e-01, -2.84753864e+00,\n",
       "        1.09659468e+00, -3.18849447e+00, -2.27798460e+00,  8.51693809e-01,\n",
       "       -9.20978983e-01,  1.01177392e+00, -1.62309358e+00,  2.13031632e-01,\n",
       "        9.76401181e-01, -6.14607038e-01, -2.97658102e-01, -2.01692427e+00,\n",
       "        1.12712718e+00, -1.41606194e+00, -1.69073635e+00, -1.15539917e+00,\n",
       "        3.42388369e-01,  1.13097481e+00, -1.40713215e-01,  4.04734634e-01,\n",
       "       -1.53528957e+00,  5.16669600e-01, -2.43643690e+00,  1.07370284e+00,\n",
       "       -1.04787845e+00, -1.17309157e+00, -1.33161763e-01,  1.19450195e+00,\n",
       "       -1.29399598e+00, -7.20713889e-01, -3.82882308e-01,  7.16051777e-01,\n",
       "       -8.66933804e-01,  4.05675188e-02,  7.69491405e-01, -1.17907437e+00,\n",
       "       -1.07308778e+00, -1.07029057e+00,  2.93033403e-01, -1.50183672e+00,\n",
       "       -1.06826238e+00, -2.81206777e+00, -1.42855830e+00,  6.47030439e-01,\n",
       "       -4.72449777e+00, -4.26308722e+00, -1.19533929e+00, -1.64703980e+00,\n",
       "        9.13469477e-01, -1.20245996e-01, -1.70971918e+00,  1.16320490e+00,\n",
       "        9.11825160e-01, -1.13052466e-01,  1.00834164e+00, -1.30468939e+00,\n",
       "        9.78300372e-01,  4.72494585e-01, -8.48710165e-01, -4.60901132e+00,\n",
       "        3.61697736e-01,  2.03510686e-01, -2.19841362e+00, -5.65968013e-01,\n",
       "       -3.60774039e+00,  3.04488905e-01, -1.92298547e-01, -4.73085703e-01,\n",
       "        4.65727309e-01, -8.29800620e-01, -2.78250097e+00, -5.25117301e-01,\n",
       "       -9.71111390e-01, -3.99601953e-01,  7.45994646e-01, -4.16645441e-03,\n",
       "        2.66471969e-01,  1.52459782e-01, -3.02869531e+00, -2.37319163e-01,\n",
       "        8.26645684e-01, -1.46746951e+00, -1.34083720e+00,  3.35117255e-01,\n",
       "        7.89769794e-01,  1.01480856e+00, -5.20807455e-01,  2.60226399e-02,\n",
       "       -3.23494170e+00,  3.27061278e-02,  1.08003386e+00, -1.00269646e+00,\n",
       "       -1.20449100e+00, -1.47865648e+00,  8.59348644e-01,  9.36074916e-01,\n",
       "        9.69924487e-02, -9.20818024e-02,  7.05446970e-01, -1.77736149e+00,\n",
       "        4.91246819e-02,  1.08224578e+00,  9.36143988e-01, -8.64567157e-01,\n",
       "        2.91537495e-01, -2.28384851e+00, -3.30894941e-01, -1.70077077e+00,\n",
       "        1.20202455e+00, -8.73525524e-01, -2.04030829e+00,  9.40881063e-01,\n",
       "       -9.52099244e-01, -1.47785560e+00, -1.13566697e+00,  7.53906659e-01,\n",
       "       -7.22189502e-01, -1.55941028e+00, -7.47025939e-01, -2.10458535e-01,\n",
       "       -2.12986001e+00, -1.79786716e+00, -3.47923392e+00, -2.29831555e+00,\n",
       "        9.98376026e-01, -1.83228442e+00,  7.23207087e-01, -1.82558376e+00,\n",
       "        1.08621856e+00,  1.38223553e-01, -4.75801400e-01, -1.84982652e+00,\n",
       "       -1.79277886e+00, -7.51112647e-02, -2.52056477e+00, -2.37042514e+00,\n",
       "       -1.72021031e+00,  1.00679907e+00,  2.18045970e-01, -2.12201705e+00,\n",
       "        8.09748664e-01,  8.87359470e-01,  7.33701050e-01,  1.14193423e+00,\n",
       "       -2.22958886e-01,  9.74184079e-01, -8.92884332e-01, -2.65970526e+00,\n",
       "       -8.71813971e-01, -4.93187792e-02, -2.97243629e+00, -1.45207774e-01,\n",
       "       -1.94379038e+00,  8.38286178e-01,  3.99087343e-01, -3.86936678e+00,\n",
       "       -1.83093561e+00,  1.28953718e+00, -2.13296899e+00, -1.42785331e+00,\n",
       "        9.75359890e-01, -1.98600133e+00,  9.35983563e-01, -8.58299401e-01,\n",
       "       -2.16710448e-01, -2.00621064e+00, -4.22812840e-01,  9.58432171e-02,\n",
       "       -1.93908421e+00,  1.98029912e-01, -1.77093258e-01, -5.20451394e+00,\n",
       "       -2.85277486e-01,  8.58668559e-01, -9.80738568e-01,  4.03270298e-02,\n",
       "       -1.15618025e+00, -1.00784052e+00, -1.18531254e+00, -2.29786535e-01,\n",
       "        6.98438662e-01, -3.01774536e+00, -2.97059624e-01,  8.38717640e-01,\n",
       "        8.91941386e-01, -8.63844615e-02, -1.38958301e+00,  1.75394937e-01,\n",
       "       -2.12247125e+00, -1.22145382e+00,  9.97927574e-01,  3.41511673e-01,\n",
       "       -2.28407605e+00, -1.53797616e+00,  1.44822234e+00, -9.83225409e-02,\n",
       "       -1.34585478e+00, -1.80178545e+00, -8.53595897e-01, -1.43188705e+00,\n",
       "        1.15812280e+00,  1.21725135e+00,  8.63718719e-01, -2.50113183e-01,\n",
       "       -5.52139440e-01, -6.12924782e-01, -1.75637456e+00, -1.82215174e+00,\n",
       "        5.52734962e-01, -2.68016750e+00, -2.48768966e+00,  3.88232533e-01,\n",
       "       -2.19703067e+00,  7.37236573e-01, -8.47992691e-01, -4.40324139e-01,\n",
       "       -2.02079430e+00,  9.45782502e-02,  2.41735535e-01, -8.86980653e-01,\n",
       "        1.16165400e+00,  8.89496111e-01,  7.60076046e-01, -1.54076960e+00,\n",
       "        1.49775522e+00,  1.14345458e+00,  8.71560087e-01, -1.87411779e-03,\n",
       "       -5.69445785e-01,  1.59086197e-02,  7.22925911e-01,  8.19905449e-01,\n",
       "       -2.37517596e-01, -1.83977222e+00, -1.62518474e-01,  4.53048162e-01,\n",
       "       -1.19576401e+00,  1.06486807e+00, -1.15174130e+00,  8.94965947e-02,\n",
       "       -2.53501247e+00, -1.29873459e+00, -2.13015201e+00, -1.76864257e+00,\n",
       "       -2.27887377e+00,  5.07118731e-01])"
      ]
     },
     "execution_count": 181,
     "metadata": {},
     "output_type": "execute_result"
    }
   ],
   "source": [
    "df['log_charges'].unique()"
   ]
  },
  {
   "cell_type": "code",
   "execution_count": 145,
   "id": "07628689-036a-40c5-9bb5-c74a88dc662d",
   "metadata": {},
   "outputs": [],
   "source": [
    "from sklearn.preprocessing import RobustScaler\n",
    "\n",
    "scaler = RobustScaler()\n",
    "df[['charges']] = scaler.fit_transform(df[['charges']])\n"
   ]
  },
  {
   "cell_type": "code",
   "execution_count": 146,
   "id": "6c7e6a58-eb86-4afb-b001-08150c683c0e",
   "metadata": {},
   "outputs": [
    {
     "data": {
      "text/plain": [
       "<Axes: ylabel='charges_log'>"
      ]
     },
     "execution_count": 146,
     "metadata": {},
     "output_type": "execute_result"
    },
    {
     "data": {
      "image/png": "[encoded data removed]",
      "text/plain": [
       "<Figure size 640x480 with 1 Axes>"
      ]
     },
     "metadata": {},
     "output_type": "display_data"
    }
   ],
   "source": [
    "sns.boxplot(df['charges_log'])"
   ]
  },
  {
   "cell_type": "markdown",
   "id": "222ea604-6702-4382-ab3e-9ab32502ede5",
   "metadata": {},
   "source": [
    "# Bi varient analysis"
   ]
  },
  {
   "cell_type": "code",
   "execution_count": 147,
   "id": "ec146fcb-cbea-46aa-b9c4-8c70971599db",
   "metadata": {},
   "outputs": [
    {
     "data": {
      "text/plain": [
       "<Axes: xlabel='age', ylabel='bmi'>"
      ]
     },
     "execution_count": 147,
     "metadata": {},
     "output_type": "execute_result"
    },
    {
     "data": {
      "image/png": "[encoded data removed]",
      "text/plain": [
       "<Figure size 640x480 with 1 Axes>"
      ]
     },
     "metadata": {},
     "output_type": "display_data"
    }
   ],
   "source": [
    "sns.scatterplot(x=df['age'],y=df['bmi'])"
   ]
  },
  {
   "cell_type": "code",
   "execution_count": 148,
   "id": "bc375d06-73e4-4f1f-8b41-9547ed96ba28",
   "metadata": {},
   "outputs": [
    {
     "data": {
      "text/plain": [
       "<Axes: xlabel='children', ylabel='charges'>"
      ]
     },
     "execution_count": 148,
     "metadata": {},
     "output_type": "execute_result"
    },
    {
     "data": {
      "image/png": "[encoded data removed]",
      "text/plain": [
       "<Figure size 640x480 with 1 Axes>"
      ]
     },
     "metadata": {},
     "output_type": "display_data"
    }
   ],
   "source": [
    "sns.scatterplot(x=df['children'],y=df['charges'])"
   ]
  },
  {
   "cell_type": "code",
   "execution_count": 98,
   "id": "89e20ef3-bd41-40ea-9163-8d83fa286dbf",
   "metadata": {},
   "outputs": [
    {
     "data": {
      "text/plain": [
       "Index(['age', 'sex', 'bmi', 'children', 'smoker', 'region', 'charges'], dtype='object')"
      ]
     },
     "execution_count": 98,
     "metadata": {},
     "output_type": "execute_result"
    }
   ],
   "source": [
    "df.columns"
   ]
  },
  {
   "cell_type": "code",
   "execution_count": 110,
   "id": "2dd6f737-bfc1-4a9f-9303-bb1a190e9805",
   "metadata": {},
   "outputs": [
    {
     "data": {
      "text/plain": [
       "children\n",
       "0    574\n",
       "1    324\n",
       "2    240\n",
       "3    157\n",
       "4     25\n",
       "5     18\n",
       "Name: count, dtype: int64"
      ]
     },
     "execution_count": 110,
     "metadata": {},
     "output_type": "execute_result"
    }
   ],
   "source": [
    "df['children'].value_counts()"
   ]
  },
  {
   "cell_type": "code",
   "execution_count": 106,
   "id": "cfbdab15-32ce-4c95-bee3-08bed8d8fc9f",
   "metadata": {},
   "outputs": [],
   "source": [
    "from scipy.stats import ttest_ind"
   ]
  },
  {
   "cell_type": "code",
   "execution_count": 111,
   "id": "862e1c37-2329-4e32-8f5e-f2e208212001",
   "metadata": {},
   "outputs": [],
   "source": [
    "no=df[df['smoker']=='no']['age']\n",
    "yes=df[df['smoker']=='yes']['age']"
   ]
  },
  {
   "cell_type": "code",
   "execution_count": 112,
   "id": "588ed9e9-651a-49cc-8ce1-1e903b5d672b",
   "metadata": {},
   "outputs": [],
   "source": [
    "t_stats,p=ttest_ind(no,yes,alternative='less')"
   ]
  },
  {
   "cell_type": "code",
   "execution_count": 113,
   "id": "20c5401f-1e7e-45b2-8d0f-eaad8a4138c3",
   "metadata": {},
   "outputs": [
    {
     "data": {
      "text/plain": [
       "0.8197573548107979"
      ]
     },
     "execution_count": 113,
     "metadata": {},
     "output_type": "execute_result"
    }
   ],
   "source": [
    "p"
   ]
  },
  {
   "cell_type": "code",
   "execution_count": 114,
   "id": "193d3aa7-31dd-40c7-b02e-0574e354ea53",
   "metadata": {},
   "outputs": [],
   "source": [
    "t_stats,p=ttest_ind(no,yes,alternative='greater')"
   ]
  },
  {
   "cell_type": "code",
   "execution_count": 115,
   "id": "9b849da6-240c-46e6-afd0-3f2eaece1af8",
   "metadata": {},
   "outputs": [
    {
     "data": {
      "text/plain": [
       "0.18024264518920208"
      ]
     },
     "execution_count": 115,
     "metadata": {},
     "output_type": "execute_result"
    }
   ],
   "source": [
    "p"
   ]
  },
  {
   "cell_type": "code",
   "execution_count": 117,
   "id": "520a66de-c6e4-41c2-a697-cda02eb4447e",
   "metadata": {},
   "outputs": [],
   "source": [
    "t_stats,p=ttest_ind(no,yes,alternative='two-sided')"
   ]
  },
  {
   "cell_type": "code",
   "execution_count": 118,
   "id": "1b1bdc85-1c66-49b5-b83e-e771d366cefe",
   "metadata": {},
   "outputs": [
    {
     "data": {
      "text/plain": [
       "0.36048529037840416"
      ]
     },
     "execution_count": 118,
     "metadata": {},
     "output_type": "execute_result"
    }
   ],
   "source": [
    "p"
   ]
  },
  {
   "cell_type": "markdown",
   "id": "3716d0fc-aa1a-49eb-9349-d746920da6a4",
   "metadata": {},
   "source": [
    "## AS p value is greater than 0.05 we failed to reject the H0\n",
    "## we can conclude that there is a significant difference in the means between the two groups.\n"
   ]
  },
  {
   "cell_type": "code",
   "execution_count": 121,
   "id": "23696620-f52c-42e6-a4e8-95f30cbd7260",
   "metadata": {},
   "outputs": [],
   "source": [
    "male=df[df['sex']=='male']['bmi']\n",
    "female=df[df['sex']=='female']['bmi']"
   ]
  },
  {
   "cell_type": "code",
   "execution_count": 123,
   "id": "4c765deb-0e1f-466b-91ac-77a6272157bf",
   "metadata": {},
   "outputs": [],
   "source": [
    "from scipy.stats import ttest_ind"
   ]
  },
  {
   "cell_type": "code",
   "execution_count": 125,
   "id": "8479a7c9-6ed5-4b28-bd5f-3f8818e6f595",
   "metadata": {},
   "outputs": [],
   "source": [
    "t_stats,p=ttest_ind(male,female,alternative='two-sided')"
   ]
  },
  {
   "cell_type": "code",
   "execution_count": 126,
   "id": "c2f52908-8d8a-4a16-a590-5383dd398f9d",
   "metadata": {},
   "outputs": [
    {
     "data": {
      "text/plain": [
       "0.0899763717898503"
      ]
     },
     "execution_count": 126,
     "metadata": {},
     "output_type": "execute_result"
    }
   ],
   "source": [
    "p"
   ]
  },
  {
   "cell_type": "markdown",
   "id": "680b4d9f-9c39-4d4b-b34b-579043aa31e7",
   "metadata": {},
   "source": [
    "## AS p value is greater than 0.05 we failed to reject the H0\n",
    "## we can conclude that there is a significant difference in the means between the two groups.\n"
   ]
  },
  {
   "cell_type": "code",
   "execution_count": 129,
   "id": "00e3de72-77de-4a50-a4bb-e4520fc4bea8",
   "metadata": {},
   "outputs": [],
   "source": [
    "southeast=df[df['region']=='southeast']['bmi']\n",
    "southwest=df[df['region']=='southwest']['bmi']\n",
    "northwest=df[df['region']=='northwest']['bmi']\n",
    "northeast=df[df['region']=='northeast']['bmi']"
   ]
  },
  {
   "cell_type": "code",
   "execution_count": 130,
   "id": "b284f066-399e-41b4-9c41-49f63d43f515",
   "metadata": {},
   "outputs": [],
   "source": [
    "from scipy.stats import f_oneway"
   ]
  },
  {
   "cell_type": "code",
   "execution_count": 132,
   "id": "224d1421-8d65-46fe-b70a-c9b0ee082553",
   "metadata": {},
   "outputs": [],
   "source": [
    "f_stats,p=f_oneway(southeast,southwest,northwest,northeast)"
   ]
  },
  {
   "cell_type": "code",
   "execution_count": 133,
   "id": "6c4915d7-085d-4464-8024-1454149134ad",
   "metadata": {},
   "outputs": [
    {
     "data": {
      "text/plain": [
       "1.881838913929143e-24"
      ]
     },
     "execution_count": 133,
     "metadata": {},
     "output_type": "execute_result"
    }
   ],
   "source": [
    "p"
   ]
  },
  {
   "cell_type": "markdown",
   "id": "21201f35-ba7b-4874-9a58-1821c2e5338d",
   "metadata": {},
   "source": [
    "## AS P value is less than 0.05 we reject the null hypothesis H0\n",
    "## There is statistically significance difference between the two groups"
   ]
  },
  {
   "cell_type": "code",
   "execution_count": 134,
   "id": "c237baf6-c072-4669-83c4-64b7a74e3f05",
   "metadata": {},
   "outputs": [],
   "source": [
    "from scipy.stats import chi2_contingency"
   ]
  },
  {
   "cell_type": "code",
   "execution_count": 135,
   "id": "e0921da9-d07d-4817-a687-2ee78da1dbf6",
   "metadata": {},
   "outputs": [],
   "source": [
    "table=pd.crosstab(df['sex'],df['smoker'])"
   ]
  },
  {
   "cell_type": "code",
   "execution_count": 137,
   "id": "ac5796a8-619d-44aa-b4d8-563efbd78744",
   "metadata": {},
   "outputs": [],
   "source": [
    "chi2,p,dof,excepted=chi2_contingency(table)"
   ]
  },
  {
   "cell_type": "code",
   "execution_count": 138,
   "id": "f73d8acb-bf17-4415-bae0-06f2e43fedd3",
   "metadata": {},
   "outputs": [
    {
     "data": {
      "text/plain": [
       "0.006548143503580696"
      ]
     },
     "execution_count": 138,
     "metadata": {},
     "output_type": "execute_result"
    }
   ],
   "source": [
    "p"
   ]
  },
  {
   "cell_type": "markdown",
   "id": "a53b0ec1-746a-42d0-95f3-93227e6a5709",
   "metadata": {},
   "source": [
    "# Multivarient analysis"
   ]
  },
  {
   "cell_type": "markdown",
   "id": "43a2a577-789f-4e1b-a757-bbe20696a39f",
   "metadata": {},
   "source": [
    "## AS P value is less than 0.05 we reject the null hypothesis H0\n",
    "## There is statistically significance difference between the two groups"
   ]
  },
  {
   "cell_type": "code",
   "execution_count": 289,
   "id": "074ac4cc-268c-4bc5-bf43-2f595b00c022",
   "metadata": {},
   "outputs": [
    {
     "data": {
      "image/png": "[encoded data removed]",
      "text/plain": [
       "<Figure size 822.125x750 with 12 Axes>"
      ]
     },
     "metadata": {},
     "output_type": "display_data"
    }
   ],
   "source": [
    "sns.pairplot(df[['age', 'bmi', 'sex', 'children', 'smoker', 'region', 'charges']], hue='charges')\n",
    "plt.show()"
   ]
  },
  {
   "cell_type": "code",
   "execution_count": 150,
   "id": "ff2b74c2-266b-4f23-81cc-e33b1be8e8e7",
   "metadata": {},
   "outputs": [
    {
     "data": {
      "text/plain": [
       "<Axes: >"
      ]
     },
     "execution_count": 150,
     "metadata": {},
     "output_type": "execute_result"
    },
    {
     "data": {
      "image/png": "[encoded data removed]",
      "text/plain": [
       "<Figure size 640x480 with 2 Axes>"
      ]
     },
     "metadata": {},
     "output_type": "display_data"
    }
   ],
   "source": [
    "sns.heatmap(df.select_dtypes(include='number').corr(),annot=True)"
   ]
  },
  {
   "cell_type": "markdown",
   "id": "951d5225-bc34-4ec3-8035-1360500297d3",
   "metadata": {},
   "source": [
    "## Children and charges has the more co-relation\n",
    "## bmi and charges has the least co-realtion"
   ]
  },
  {
   "cell_type": "markdown",
   "id": "fb614f08-d9e6-4dc1-8267-bef99a32f7ed",
   "metadata": {},
   "source": [
    "# LinearRegression"
   ]
  },
  {
   "cell_type": "code",
   "execution_count": 197,
   "id": "65b58198-0cee-438f-b7f1-43bbdd3db58a",
   "metadata": {},
   "outputs": [
    {
     "data": {
      "text/plain": [
       "669"
      ]
     },
     "execution_count": 197,
     "metadata": {},
     "output_type": "execute_result"
    }
   ],
   "source": [
    "(df['charges'] <= 0).sum()  # should be 0\n"
   ]
  },
  {
   "cell_type": "code",
   "execution_count": 198,
   "id": "3394667b-c8b7-4e87-b377-dbb3c1f543b2",
   "metadata": {},
   "outputs": [],
   "source": [
    "df = df[df['charges'] > 0].copy()\n",
    "\n"
   ]
  },
  {
   "cell_type": "code",
   "execution_count": 199,
   "id": "01198088-1987-4d8f-a8de-d6258f497fad",
   "metadata": {},
   "outputs": [
    {
     "data": {
      "text/html": [
       "<div>\n",
       "<style scoped>\n",
       "    .dataframe tbody tr th:only-of-type {\n",
       "        vertical-align: middle;\n",
       "    }\n",
       "\n",
       "    .dataframe tbody tr th {\n",
       "        vertical-align: top;\n",
       "    }\n",
       "\n",
       "    .dataframe thead th {\n",
       "        text-align: right;\n",
       "    }\n",
       "</style>\n",
       "<table border=\"1\" class=\"dataframe\">\n",
       "  <thead>\n",
       "    <tr style=\"text-align: right;\">\n",
       "      <th></th>\n",
       "      <th>age</th>\n",
       "      <th>sex</th>\n",
       "      <th>bmi</th>\n",
       "      <th>children</th>\n",
       "      <th>smoker</th>\n",
       "      <th>region</th>\n",
       "      <th>charges</th>\n",
       "      <th>charges_log</th>\n",
       "      <th>log_charges</th>\n",
       "    </tr>\n",
       "  </thead>\n",
       "  <tbody>\n",
       "    <tr>\n",
       "      <th>0</th>\n",
       "      <td>19</td>\n",
       "      <td>female</td>\n",
       "      <td>-0.297708</td>\n",
       "      <td>0</td>\n",
       "      <td>yes</td>\n",
       "      <td>southwest</td>\n",
       "      <td>0.630515</td>\n",
       "      <td>-0.461219</td>\n",
       "      <td>-0.461219</td>\n",
       "    </tr>\n",
       "    <tr>\n",
       "      <th>3</th>\n",
       "      <td>33</td>\n",
       "      <td>male</td>\n",
       "      <td>-0.916344</td>\n",
       "      <td>0</td>\n",
       "      <td>no</td>\n",
       "      <td>northwest</td>\n",
       "      <td>1.059062</td>\n",
       "      <td>0.057383</td>\n",
       "      <td>0.057383</td>\n",
       "    </tr>\n",
       "    <tr>\n",
       "      <th>9</th>\n",
       "      <td>60</td>\n",
       "      <td>female</td>\n",
       "      <td>-0.543019</td>\n",
       "      <td>0</td>\n",
       "      <td>no</td>\n",
       "      <td>northwest</td>\n",
       "      <td>1.642161</td>\n",
       "      <td>0.496013</td>\n",
       "      <td>0.496013</td>\n",
       "    </tr>\n",
       "    <tr>\n",
       "      <th>11</th>\n",
       "      <td>62</td>\n",
       "      <td>female</td>\n",
       "      <td>-0.489431</td>\n",
       "      <td>0</td>\n",
       "      <td>yes</td>\n",
       "      <td>southeast</td>\n",
       "      <td>1.548510</td>\n",
       "      <td>0.437293</td>\n",
       "      <td>0.437293</td>\n",
       "    </tr>\n",
       "    <tr>\n",
       "      <th>13</th>\n",
       "      <td>56</td>\n",
       "      <td>female</td>\n",
       "      <td>1.121762</td>\n",
       "      <td>0</td>\n",
       "      <td>no</td>\n",
       "      <td>southeast</td>\n",
       "      <td>0.143591</td>\n",
       "      <td>-1.940783</td>\n",
       "      <td>-1.940783</td>\n",
       "    </tr>\n",
       "    <tr>\n",
       "      <th>...</th>\n",
       "      <td>...</td>\n",
       "      <td>...</td>\n",
       "      <td>...</td>\n",
       "      <td>...</td>\n",
       "      <td>...</td>\n",
       "      <td>...</td>\n",
       "      <td>...</td>\n",
       "      <td>...</td>\n",
       "      <td>...</td>\n",
       "    </tr>\n",
       "    <tr>\n",
       "      <th>1330</th>\n",
       "      <td>57</td>\n",
       "      <td>female</td>\n",
       "      <td>-0.554927</td>\n",
       "      <td>2</td>\n",
       "      <td>no</td>\n",
       "      <td>southeast</td>\n",
       "      <td>0.272877</td>\n",
       "      <td>-1.298735</td>\n",
       "      <td>-1.298735</td>\n",
       "    </tr>\n",
       "    <tr>\n",
       "      <th>1331</th>\n",
       "      <td>23</td>\n",
       "      <td>female</td>\n",
       "      <td>0.357249</td>\n",
       "      <td>0</td>\n",
       "      <td>no</td>\n",
       "      <td>southwest</td>\n",
       "      <td>0.118819</td>\n",
       "      <td>-2.130152</td>\n",
       "      <td>-2.130152</td>\n",
       "    </tr>\n",
       "    <tr>\n",
       "      <th>1332</th>\n",
       "      <td>52</td>\n",
       "      <td>female</td>\n",
       "      <td>1.702888</td>\n",
       "      <td>3</td>\n",
       "      <td>no</td>\n",
       "      <td>southwest</td>\n",
       "      <td>0.170564</td>\n",
       "      <td>-1.768643</td>\n",
       "      <td>-1.768643</td>\n",
       "    </tr>\n",
       "    <tr>\n",
       "      <th>1333</th>\n",
       "      <td>50</td>\n",
       "      <td>male</td>\n",
       "      <td>0.067877</td>\n",
       "      <td>3</td>\n",
       "      <td>no</td>\n",
       "      <td>northwest</td>\n",
       "      <td>0.102399</td>\n",
       "      <td>-2.278874</td>\n",
       "      <td>-2.278874</td>\n",
       "    </tr>\n",
       "    <tr>\n",
       "      <th>1337</th>\n",
       "      <td>61</td>\n",
       "      <td>female</td>\n",
       "      <td>-0.158380</td>\n",
       "      <td>0</td>\n",
       "      <td>yes</td>\n",
       "      <td>northwest</td>\n",
       "      <td>1.660500</td>\n",
       "      <td>0.507119</td>\n",
       "      <td>0.507119</td>\n",
       "    </tr>\n",
       "  </tbody>\n",
       "</table>\n",
       "<p>669 rows × 9 columns</p>\n",
       "</div>"
      ],
      "text/plain": [
       "      age     sex       bmi  children smoker     region   charges  \\\n",
       "0      19  female -0.297708         0    yes  southwest  0.630515   \n",
       "3      33    male -0.916344         0     no  northwest  1.059062   \n",
       "9      60  female -0.543019         0     no  northwest  1.642161   \n",
       "11     62  female -0.489431         0    yes  southeast  1.548510   \n",
       "13     56  female  1.121762         0     no  southeast  0.143591   \n",
       "...   ...     ...       ...       ...    ...        ...       ...   \n",
       "1330   57  female -0.554927         2     no  southeast  0.272877   \n",
       "1331   23  female  0.357249         0     no  southwest  0.118819   \n",
       "1332   52  female  1.702888         3     no  southwest  0.170564   \n",
       "1333   50    male  0.067877         3     no  northwest  0.102399   \n",
       "1337   61  female -0.158380         0    yes  northwest  1.660500   \n",
       "\n",
       "      charges_log  log_charges  \n",
       "0       -0.461219    -0.461219  \n",
       "3        0.057383     0.057383  \n",
       "9        0.496013     0.496013  \n",
       "11       0.437293     0.437293  \n",
       "13      -1.940783    -1.940783  \n",
       "...           ...          ...  \n",
       "1330    -1.298735    -1.298735  \n",
       "1331    -2.130152    -2.130152  \n",
       "1332    -1.768643    -1.768643  \n",
       "1333    -2.278874    -2.278874  \n",
       "1337     0.507119     0.507119  \n",
       "\n",
       "[669 rows x 9 columns]"
      ]
     },
     "execution_count": 199,
     "metadata": {},
     "output_type": "execute_result"
    }
   ],
   "source": [
    "df"
   ]
  },
  {
   "cell_type": "code",
   "execution_count": 200,
   "id": "779a3de4-3fe7-4ea5-b96e-0d5def9d763e",
   "metadata": {},
   "outputs": [],
   "source": [
    "df['log_charges'] = np.log(df['charges'])\n"
   ]
  },
  {
   "cell_type": "code",
   "execution_count": 202,
   "id": "c3f3c153-9d7d-446a-ba96-77d41c4df92e",
   "metadata": {},
   "outputs": [
    {
     "data": {
      "text/plain": [
       "array([-4.61218505e-01,  5.73833387e-02,  4.96013223e-01,  4.37293353e-01,\n",
       "       -1.94078297e+00,  9.32318784e-01, -2.12916313e+00, -2.27736758e+00,\n",
       "        8.36057191e-01, -1.12926166e+00,  8.67055836e-01, -9.46306864e-01,\n",
       "       -8.53205125e-01, -1.41642784e+00,  9.02068745e-01,  7.89387713e-01,\n",
       "       -9.97618585e-01,  1.25668905e+00, -6.47104847e-01,  9.37680504e-01,\n",
       "        1.18168980e+00, -5.62943114e-02, -1.29850946e+00,  9.02006552e-01,\n",
       "        1.75765493e-01,  8.68491920e-01,  1.16408686e+00, -1.03540819e+00,\n",
       "        7.39209289e-01,  1.52698988e-01,  5.57704697e-01, -8.03209940e-01,\n",
       "       -8.96901811e-01, -3.62529755e-01, -5.03016830e-01, -1.61797539e+00,\n",
       "       -1.53470717e+00, -1.79612694e+00,  8.47922113e-01, -1.97474503e+00,\n",
       "        9.39726389e-01, -1.55070163e-02,  1.05562827e+00, -1.95110229e+00,\n",
       "       -1.94555860e+00, -2.03175760e+00,  5.58585660e-01,  1.15868221e+00,\n",
       "       -1.47466731e+00, -2.64581212e+00,  9.07947095e-02, -6.14185542e-01,\n",
       "        5.29606236e-03,  5.94340194e-01, -3.75016896e-01,  1.15244999e+00,\n",
       "       -2.10962970e+00, -1.56048622e+00, -1.73158168e+00,  5.62187262e-01,\n",
       "       -1.78371360e+00, -2.01730260e-01,  9.30489003e-01, -2.78714944e+00,\n",
       "       -4.35410363e-01, -3.85283115e+00,  6.74182281e-01, -1.24295241e+00,\n",
       "       -1.03328285e+00, -1.89903157e+00,  4.10565005e-01,  4.13524326e-01,\n",
       "       -2.15737855e-01, -3.04504085e-01, -4.60603168e-02,  9.68341032e-01,\n",
       "       -3.17854410e+00, -2.02056310e+00, -1.17285069e-01, -4.88454786e-03,\n",
       "       -6.62309856e-01,  8.40156877e-01, -1.37845436e-01,  5.61861838e-03,\n",
       "        8.10679698e-01, -2.41023334e+00, -2.45176275e+00, -1.08439021e+00,\n",
       "        1.19833489e+00, -2.42385470e+00, -1.62045631e+00,  1.06071511e+00,\n",
       "       -1.32101905e+00, -1.49731313e+00, -3.81508026e+00, -7.68222594e-01,\n",
       "       -1.18722588e+00,  8.46796135e-01, -1.61730900e+00, -2.53241974e-02,\n",
       "       -9.72670439e-01, -2.50325344e+00,  2.77136905e-01, -2.30857887e+00,\n",
       "        7.58147055e-01, -1.60659302e-01, -1.51902234e+00,  2.21176685e-01,\n",
       "       -9.46273762e-01, -1.39409346e+00, -1.67717829e-01, -4.00741211e-01,\n",
       "        8.95247760e-01,  7.73018437e-01,  5.26257204e-01,  2.37819911e-01,\n",
       "       -1.29273568e+00, -1.23888018e+00,  1.15905804e+00,  1.07536989e+00,\n",
       "        9.80286897e-01, -1.17759691e+00,  1.06558657e+00, -1.71660484e+00,\n",
       "        7.16774499e-01, -1.57832843e+00, -4.34866599e-01,  2.63545945e-01,\n",
       "        8.13288493e-01, -7.12781770e-02,  1.12815067e+00, -4.22705159e-01,\n",
       "       -8.26195994e-01,  1.03428615e+00, -3.92200175e+00, -3.57369622e+00,\n",
       "       -1.21047294e+00, -3.22495880e+00,  8.45528698e-02,  1.19133135e+00,\n",
       "       -1.56138845e+00, -3.88755719e+00, -5.45455056e+00, -8.92559177e-01,\n",
       "        1.17453458e+00,  3.33545449e-01, -8.81318632e-02,  1.01179136e+00,\n",
       "       -5.42696389e-01,  5.69235036e-02,  9.03273486e-01,  2.63775009e-01,\n",
       "       -1.41751114e+00, -1.29350017e+00, -1.67907895e-01, -9.73647420e-02,\n",
       "       -1.53549963e+00,  1.01216647e+00,  7.60477551e-01, -3.55315275e+00,\n",
       "       -2.42483306e+00,  2.50667925e-01,  7.85796413e-01, -1.69522636e+00,\n",
       "        1.03140414e+00,  1.17534534e+00,  1.19052384e+00,  2.32315612e-01,\n",
       "       -1.07853046e+00, -1.65393533e+00, -1.97953945e-01, -9.85679133e-01,\n",
       "       -1.46107858e+00, -9.60142319e-01,  1.00587295e+00, -2.17540730e-01,\n",
       "       -1.09772400e+00, -1.13232145e+00, -9.50490322e-01, -2.00952454e+00,\n",
       "       -1.58100102e+00, -1.37030811e+00, -9.18150796e-01,  2.46170145e-01,\n",
       "       -3.91074146e+00, -2.89018163e+00, -9.80803821e-01, -3.40205487e+00,\n",
       "       -1.07822668e+00, -1.08199514e+00, -1.50298415e+00,  8.08275966e-01,\n",
       "       -3.18723934e-01,  3.12937444e-02,  8.81929560e-01, -5.20126792e-01,\n",
       "        3.92468208e-01, -7.49366604e-01,  1.01762386e+00, -4.29412897e-02,\n",
       "       -1.57051766e+00,  5.63367111e-01, -2.17282521e+00, -6.01793235e+00,\n",
       "       -5.01805985e-01, -7.52598294e-01, -8.06795250e-01, -2.59593593e+00,\n",
       "       -1.77595363e+00, -1.52867369e-01, -8.52454115e-01, -2.54456512e-01,\n",
       "       -8.59845676e-01,  4.97410953e-01,  1.14802675e+00,  1.14026075e+00,\n",
       "        9.16096954e-01, -3.37585966e+00, -2.33383187e-01,  1.40956236e-01,\n",
       "       -1.29595772e+00, -9.64066830e-01, -1.31007976e+00,  8.44829426e-01,\n",
       "        4.62965256e-01,  3.40534961e-01, -1.26785510e+00, -1.74799814e+00,\n",
       "        4.23958754e-02, -1.56024155e+00, -1.57685706e+00, -2.27816520e+00,\n",
       "       -2.47706137e+00,  6.99650094e-02, -7.10357427e-01, -1.89799387e+00,\n",
       "       -1.60025310e-01, -1.13034208e+00, -1.29436729e+00,  1.55877871e-01,\n",
       "       -3.44424066e-02,  2.96098304e-01,  4.93221718e-01,  7.72529295e-01,\n",
       "       -6.56296744e-01, -3.17359184e+00, -4.18578727e+00, -1.34726252e+00,\n",
       "        1.19987230e+00, -2.39959551e+00,  2.40242552e-01, -1.31585423e+00,\n",
       "       -3.29398200e-01, -1.06824879e+00,  8.12479351e-01,  7.57531860e-02,\n",
       "        6.66192042e-01, -1.74739094e+00, -1.60899983e+00, -1.69072212e-02,\n",
       "       -1.79304549e+00,  4.32700538e-01,  3.13095145e-01, -3.20161577e+00,\n",
       "        8.86072992e-01, -1.73428302e+00,  2.09818819e-01, -3.21257830e+00,\n",
       "        1.19455180e+00, -9.37181711e-01, -1.21129236e+00, -1.90796146e-01,\n",
       "       -9.83809090e-01,  4.11863342e-01, -9.71281070e-01,  1.51964389e+00,\n",
       "       -2.63965322e+00,  1.92470286e-01, -1.70807232e+00,  1.12028937e+00,\n",
       "       -1.08808332e+00, -1.20251797e+00, -1.88560085e+00, -3.36809330e-01,\n",
       "        9.44538611e-01, -2.04349137e+00, -1.70137845e+00,  1.11586134e+00,\n",
       "        6.25294183e-01, -1.13050759e+00, -1.43239823e+00,  1.41916395e+00,\n",
       "       -3.54799930e+00, -1.21465413e+00, -3.66996205e-01,  1.06624336e+00,\n",
       "       -1.02874008e+00, -1.57617932e+00, -6.88576185e-01,  7.05287362e-01,\n",
       "       -1.95266517e+00, -5.73937632e-01, -3.86255155e-01,  3.14458505e-01,\n",
       "        9.19993082e-01,  1.03765657e+00, -1.65405135e+00,  1.57143966e-01,\n",
       "        7.44679153e-01, -2.19011743e+00,  9.51014688e-01,  7.51757007e-01,\n",
       "       -1.46578597e+00, -1.81140852e+00, -1.79143274e+00,  1.03806157e+00,\n",
       "       -2.82774950e+00, -7.15285092e+00, -8.61305824e-01,  2.66460729e-01,\n",
       "       -9.99940924e-02, -1.20474770e+00,  6.76460941e-01, -1.15160088e+00,\n",
       "       -2.33235356e-01, -2.75212446e+00, -1.36171937e+00, -3.34673692e+00,\n",
       "       -2.29612224e+00, -1.42481225e+00,  2.50390291e-01,  3.57307851e-01,\n",
       "       -8.64599028e-01,  7.37507442e-02,  3.94562017e-01,  1.02539207e+00,\n",
       "        9.45188903e-01,  1.11608669e+00,  1.12950580e+00, -1.34389009e+00,\n",
       "        1.12759031e+00, -1.38407569e+00, -2.73172154e+00,  9.48467438e-01,\n",
       "       -3.20748308e+00, -1.85467106e+00,  3.48113553e-01,  7.59203790e-01,\n",
       "        5.09399710e-01,  9.53977789e-01, -2.01012688e+00, -4.31119967e+00,\n",
       "       -4.57797078e+00,  1.07936596e+00, -2.60160642e+00, -2.79783182e+00,\n",
       "       -1.45948871e+00, -4.16413397e+00, -1.15994540e+00, -2.09390022e+00,\n",
       "       -1.42933509e+00, -3.18244070e+00, -1.84390199e+00, -1.19631640e+00,\n",
       "       -2.79933097e+00,  9.75079239e-01, -4.91969027e-01, -1.75927254e-01,\n",
       "       -2.85721112e+00, -5.20653666e+00, -9.44989683e-01, -4.07668632e+00,\n",
       "        9.58672676e-01,  8.12158693e-01,  1.08463640e+00, -2.94456612e-01,\n",
       "        1.04609316e+00, -3.11454707e+00, -1.61961982e+00, -1.58323120e-01,\n",
       "       -9.01970446e-01, -1.57970515e+00, -4.29279592e-01,  1.39675603e-01,\n",
       "        8.16576728e-01, -2.08633049e-01, -1.57610545e+00, -8.79749464e-01,\n",
       "        4.44461646e-01, -1.90623553e+00, -1.24827771e+00, -3.52274484e-01,\n",
       "       -2.31229952e+00, -3.19440345e+00, -2.93022641e-01, -7.96639650e+00,\n",
       "        2.40716481e-01, -1.26482358e+00, -1.07140852e+00, -7.23984772e-03,\n",
       "       -2.87235102e-01, -1.57386572e+00, -3.33797891e-01, -8.80800188e-01,\n",
       "        9.04850024e-01,  4.72903996e-01, -5.89118475e+00, -1.98689743e+00,\n",
       "        1.63926090e-01,  1.34675851e+00, -1.33178367e+00, -5.76333836e-01,\n",
       "        1.06247460e+00, -4.36311369e-02,  9.31843957e-01, -1.08728609e+00,\n",
       "       -1.61704007e+00, -1.65422542e+00, -1.30088837e+00, -1.39745027e+00,\n",
       "        8.05868571e-01,  4.22267213e-01, -2.84753864e+00,  1.09659468e+00,\n",
       "       -3.18849447e+00, -2.27798460e+00,  8.51693809e-01, -9.20978983e-01,\n",
       "        1.01177392e+00, -1.62309358e+00,  2.13031632e-01,  9.76401181e-01,\n",
       "       -6.14607038e-01, -2.97658102e-01, -2.01692427e+00,  1.12712718e+00,\n",
       "       -1.41606194e+00, -1.69073635e+00, -1.15539917e+00,  3.42388369e-01,\n",
       "        1.13097481e+00, -1.40713215e-01,  4.04734634e-01, -1.53528957e+00,\n",
       "        5.16669600e-01, -2.43643690e+00,  1.07370284e+00, -1.04787845e+00,\n",
       "       -1.17309157e+00, -1.33161763e-01,  1.19450195e+00, -1.29399598e+00,\n",
       "       -7.20713889e-01, -3.82882308e-01,  7.16051777e-01, -8.66933804e-01,\n",
       "        4.05675188e-02,  7.69491405e-01, -1.17907437e+00, -1.07308778e+00,\n",
       "       -1.07029057e+00,  2.93033403e-01, -1.50183672e+00, -1.06826238e+00,\n",
       "       -2.81206777e+00, -1.42855830e+00,  6.47030439e-01, -4.72449777e+00,\n",
       "       -4.26308722e+00, -1.19533929e+00, -1.64703980e+00,  9.13469477e-01,\n",
       "       -1.20245996e-01, -1.70971918e+00,  1.16320490e+00,  9.11825160e-01,\n",
       "       -1.13052466e-01,  1.00834164e+00, -1.30468939e+00,  9.78300372e-01,\n",
       "        4.72494585e-01, -8.48710165e-01, -4.60901132e+00,  3.61697736e-01,\n",
       "        2.03510686e-01, -2.19841362e+00, -5.65968013e-01, -3.60774039e+00,\n",
       "        3.04488905e-01, -1.92298547e-01, -4.73085703e-01,  4.65727309e-01,\n",
       "       -8.29800620e-01, -2.78250097e+00, -5.25117301e-01, -9.71111390e-01,\n",
       "       -3.99601953e-01,  7.45994646e-01, -4.16645441e-03,  2.66471969e-01,\n",
       "        1.52459782e-01, -3.02869531e+00, -2.37319163e-01,  8.26645684e-01,\n",
       "       -1.46746951e+00, -1.34083720e+00,  3.35117255e-01,  7.89769794e-01,\n",
       "        1.01480856e+00, -5.20807455e-01,  2.60226399e-02, -3.23494170e+00,\n",
       "        3.27061278e-02,  1.08003386e+00, -1.00269646e+00, -1.20449100e+00,\n",
       "       -1.47865648e+00,  8.59348644e-01,  9.36074916e-01,  9.69924487e-02,\n",
       "       -9.20818024e-02,  7.05446970e-01, -1.77736149e+00,  4.91246819e-02,\n",
       "        1.08224578e+00,  9.36143988e-01, -8.64567157e-01,  2.91537495e-01,\n",
       "       -2.28384851e+00, -3.30894941e-01, -1.70077077e+00,  1.20202455e+00,\n",
       "       -8.73525524e-01, -2.04030829e+00,  9.40881063e-01, -9.52099244e-01,\n",
       "       -1.47785560e+00, -1.13566697e+00,  7.53906659e-01, -7.22189502e-01,\n",
       "       -1.55941028e+00, -7.47025939e-01, -2.10458535e-01, -2.12986001e+00,\n",
       "       -1.79786716e+00, -3.47923392e+00, -2.29831555e+00,  9.98376026e-01,\n",
       "       -1.83228442e+00,  7.23207087e-01, -1.82558376e+00,  1.08621856e+00,\n",
       "        1.38223553e-01, -4.75801400e-01, -1.84982652e+00, -1.79277886e+00,\n",
       "       -7.51112647e-02, -2.52056477e+00, -2.37042514e+00, -1.72021031e+00,\n",
       "        1.00679907e+00,  2.18045970e-01, -2.12201705e+00,  8.09748664e-01,\n",
       "        8.87359470e-01,  7.33701050e-01,  1.14193423e+00, -2.22958886e-01,\n",
       "        9.74184079e-01, -8.92884332e-01, -2.65970526e+00, -8.71813971e-01,\n",
       "       -4.93187792e-02, -2.97243629e+00, -1.45207774e-01, -1.94379038e+00,\n",
       "        8.38286178e-01,  3.99087343e-01, -3.86936678e+00, -1.83093561e+00,\n",
       "        1.28953718e+00, -2.13296899e+00, -1.42785331e+00,  9.75359890e-01,\n",
       "       -1.98600133e+00,  9.35983563e-01, -8.58299401e-01, -2.16710448e-01,\n",
       "       -2.00621064e+00, -4.22812840e-01,  9.58432171e-02, -1.93908421e+00,\n",
       "        1.98029912e-01, -1.77093258e-01, -5.20451394e+00, -2.85277486e-01,\n",
       "        8.58668559e-01, -9.80738568e-01,  4.03270298e-02, -1.15618025e+00,\n",
       "       -1.00784052e+00, -1.18531254e+00, -2.29786535e-01,  6.98438662e-01,\n",
       "       -3.01774536e+00, -2.97059624e-01,  8.38717640e-01,  8.91941386e-01,\n",
       "       -8.63844615e-02, -1.38958301e+00,  1.75394937e-01, -2.12247125e+00,\n",
       "       -1.22145382e+00,  9.97927574e-01,  3.41511673e-01, -2.28407605e+00,\n",
       "       -1.53797616e+00,  1.44822234e+00, -9.83225409e-02, -1.34585478e+00,\n",
       "       -1.80178545e+00, -8.53595897e-01, -1.43188705e+00,  1.15812280e+00,\n",
       "        1.21725135e+00,  8.63718719e-01, -2.50113183e-01, -5.52139440e-01,\n",
       "       -6.12924782e-01, -1.75637456e+00, -1.82215174e+00,  5.52734962e-01,\n",
       "       -2.68016750e+00, -2.48768966e+00,  3.88232533e-01, -2.19703067e+00,\n",
       "        7.37236573e-01, -8.47992691e-01, -4.40324139e-01, -2.02079430e+00,\n",
       "        9.45782502e-02,  2.41735535e-01, -8.86980653e-01,  1.16165400e+00,\n",
       "        8.89496111e-01,  7.60076046e-01, -1.54076960e+00,  1.49775522e+00,\n",
       "        1.14345458e+00,  8.71560087e-01, -1.87411779e-03, -5.69445785e-01,\n",
       "        1.59086197e-02,  7.22925911e-01,  8.19905449e-01, -2.37517596e-01,\n",
       "       -1.83977222e+00, -1.62518474e-01,  4.53048162e-01, -1.19576401e+00,\n",
       "        1.06486807e+00, -1.15174130e+00,  8.94965947e-02, -2.53501247e+00,\n",
       "       -1.29873459e+00, -2.13015201e+00, -1.76864257e+00, -2.27887377e+00,\n",
       "        5.07118731e-01])"
      ]
     },
     "execution_count": 202,
     "metadata": {},
     "output_type": "execute_result"
    }
   ],
   "source": [
    "df['log_charges'].unique()"
   ]
  },
  {
   "cell_type": "code",
   "execution_count": 233,
   "id": "642de308-864f-47bc-876d-945b1f21b1e4",
   "metadata": {},
   "outputs": [],
   "source": [
    "x = df.drop('charges', axis=1)\n",
    "y = df['charges']"
   ]
  },
  {
   "cell_type": "code",
   "execution_count": 234,
   "id": "75d1b703-5e8f-47a2-aabd-a11bb610ca31",
   "metadata": {},
   "outputs": [],
   "source": [
    "x_encoded = pd.get_dummies(x, drop_first=True)\n"
   ]
  },
  {
   "cell_type": "code",
   "execution_count": 226,
   "id": "e387bf53-b9f4-4dee-a88a-969d9fb7076e",
   "metadata": {},
   "outputs": [],
   "source": [
    "from sklearn.model_selection import train_test_split"
   ]
  },
  {
   "cell_type": "code",
   "execution_count": 235,
   "id": "0f0c8ee9-cf81-4b56-a9c0-9ee2d0367a8d",
   "metadata": {},
   "outputs": [],
   "source": [
    "x_train,x_test,y_train,y_test=train_test_split(x_encoded,y,test_size=(0.2))"
   ]
  },
  {
   "cell_type": "code",
   "execution_count": 236,
   "id": "7070c649-4f52-44f7-aea7-808572d60b39",
   "metadata": {},
   "outputs": [
    {
     "data": {
      "text/plain": [
       "535"
      ]
     },
     "execution_count": 236,
     "metadata": {},
     "output_type": "execute_result"
    }
   ],
   "source": [
    "len(x_train)"
   ]
  },
  {
   "cell_type": "code",
   "execution_count": 237,
   "id": "9ff767f4-99ce-4407-87ba-f54aadda3773",
   "metadata": {},
   "outputs": [
    {
     "data": {
      "text/plain": [
       "535"
      ]
     },
     "execution_count": 237,
     "metadata": {},
     "output_type": "execute_result"
    }
   ],
   "source": [
    "len(y_train)"
   ]
  },
  {
   "cell_type": "code",
   "execution_count": 238,
   "id": "0c265170-2aae-43c2-9c0a-aa8a5b6598ca",
   "metadata": {},
   "outputs": [],
   "source": [
    "from sklearn.linear_model import LinearRegression"
   ]
  },
  {
   "cell_type": "code",
   "execution_count": 239,
   "id": "a2ae39a2-072f-40f3-92b7-5e771f2f9637",
   "metadata": {},
   "outputs": [],
   "source": [
    "lr=LinearRegression()"
   ]
  },
  {
   "cell_type": "code",
   "execution_count": 240,
   "id": "2687928f-e8f1-44ae-bedc-0a587a09c65d",
   "metadata": {},
   "outputs": [
    {
     "data": {
      "text/html": [
       "<style>#sk-container-id-2 {\n",
       "  /* Definition of color scheme common for light and dark mode */\n",
       "  --sklearn-color-text: black;\n",
       "  --sklearn-color-line: gray;\n",
       "  /* Definition of color scheme for unfitted estimators */\n",
       "  --sklearn-color-unfitted-level-0: #fff5e6;\n",
       "  --sklearn-color-unfitted-level-1: #f6e4d2;\n",
       "  --sklearn-color-unfitted-level-2: #ffe0b3;\n",
       "  --sklearn-color-unfitted-level-3: chocolate;\n",
       "  /* Definition of color scheme for fitted estimators */\n",
       "  --sklearn-color-fitted-level-0: #f0f8ff;\n",
       "  --sklearn-color-fitted-level-1: #d4ebff;\n",
       "  --sklearn-color-fitted-level-2: #b3dbfd;\n",
       "  --sklearn-color-fitted-level-3: cornflowerblue;\n",
       "\n",
       "  /* Specific color for light theme */\n",
       "  --sklearn-color-text-on-default-background: var(--sg-text-color, var(--theme-code-foreground, var(--jp-content-font-color1, black)));\n",
       "  --sklearn-color-background: var(--sg-background-color, var(--theme-background, var(--jp-layout-color0, white)));\n",
       "  --sklearn-color-border-box: var(--sg-text-color, var(--theme-code-foreground, var(--jp-content-font-color1, black)));\n",
       "  --sklearn-color-icon: #696969;\n",
       "\n",
       "  @media (prefers-color-scheme: dark) {\n",
       "    /* Redefinition of color scheme for dark theme */\n",
       "    --sklearn-color-text-on-default-background: var(--sg-text-color, var(--theme-code-foreground, var(--jp-content-font-color1, white)));\n",
       "    --sklearn-color-background: var(--sg-background-color, var(--theme-background, var(--jp-layout-color0, #111)));\n",
       "    --sklearn-color-border-box: var(--sg-text-color, var(--theme-code-foreground, var(--jp-content-font-color1, white)));\n",
       "    --sklearn-color-icon: #878787;\n",
       "  }\n",
       "}\n",
       "\n",
       "#sk-container-id-2 {\n",
       "  color: var(--sklearn-color-text);\n",
       "}\n",
       "\n",
       "#sk-container-id-2 pre {\n",
       "  padding: 0;\n",
       "}\n",
       "\n",
       "#sk-container-id-2 input.sk-hidden--visually {\n",
       "  border: 0;\n",
       "  clip: rect(1px 1px 1px 1px);\n",
       "  clip: rect(1px, 1px, 1px, 1px);\n",
       "  height: 1px;\n",
       "  margin: -1px;\n",
       "  overflow: hidden;\n",
       "  padding: 0;\n",
       "  position: absolute;\n",
       "  width: 1px;\n",
       "}\n",
       "\n",
       "#sk-container-id-2 div.sk-dashed-wrapped {\n",
       "  border: 1px dashed var(--sklearn-color-line);\n",
       "  margin: 0 0.4em 0.5em 0.4em;\n",
       "  box-sizing: border-box;\n",
       "  padding-bottom: 0.4em;\n",
       "  background-color: var(--sklearn-color-background);\n",
       "}\n",
       "\n",
       "#sk-container-id-2 div.sk-container {\n",
       "  /* jupyter's `normalize.less` sets `[hidden] { display: none; }`\n",
       "     but bootstrap.min.css set `[hidden] { display: none !important; }`\n",
       "     so we also need the `!important` here to be able to override the\n",
       "     default hidden behavior on the sphinx rendered scikit-learn.org.\n",
       "     See: https://github.com/scikit-learn/scikit-learn/issues/21755 */\n",
       "  display: inline-block !important;\n",
       "  position: relative;\n",
       "}\n",
       "\n",
       "#sk-container-id-2 div.sk-text-repr-fallback {\n",
       "  display: none;\n",
       "}\n",
       "\n",
       "div.sk-parallel-item,\n",
       "div.sk-serial,\n",
       "div.sk-item {\n",
       "  /* draw centered vertical line to link estimators */\n",
       "  background-image: linear-gradient(var(--sklearn-color-text-on-default-background), var(--sklearn-color-text-on-default-background));\n",
       "  background-size: 2px 100%;\n",
       "  background-repeat: no-repeat;\n",
       "  background-position: center center;\n",
       "}\n",
       "\n",
       "/* Parallel-specific style estimator block */\n",
       "\n",
       "#sk-container-id-2 div.sk-parallel-item::after {\n",
       "  content: \"\";\n",
       "  width: 100%;\n",
       "  border-bottom: 2px solid var(--sklearn-color-text-on-default-background);\n",
       "  flex-grow: 1;\n",
       "}\n",
       "\n",
       "#sk-container-id-2 div.sk-parallel {\n",
       "  display: flex;\n",
       "  align-items: stretch;\n",
       "  justify-content: center;\n",
       "  background-color: var(--sklearn-color-background);\n",
       "  position: relative;\n",
       "}\n",
       "\n",
       "#sk-container-id-2 div.sk-parallel-item {\n",
       "  display: flex;\n",
       "  flex-direction: column;\n",
       "}\n",
       "\n",
       "#sk-container-id-2 div.sk-parallel-item:first-child::after {\n",
       "  align-self: flex-end;\n",
       "  width: 50%;\n",
       "}\n",
       "\n",
       "#sk-container-id-2 div.sk-parallel-item:last-child::after {\n",
       "  align-self: flex-start;\n",
       "  width: 50%;\n",
       "}\n",
       "\n",
       "#sk-container-id-2 div.sk-parallel-item:only-child::after {\n",
       "  width: 0;\n",
       "}\n",
       "\n",
       "/* Serial-specific style estimator block */\n",
       "\n",
       "#sk-container-id-2 div.sk-serial {\n",
       "  display: flex;\n",
       "  flex-direction: column;\n",
       "  align-items: center;\n",
       "  background-color: var(--sklearn-color-background);\n",
       "  padding-right: 1em;\n",
       "  padding-left: 1em;\n",
       "}\n",
       "\n",
       "\n",
       "/* Toggleable style: style used for estimator/Pipeline/ColumnTransformer box that is\n",
       "clickable and can be expanded/collapsed.\n",
       "- Pipeline and ColumnTransformer use this feature and define the default style\n",
       "- Estimators will overwrite some part of the style using the `sk-estimator` class\n",
       "*/\n",
       "\n",
       "/* Pipeline and ColumnTransformer style (default) */\n",
       "\n",
       "#sk-container-id-2 div.sk-toggleable {\n",
       "  /* Default theme specific background. It is overwritten whether we have a\n",
       "  specific estimator or a Pipeline/ColumnTransformer */\n",
       "  background-color: var(--sklearn-color-background);\n",
       "}\n",
       "\n",
       "/* Toggleable label */\n",
       "#sk-container-id-2 label.sk-toggleable__label {\n",
       "  cursor: pointer;\n",
       "  display: block;\n",
       "  width: 100%;\n",
       "  margin-bottom: 0;\n",
       "  padding: 0.5em;\n",
       "  box-sizing: border-box;\n",
       "  text-align: center;\n",
       "}\n",
       "\n",
       "#sk-container-id-2 label.sk-toggleable__label-arrow:before {\n",
       "  /* Arrow on the left of the label */\n",
       "  content: \"▸\";\n",
       "  float: left;\n",
       "  margin-right: 0.25em;\n",
       "  color: var(--sklearn-color-icon);\n",
       "}\n",
       "\n",
       "#sk-container-id-2 label.sk-toggleable__label-arrow:hover:before {\n",
       "  color: var(--sklearn-color-text);\n",
       "}\n",
       "\n",
       "/* Toggleable content - dropdown */\n",
       "\n",
       "#sk-container-id-2 div.sk-toggleable__content {\n",
       "  max-height: 0;\n",
       "  max-width: 0;\n",
       "  overflow: hidden;\n",
       "  text-align: left;\n",
       "  /* unfitted */\n",
       "  background-color: var(--sklearn-color-unfitted-level-0);\n",
       "}\n",
       "\n",
       "#sk-container-id-2 div.sk-toggleable__content.fitted {\n",
       "  /* fitted */\n",
       "  background-color: var(--sklearn-color-fitted-level-0);\n",
       "}\n",
       "\n",
       "#sk-container-id-2 div.sk-toggleable__content pre {\n",
       "  margin: 0.2em;\n",
       "  border-radius: 0.25em;\n",
       "  color: var(--sklearn-color-text);\n",
       "  /* unfitted */\n",
       "  background-color: var(--sklearn-color-unfitted-level-0);\n",
       "}\n",
       "\n",
       "#sk-container-id-2 div.sk-toggleable__content.fitted pre {\n",
       "  /* unfitted */\n",
       "  background-color: var(--sklearn-color-fitted-level-0);\n",
       "}\n",
       "\n",
       "#sk-container-id-2 input.sk-toggleable__control:checked~div.sk-toggleable__content {\n",
       "  /* Expand drop-down */\n",
       "  max-height: 200px;\n",
       "  max-width: 100%;\n",
       "  overflow: auto;\n",
       "}\n",
       "\n",
       "#sk-container-id-2 input.sk-toggleable__control:checked~label.sk-toggleable__label-arrow:before {\n",
       "  content: \"▾\";\n",
       "}\n",
       "\n",
       "/* Pipeline/ColumnTransformer-specific style */\n",
       "\n",
       "#sk-container-id-2 div.sk-label input.sk-toggleable__control:checked~label.sk-toggleable__label {\n",
       "  color: var(--sklearn-color-text);\n",
       "  background-color: var(--sklearn-color-unfitted-level-2);\n",
       "}\n",
       "\n",
       "#sk-container-id-2 div.sk-label.fitted input.sk-toggleable__control:checked~label.sk-toggleable__label {\n",
       "  background-color: var(--sklearn-color-fitted-level-2);\n",
       "}\n",
       "\n",
       "/* Estimator-specific style */\n",
       "\n",
       "/* Colorize estimator box */\n",
       "#sk-container-id-2 div.sk-estimator input.sk-toggleable__control:checked~label.sk-toggleable__label {\n",
       "  /* unfitted */\n",
       "  background-color: var(--sklearn-color-unfitted-level-2);\n",
       "}\n",
       "\n",
       "#sk-container-id-2 div.sk-estimator.fitted input.sk-toggleable__control:checked~label.sk-toggleable__label {\n",
       "  /* fitted */\n",
       "  background-color: var(--sklearn-color-fitted-level-2);\n",
       "}\n",
       "\n",
       "#sk-container-id-2 div.sk-label label.sk-toggleable__label,\n",
       "#sk-container-id-2 div.sk-label label {\n",
       "  /* The background is the default theme color */\n",
       "  color: var(--sklearn-color-text-on-default-background);\n",
       "}\n",
       "\n",
       "/* On hover, darken the color of the background */\n",
       "#sk-container-id-2 div.sk-label:hover label.sk-toggleable__label {\n",
       "  color: var(--sklearn-color-text);\n",
       "  background-color: var(--sklearn-color-unfitted-level-2);\n",
       "}\n",
       "\n",
       "/* Label box, darken color on hover, fitted */\n",
       "#sk-container-id-2 div.sk-label.fitted:hover label.sk-toggleable__label.fitted {\n",
       "  color: var(--sklearn-color-text);\n",
       "  background-color: var(--sklearn-color-fitted-level-2);\n",
       "}\n",
       "\n",
       "/* Estimator label */\n",
       "\n",
       "#sk-container-id-2 div.sk-label label {\n",
       "  font-family: monospace;\n",
       "  font-weight: bold;\n",
       "  display: inline-block;\n",
       "  line-height: 1.2em;\n",
       "}\n",
       "\n",
       "#sk-container-id-2 div.sk-label-container {\n",
       "  text-align: center;\n",
       "}\n",
       "\n",
       "/* Estimator-specific */\n",
       "#sk-container-id-2 div.sk-estimator {\n",
       "  font-family: monospace;\n",
       "  border: 1px dotted var(--sklearn-color-border-box);\n",
       "  border-radius: 0.25em;\n",
       "  box-sizing: border-box;\n",
       "  margin-bottom: 0.5em;\n",
       "  /* unfitted */\n",
       "  background-color: var(--sklearn-color-unfitted-level-0);\n",
       "}\n",
       "\n",
       "#sk-container-id-2 div.sk-estimator.fitted {\n",
       "  /* fitted */\n",
       "  background-color: var(--sklearn-color-fitted-level-0);\n",
       "}\n",
       "\n",
       "/* on hover */\n",
       "#sk-container-id-2 div.sk-estimator:hover {\n",
       "  /* unfitted */\n",
       "  background-color: var(--sklearn-color-unfitted-level-2);\n",
       "}\n",
       "\n",
       "#sk-container-id-2 div.sk-estimator.fitted:hover {\n",
       "  /* fitted */\n",
       "  background-color: var(--sklearn-color-fitted-level-2);\n",
       "}\n",
       "\n",
       "/* Specification for estimator info (e.g. \"i\" and \"?\") */\n",
       "\n",
       "/* Common style for \"i\" and \"?\" */\n",
       "\n",
       ".sk-estimator-doc-link,\n",
       "a:link.sk-estimator-doc-link,\n",
       "a:visited.sk-estimator-doc-link {\n",
       "  float: right;\n",
       "  font-size: smaller;\n",
       "  line-height: 1em;\n",
       "  font-family: monospace;\n",
       "  background-color: var(--sklearn-color-background);\n",
       "  border-radius: 1em;\n",
       "  height: 1em;\n",
       "  width: 1em;\n",
       "  text-decoration: none !important;\n",
       "  margin-left: 1ex;\n",
       "  /* unfitted */\n",
       "  border: var(--sklearn-color-unfitted-level-1) 1pt solid;\n",
       "  color: var(--sklearn-color-unfitted-level-1);\n",
       "}\n",
       "\n",
       ".sk-estimator-doc-link.fitted,\n",
       "a:link.sk-estimator-doc-link.fitted,\n",
       "a:visited.sk-estimator-doc-link.fitted {\n",
       "  /* fitted */\n",
       "  border: var(--sklearn-color-fitted-level-1) 1pt solid;\n",
       "  color: var(--sklearn-color-fitted-level-1);\n",
       "}\n",
       "\n",
       "/* On hover */\n",
       "div.sk-estimator:hover .sk-estimator-doc-link:hover,\n",
       ".sk-estimator-doc-link:hover,\n",
       "div.sk-label-container:hover .sk-estimator-doc-link:hover,\n",
       ".sk-estimator-doc-link:hover {\n",
       "  /* unfitted */\n",
       "  background-color: var(--sklearn-color-unfitted-level-3);\n",
       "  color: var(--sklearn-color-background);\n",
       "  text-decoration: none;\n",
       "}\n",
       "\n",
       "div.sk-estimator.fitted:hover .sk-estimator-doc-link.fitted:hover,\n",
       ".sk-estimator-doc-link.fitted:hover,\n",
       "div.sk-label-container:hover .sk-estimator-doc-link.fitted:hover,\n",
       ".sk-estimator-doc-link.fitted:hover {\n",
       "  /* fitted */\n",
       "  background-color: var(--sklearn-color-fitted-level-3);\n",
       "  color: var(--sklearn-color-background);\n",
       "  text-decoration: none;\n",
       "}\n",
       "\n",
       "/* Span, style for the box shown on hovering the info icon */\n",
       ".sk-estimator-doc-link span {\n",
       "  display: none;\n",
       "  z-index: 9999;\n",
       "  position: relative;\n",
       "  font-weight: normal;\n",
       "  right: .2ex;\n",
       "  padding: .5ex;\n",
       "  margin: .5ex;\n",
       "  width: min-content;\n",
       "  min-width: 20ex;\n",
       "  max-width: 50ex;\n",
       "  color: var(--sklearn-color-text);\n",
       "  box-shadow: 2pt 2pt 4pt #999;\n",
       "  /* unfitted */\n",
       "  background: var(--sklearn-color-unfitted-level-0);\n",
       "  border: .5pt solid var(--sklearn-color-unfitted-level-3);\n",
       "}\n",
       "\n",
       ".sk-estimator-doc-link.fitted span {\n",
       "  /* fitted */\n",
       "  background: var(--sklearn-color-fitted-level-0);\n",
       "  border: var(--sklearn-color-fitted-level-3);\n",
       "}\n",
       "\n",
       ".sk-estimator-doc-link:hover span {\n",
       "  display: block;\n",
       "}\n",
       "\n",
       "/* \"?\"-specific style due to the `<a>` HTML tag */\n",
       "\n",
       "#sk-container-id-2 a.estimator_doc_link {\n",
       "  float: right;\n",
       "  font-size: 1rem;\n",
       "  line-height: 1em;\n",
       "  font-family: monospace;\n",
       "  background-color: var(--sklearn-color-background);\n",
       "  border-radius: 1rem;\n",
       "  height: 1rem;\n",
       "  width: 1rem;\n",
       "  text-decoration: none;\n",
       "  /* unfitted */\n",
       "  color: var(--sklearn-color-unfitted-level-1);\n",
       "  border: var(--sklearn-color-unfitted-level-1) 1pt solid;\n",
       "}\n",
       "\n",
       "#sk-container-id-2 a.estimator_doc_link.fitted {\n",
       "  /* fitted */\n",
       "  border: var(--sklearn-color-fitted-level-1) 1pt solid;\n",
       "  color: var(--sklearn-color-fitted-level-1);\n",
       "}\n",
       "\n",
       "/* On hover */\n",
       "#sk-container-id-2 a.estimator_doc_link:hover {\n",
       "  /* unfitted */\n",
       "  background-color: var(--sklearn-color-unfitted-level-3);\n",
       "  color: var(--sklearn-color-background);\n",
       "  text-decoration: none;\n",
       "}\n",
       "\n",
       "#sk-container-id-2 a.estimator_doc_link.fitted:hover {\n",
       "  /* fitted */\n",
       "  background-color: var(--sklearn-color-fitted-level-3);\n",
       "}\n",
       "</style><div id=\"sk-container-id-2\" class=\"sk-top-container\"><div class=\"sk-text-repr-fallback\"><pre>LinearRegression()</pre><b>In a Jupyter environment, please rerun this cell to show the HTML representation or trust the notebook. <br />On GitHub, the HTML representation is unable to render, please try loading this page with nbviewer.org.</b></div><div class=\"sk-container\" hidden><div class=\"sk-item\"><div class=\"sk-estimator fitted sk-toggleable\"><input class=\"sk-toggleable__control sk-hidden--visually\" id=\"sk-estimator-id-2\" type=\"checkbox\" checked><label for=\"sk-estimator-id-2\" class=\"sk-toggleable__label fitted sk-toggleable__label-arrow fitted\">&nbsp;&nbsp;LinearRegression<a class=\"sk-estimator-doc-link fitted\" rel=\"noreferrer\" target=\"_blank\" href=\"https://scikit-learn.org/1.5/modules/generated/sklearn.linear_model.LinearRegression.html\">?<span>Documentation for LinearRegression</span></a><span class=\"sk-estimator-doc-link fitted\">i<span>Fitted</span></span></label><div class=\"sk-toggleable__content fitted\"><pre>LinearRegression()</pre></div> </div></div></div></div>"
      ],
      "text/plain": [
       "LinearRegression()"
      ]
     },
     "execution_count": 240,
     "metadata": {},
     "output_type": "execute_result"
    }
   ],
   "source": [
    "lr.fit(x_train,y_train)"
   ]
  },
  {
   "cell_type": "code",
   "execution_count": 241,
   "id": "2edd4dfd-b5fe-4e8f-a1ce-df6cb5bd647b",
   "metadata": {},
   "outputs": [],
   "source": [
    "y_pred=lr.predict(x_test)"
   ]
  },
  {
   "cell_type": "code",
   "execution_count": 242,
   "id": "81f81412-09d0-4eb6-a4d6-650df2069ec6",
   "metadata": {},
   "outputs": [
    {
     "data": {
      "text/plain": [
       "array([ 1.26674528,  1.02251709,  0.29844911,  0.8437311 ,  0.74115615,\n",
       "        1.57688423,  0.5347407 ,  0.54960152,  1.14476392,  0.98245225,\n",
       "        0.65048842,  1.04286441,  1.88881819,  1.98963034,  0.66282553,\n",
       "        1.10186281,  1.47338764,  1.37845431,  0.75087604,  2.3753469 ,\n",
       "        2.82300993,  0.25129557,  0.94020814,  0.23968965,  0.90223507,\n",
       "       -0.12294704,  0.49045567,  2.01549918,  1.2132132 ,  2.38535767,\n",
       "        0.21785946,  1.47251777,  1.3518826 ,  2.39779871,  1.46912556,\n",
       "        0.82717117,  1.50667114,  1.36260402,  1.28549777,  1.84864231,\n",
       "        0.84859284, -0.10051407,  0.92815494,  1.33996738,  0.01568671,\n",
       "        1.28399964,  0.6273449 ,  0.06659222,  1.62119555,  1.03686803,\n",
       "        2.30885241,  0.13135208,  0.43739433,  1.42610444,  0.13568815,\n",
       "        0.27036153,  2.17122161,  0.7149528 ,  0.36812419,  1.83246693,\n",
       "        0.56484265,  1.01916033,  0.11701392,  0.03837402,  0.90819389,\n",
       "        2.21293654,  1.69038193,  1.33905485,  0.71905152,  0.02385478,\n",
       "       -0.59154713,  1.45470401,  0.89724582,  0.14685311,  2.40378249,\n",
       "        0.5194096 ,  1.2848196 ,  1.35411204,  0.14314923,  1.99367425,\n",
       "        0.47492738, -0.51385576,  2.57291372,  2.21651919,  0.44084649,\n",
       "        1.74935505,  2.30167741,  2.17602633,  0.44862473,  0.62250872,\n",
       "        0.61630392,  0.76430113,  0.14880212,  2.013746  , -0.23794483,\n",
       "        0.60368584,  1.94289328,  1.82003695,  2.57852792,  0.56147649,\n",
       "        2.45418305,  2.39964218,  0.13923937,  0.6836606 ,  0.04685989,\n",
       "       -0.11905407,  1.05684597,  0.29245941,  0.25535143,  1.44268624,\n",
       "        0.83848872,  1.95598642,  1.84722355,  0.56428675,  0.10271087,\n",
       "        1.94998104,  0.33495908,  1.55309555, -1.07552041,  1.30058268,\n",
       "        2.21834438,  2.53545084,  0.74024225,  1.05623646,  0.60171327,\n",
       "        0.41080563,  0.73675068,  1.64394642, -1.13460855,  2.02793691,\n",
       "       -0.22967057,  0.18708502,  1.73490496,  1.51685137])"
      ]
     },
     "execution_count": 242,
     "metadata": {},
     "output_type": "execute_result"
    }
   ],
   "source": [
    "y_pred"
   ]
  },
  {
   "cell_type": "code",
   "execution_count": 243,
   "id": "2a8969ab-5f15-41ca-b1a9-7bebf3f6b1f5",
   "metadata": {},
   "outputs": [],
   "source": [
    "from sklearn.metrics import mean_absolute_error,mean_squared_error,r2_score"
   ]
  },
  {
   "cell_type": "code",
   "execution_count": 244,
   "id": "74576e95-9115-4db4-882b-a22bc528b1be",
   "metadata": {},
   "outputs": [
    {
     "data": {
      "text/plain": [
       "0.34213909129989334"
      ]
     },
     "execution_count": 244,
     "metadata": {},
     "output_type": "execute_result"
    }
   ],
   "source": [
    "mean_absolute_error(y_test,y_pred)"
   ]
  },
  {
   "cell_type": "code",
   "execution_count": 245,
   "id": "79ec1a1f-06a6-465b-9d4f-d203b6a74f96",
   "metadata": {},
   "outputs": [
    {
     "data": {
      "text/plain": [
       "0.17205498819104317"
      ]
     },
     "execution_count": 245,
     "metadata": {},
     "output_type": "execute_result"
    }
   ],
   "source": [
    "mean_squared_error(y_test,y_pred)"
   ]
  },
  {
   "cell_type": "code",
   "execution_count": 246,
   "id": "ed4637e1-bedd-456a-af4c-1b6a06cd1bd1",
   "metadata": {},
   "outputs": [
    {
     "data": {
      "text/plain": [
       "0.7956901917691697"
      ]
     },
     "execution_count": 246,
     "metadata": {},
     "output_type": "execute_result"
    }
   ],
   "source": [
    "r2_score(y_test,y_pred)"
   ]
  },
  {
   "cell_type": "markdown",
   "id": "1eb42ae2-a5c3-405f-8614-1ff3f3243980",
   "metadata": {},
   "source": [
    "# RandomForestRegressor"
   ]
  },
  {
   "cell_type": "code",
   "execution_count": 247,
   "id": "32c8e0f6-c963-40f2-acf9-a8de759e44d9",
   "metadata": {},
   "outputs": [],
   "source": [
    "from sklearn.ensemble import RandomForestRegressor"
   ]
  },
  {
   "cell_type": "code",
   "execution_count": 248,
   "id": "652619e9-be9a-4d15-a120-74ba5d89f8b7",
   "metadata": {},
   "outputs": [],
   "source": [
    "rf=RandomForestRegressor(n_estimators=100,random_state=42)"
   ]
  },
  {
   "cell_type": "code",
   "execution_count": 249,
   "id": "2162eba3-0db3-4ee1-b492-79545860a44a",
   "metadata": {},
   "outputs": [
    {
     "data": {
      "text/html": [
       "<style>#sk-container-id-3 {\n",
       "  /* Definition of color scheme common for light and dark mode */\n",
       "  --sklearn-color-text: black;\n",
       "  --sklearn-color-line: gray;\n",
       "  /* Definition of color scheme for unfitted estimators */\n",
       "  --sklearn-color-unfitted-level-0: #fff5e6;\n",
       "  --sklearn-color-unfitted-level-1: #f6e4d2;\n",
       "  --sklearn-color-unfitted-level-2: #ffe0b3;\n",
       "  --sklearn-color-unfitted-level-3: chocolate;\n",
       "  /* Definition of color scheme for fitted estimators */\n",
       "  --sklearn-color-fitted-level-0: #f0f8ff;\n",
       "  --sklearn-color-fitted-level-1: #d4ebff;\n",
       "  --sklearn-color-fitted-level-2: #b3dbfd;\n",
       "  --sklearn-color-fitted-level-3: cornflowerblue;\n",
       "\n",
       "  /* Specific color for light theme */\n",
       "  --sklearn-color-text-on-default-background: var(--sg-text-color, var(--theme-code-foreground, var(--jp-content-font-color1, black)));\n",
       "  --sklearn-color-background: var(--sg-background-color, var(--theme-background, var(--jp-layout-color0, white)));\n",
       "  --sklearn-color-border-box: var(--sg-text-color, var(--theme-code-foreground, var(--jp-content-font-color1, black)));\n",
       "  --sklearn-color-icon: #696969;\n",
       "\n",
       "  @media (prefers-color-scheme: dark) {\n",
       "    /* Redefinition of color scheme for dark theme */\n",
       "    --sklearn-color-text-on-default-background: var(--sg-text-color, var(--theme-code-foreground, var(--jp-content-font-color1, white)));\n",
       "    --sklearn-color-background: var(--sg-background-color, var(--theme-background, var(--jp-layout-color0, #111)));\n",
       "    --sklearn-color-border-box: var(--sg-text-color, var(--theme-code-foreground, var(--jp-content-font-color1, white)));\n",
       "    --sklearn-color-icon: #878787;\n",
       "  }\n",
       "}\n",
       "\n",
       "#sk-container-id-3 {\n",
       "  color: var(--sklearn-color-text);\n",
       "}\n",
       "\n",
       "#sk-container-id-3 pre {\n",
       "  padding: 0;\n",
       "}\n",
       "\n",
       "#sk-container-id-3 input.sk-hidden--visually {\n",
       "  border: 0;\n",
       "  clip: rect(1px 1px 1px 1px);\n",
       "  clip: rect(1px, 1px, 1px, 1px);\n",
       "  height: 1px;\n",
       "  margin: -1px;\n",
       "  overflow: hidden;\n",
       "  padding: 0;\n",
       "  position: absolute;\n",
       "  width: 1px;\n",
       "}\n",
       "\n",
       "#sk-container-id-3 div.sk-dashed-wrapped {\n",
       "  border: 1px dashed var(--sklearn-color-line);\n",
       "  margin: 0 0.4em 0.5em 0.4em;\n",
       "  box-sizing: border-box;\n",
       "  padding-bottom: 0.4em;\n",
       "  background-color: var(--sklearn-color-background);\n",
       "}\n",
       "\n",
       "#sk-container-id-3 div.sk-container {\n",
       "  /* jupyter's `normalize.less` sets `[hidden] { display: none; }`\n",
       "     but bootstrap.min.css set `[hidden] { display: none !important; }`\n",
       "     so we also need the `!important` here to be able to override the\n",
       "     default hidden behavior on the sphinx rendered scikit-learn.org.\n",
       "     See: https://github.com/scikit-learn/scikit-learn/issues/21755 */\n",
       "  display: inline-block !important;\n",
       "  position: relative;\n",
       "}\n",
       "\n",
       "#sk-container-id-3 div.sk-text-repr-fallback {\n",
       "  display: none;\n",
       "}\n",
       "\n",
       "div.sk-parallel-item,\n",
       "div.sk-serial,\n",
       "div.sk-item {\n",
       "  /* draw centered vertical line to link estimators */\n",
       "  background-image: linear-gradient(var(--sklearn-color-text-on-default-background), var(--sklearn-color-text-on-default-background));\n",
       "  background-size: 2px 100%;\n",
       "  background-repeat: no-repeat;\n",
       "  background-position: center center;\n",
       "}\n",
       "\n",
       "/* Parallel-specific style estimator block */\n",
       "\n",
       "#sk-container-id-3 div.sk-parallel-item::after {\n",
       "  content: \"\";\n",
       "  width: 100%;\n",
       "  border-bottom: 2px solid var(--sklearn-color-text-on-default-background);\n",
       "  flex-grow: 1;\n",
       "}\n",
       "\n",
       "#sk-container-id-3 div.sk-parallel {\n",
       "  display: flex;\n",
       "  align-items: stretch;\n",
       "  justify-content: center;\n",
       "  background-color: var(--sklearn-color-background);\n",
       "  position: relative;\n",
       "}\n",
       "\n",
       "#sk-container-id-3 div.sk-parallel-item {\n",
       "  display: flex;\n",
       "  flex-direction: column;\n",
       "}\n",
       "\n",
       "#sk-container-id-3 div.sk-parallel-item:first-child::after {\n",
       "  align-self: flex-end;\n",
       "  width: 50%;\n",
       "}\n",
       "\n",
       "#sk-container-id-3 div.sk-parallel-item:last-child::after {\n",
       "  align-self: flex-start;\n",
       "  width: 50%;\n",
       "}\n",
       "\n",
       "#sk-container-id-3 div.sk-parallel-item:only-child::after {\n",
       "  width: 0;\n",
       "}\n",
       "\n",
       "/* Serial-specific style estimator block */\n",
       "\n",
       "#sk-container-id-3 div.sk-serial {\n",
       "  display: flex;\n",
       "  flex-direction: column;\n",
       "  align-items: center;\n",
       "  background-color: var(--sklearn-color-background);\n",
       "  padding-right: 1em;\n",
       "  padding-left: 1em;\n",
       "}\n",
       "\n",
       "\n",
       "/* Toggleable style: style used for estimator/Pipeline/ColumnTransformer box that is\n",
       "clickable and can be expanded/collapsed.\n",
       "- Pipeline and ColumnTransformer use this feature and define the default style\n",
       "- Estimators will overwrite some part of the style using the `sk-estimator` class\n",
       "*/\n",
       "\n",
       "/* Pipeline and ColumnTransformer style (default) */\n",
       "\n",
       "#sk-container-id-3 div.sk-toggleable {\n",
       "  /* Default theme specific background. It is overwritten whether we have a\n",
       "  specific estimator or a Pipeline/ColumnTransformer */\n",
       "  background-color: var(--sklearn-color-background);\n",
       "}\n",
       "\n",
       "/* Toggleable label */\n",
       "#sk-container-id-3 label.sk-toggleable__label {\n",
       "  cursor: pointer;\n",
       "  display: block;\n",
       "  width: 100%;\n",
       "  margin-bottom: 0;\n",
       "  padding: 0.5em;\n",
       "  box-sizing: border-box;\n",
       "  text-align: center;\n",
       "}\n",
       "\n",
       "#sk-container-id-3 label.sk-toggleable__label-arrow:before {\n",
       "  /* Arrow on the left of the label */\n",
       "  content: \"▸\";\n",
       "  float: left;\n",
       "  margin-right: 0.25em;\n",
       "  color: var(--sklearn-color-icon);\n",
       "}\n",
       "\n",
       "#sk-container-id-3 label.sk-toggleable__label-arrow:hover:before {\n",
       "  color: var(--sklearn-color-text);\n",
       "}\n",
       "\n",
       "/* Toggleable content - dropdown */\n",
       "\n",
       "#sk-container-id-3 div.sk-toggleable__content {\n",
       "  max-height: 0;\n",
       "  max-width: 0;\n",
       "  overflow: hidden;\n",
       "  text-align: left;\n",
       "  /* unfitted */\n",
       "  background-color: var(--sklearn-color-unfitted-level-0);\n",
       "}\n",
       "\n",
       "#sk-container-id-3 div.sk-toggleable__content.fitted {\n",
       "  /* fitted */\n",
       "  background-color: var(--sklearn-color-fitted-level-0);\n",
       "}\n",
       "\n",
       "#sk-container-id-3 div.sk-toggleable__content pre {\n",
       "  margin: 0.2em;\n",
       "  border-radius: 0.25em;\n",
       "  color: var(--sklearn-color-text);\n",
       "  /* unfitted */\n",
       "  background-color: var(--sklearn-color-unfitted-level-0);\n",
       "}\n",
       "\n",
       "#sk-container-id-3 div.sk-toggleable__content.fitted pre {\n",
       "  /* unfitted */\n",
       "  background-color: var(--sklearn-color-fitted-level-0);\n",
       "}\n",
       "\n",
       "#sk-container-id-3 input.sk-toggleable__control:checked~div.sk-toggleable__content {\n",
       "  /* Expand drop-down */\n",
       "  max-height: 200px;\n",
       "  max-width: 100%;\n",
       "  overflow: auto;\n",
       "}\n",
       "\n",
       "#sk-container-id-3 input.sk-toggleable__control:checked~label.sk-toggleable__label-arrow:before {\n",
       "  content: \"▾\";\n",
       "}\n",
       "\n",
       "/* Pipeline/ColumnTransformer-specific style */\n",
       "\n",
       "#sk-container-id-3 div.sk-label input.sk-toggleable__control:checked~label.sk-toggleable__label {\n",
       "  color: var(--sklearn-color-text);\n",
       "  background-color: var(--sklearn-color-unfitted-level-2);\n",
       "}\n",
       "\n",
       "#sk-container-id-3 div.sk-label.fitted input.sk-toggleable__control:checked~label.sk-toggleable__label {\n",
       "  background-color: var(--sklearn-color-fitted-level-2);\n",
       "}\n",
       "\n",
       "/* Estimator-specific style */\n",
       "\n",
       "/* Colorize estimator box */\n",
       "#sk-container-id-3 div.sk-estimator input.sk-toggleable__control:checked~label.sk-toggleable__label {\n",
       "  /* unfitted */\n",
       "  background-color: var(--sklearn-color-unfitted-level-2);\n",
       "}\n",
       "\n",
       "#sk-container-id-3 div.sk-estimator.fitted input.sk-toggleable__control:checked~label.sk-toggleable__label {\n",
       "  /* fitted */\n",
       "  background-color: var(--sklearn-color-fitted-level-2);\n",
       "}\n",
       "\n",
       "#sk-container-id-3 div.sk-label label.sk-toggleable__label,\n",
       "#sk-container-id-3 div.sk-label label {\n",
       "  /* The background is the default theme color */\n",
       "  color: var(--sklearn-color-text-on-default-background);\n",
       "}\n",
       "\n",
       "/* On hover, darken the color of the background */\n",
       "#sk-container-id-3 div.sk-label:hover label.sk-toggleable__label {\n",
       "  color: var(--sklearn-color-text);\n",
       "  background-color: var(--sklearn-color-unfitted-level-2);\n",
       "}\n",
       "\n",
       "/* Label box, darken color on hover, fitted */\n",
       "#sk-container-id-3 div.sk-label.fitted:hover label.sk-toggleable__label.fitted {\n",
       "  color: var(--sklearn-color-text);\n",
       "  background-color: var(--sklearn-color-fitted-level-2);\n",
       "}\n",
       "\n",
       "/* Estimator label */\n",
       "\n",
       "#sk-container-id-3 div.sk-label label {\n",
       "  font-family: monospace;\n",
       "  font-weight: bold;\n",
       "  display: inline-block;\n",
       "  line-height: 1.2em;\n",
       "}\n",
       "\n",
       "#sk-container-id-3 div.sk-label-container {\n",
       "  text-align: center;\n",
       "}\n",
       "\n",
       "/* Estimator-specific */\n",
       "#sk-container-id-3 div.sk-estimator {\n",
       "  font-family: monospace;\n",
       "  border: 1px dotted var(--sklearn-color-border-box);\n",
       "  border-radius: 0.25em;\n",
       "  box-sizing: border-box;\n",
       "  margin-bottom: 0.5em;\n",
       "  /* unfitted */\n",
       "  background-color: var(--sklearn-color-unfitted-level-0);\n",
       "}\n",
       "\n",
       "#sk-container-id-3 div.sk-estimator.fitted {\n",
       "  /* fitted */\n",
       "  background-color: var(--sklearn-color-fitted-level-0);\n",
       "}\n",
       "\n",
       "/* on hover */\n",
       "#sk-container-id-3 div.sk-estimator:hover {\n",
       "  /* unfitted */\n",
       "  background-color: var(--sklearn-color-unfitted-level-2);\n",
       "}\n",
       "\n",
       "#sk-container-id-3 div.sk-estimator.fitted:hover {\n",
       "  /* fitted */\n",
       "  background-color: var(--sklearn-color-fitted-level-2);\n",
       "}\n",
       "\n",
       "/* Specification for estimator info (e.g. \"i\" and \"?\") */\n",
       "\n",
       "/* Common style for \"i\" and \"?\" */\n",
       "\n",
       ".sk-estimator-doc-link,\n",
       "a:link.sk-estimator-doc-link,\n",
       "a:visited.sk-estimator-doc-link {\n",
       "  float: right;\n",
       "  font-size: smaller;\n",
       "  line-height: 1em;\n",
       "  font-family: monospace;\n",
       "  background-color: var(--sklearn-color-background);\n",
       "  border-radius: 1em;\n",
       "  height: 1em;\n",
       "  width: 1em;\n",
       "  text-decoration: none !important;\n",
       "  margin-left: 1ex;\n",
       "  /* unfitted */\n",
       "  border: var(--sklearn-color-unfitted-level-1) 1pt solid;\n",
       "  color: var(--sklearn-color-unfitted-level-1);\n",
       "}\n",
       "\n",
       ".sk-estimator-doc-link.fitted,\n",
       "a:link.sk-estimator-doc-link.fitted,\n",
       "a:visited.sk-estimator-doc-link.fitted {\n",
       "  /* fitted */\n",
       "  border: var(--sklearn-color-fitted-level-1) 1pt solid;\n",
       "  color: var(--sklearn-color-fitted-level-1);\n",
       "}\n",
       "\n",
       "/* On hover */\n",
       "div.sk-estimator:hover .sk-estimator-doc-link:hover,\n",
       ".sk-estimator-doc-link:hover,\n",
       "div.sk-label-container:hover .sk-estimator-doc-link:hover,\n",
       ".sk-estimator-doc-link:hover {\n",
       "  /* unfitted */\n",
       "  background-color: var(--sklearn-color-unfitted-level-3);\n",
       "  color: var(--sklearn-color-background);\n",
       "  text-decoration: none;\n",
       "}\n",
       "\n",
       "div.sk-estimator.fitted:hover .sk-estimator-doc-link.fitted:hover,\n",
       ".sk-estimator-doc-link.fitted:hover,\n",
       "div.sk-label-container:hover .sk-estimator-doc-link.fitted:hover,\n",
       ".sk-estimator-doc-link.fitted:hover {\n",
       "  /* fitted */\n",
       "  background-color: var(--sklearn-color-fitted-level-3);\n",
       "  color: var(--sklearn-color-background);\n",
       "  text-decoration: none;\n",
       "}\n",
       "\n",
       "/* Span, style for the box shown on hovering the info icon */\n",
       ".sk-estimator-doc-link span {\n",
       "  display: none;\n",
       "  z-index: 9999;\n",
       "  position: relative;\n",
       "  font-weight: normal;\n",
       "  right: .2ex;\n",
       "  padding: .5ex;\n",
       "  margin: .5ex;\n",
       "  width: min-content;\n",
       "  min-width: 20ex;\n",
       "  max-width: 50ex;\n",
       "  color: var(--sklearn-color-text);\n",
       "  box-shadow: 2pt 2pt 4pt #999;\n",
       "  /* unfitted */\n",
       "  background: var(--sklearn-color-unfitted-level-0);\n",
       "  border: .5pt solid var(--sklearn-color-unfitted-level-3);\n",
       "}\n",
       "\n",
       ".sk-estimator-doc-link.fitted span {\n",
       "  /* fitted */\n",
       "  background: var(--sklearn-color-fitted-level-0);\n",
       "  border: var(--sklearn-color-fitted-level-3);\n",
       "}\n",
       "\n",
       ".sk-estimator-doc-link:hover span {\n",
       "  display: block;\n",
       "}\n",
       "\n",
       "/* \"?\"-specific style due to the `<a>` HTML tag */\n",
       "\n",
       "#sk-container-id-3 a.estimator_doc_link {\n",
       "  float: right;\n",
       "  font-size: 1rem;\n",
       "  line-height: 1em;\n",
       "  font-family: monospace;\n",
       "  background-color: var(--sklearn-color-background);\n",
       "  border-radius: 1rem;\n",
       "  height: 1rem;\n",
       "  width: 1rem;\n",
       "  text-decoration: none;\n",
       "  /* unfitted */\n",
       "  color: var(--sklearn-color-unfitted-level-1);\n",
       "  border: var(--sklearn-color-unfitted-level-1) 1pt solid;\n",
       "}\n",
       "\n",
       "#sk-container-id-3 a.estimator_doc_link.fitted {\n",
       "  /* fitted */\n",
       "  border: var(--sklearn-color-fitted-level-1) 1pt solid;\n",
       "  color: var(--sklearn-color-fitted-level-1);\n",
       "}\n",
       "\n",
       "/* On hover */\n",
       "#sk-container-id-3 a.estimator_doc_link:hover {\n",
       "  /* unfitted */\n",
       "  background-color: var(--sklearn-color-unfitted-level-3);\n",
       "  color: var(--sklearn-color-background);\n",
       "  text-decoration: none;\n",
       "}\n",
       "\n",
       "#sk-container-id-3 a.estimator_doc_link.fitted:hover {\n",
       "  /* fitted */\n",
       "  background-color: var(--sklearn-color-fitted-level-3);\n",
       "}\n",
       "</style><div id=\"sk-container-id-3\" class=\"sk-top-container\"><div class=\"sk-text-repr-fallback\"><pre>RandomForestRegressor(random_state=42)</pre><b>In a Jupyter environment, please rerun this cell to show the HTML representation or trust the notebook. <br />On GitHub, the HTML representation is unable to render, please try loading this page with nbviewer.org.</b></div><div class=\"sk-container\" hidden><div class=\"sk-item\"><div class=\"sk-estimator fitted sk-toggleable\"><input class=\"sk-toggleable__control sk-hidden--visually\" id=\"sk-estimator-id-3\" type=\"checkbox\" checked><label for=\"sk-estimator-id-3\" class=\"sk-toggleable__label fitted sk-toggleable__label-arrow fitted\">&nbsp;&nbsp;RandomForestRegressor<a class=\"sk-estimator-doc-link fitted\" rel=\"noreferrer\" target=\"_blank\" href=\"https://scikit-learn.org/1.5/modules/generated/sklearn.ensemble.RandomForestRegressor.html\">?<span>Documentation for RandomForestRegressor</span></a><span class=\"sk-estimator-doc-link fitted\">i<span>Fitted</span></span></label><div class=\"sk-toggleable__content fitted\"><pre>RandomForestRegressor(random_state=42)</pre></div> </div></div></div></div>"
      ],
      "text/plain": [
       "RandomForestRegressor(random_state=42)"
      ]
     },
     "execution_count": 249,
     "metadata": {},
     "output_type": "execute_result"
    }
   ],
   "source": [
    "rf.fit(x_train,y_train)"
   ]
  },
  {
   "cell_type": "code",
   "execution_count": 250,
   "id": "4491a9ec-99c9-4f24-be8a-51be69633d64",
   "metadata": {},
   "outputs": [],
   "source": [
    "y_pred=rf.predict(x_test)"
   ]
  },
  {
   "cell_type": "code",
   "execution_count": 251,
   "id": "3e9d8b90-c929-44a9-8f66-aa7d5241f4aa",
   "metadata": {},
   "outputs": [
    {
     "data": {
      "text/plain": [
       "array([0.26900945, 0.96004417, 0.42493281, 0.72015456, 1.09469708,\n",
       "       2.02004336, 0.19139984, 0.42452538, 0.6494916 , 0.48529112,\n",
       "       0.37792484, 1.27118791, 2.05435129, 1.92938857, 0.34325032,\n",
       "       0.56963126, 0.84304094, 0.95410888, 0.38812173, 3.19266116,\n",
       "       3.06612158, 0.19818785, 0.84836552, 0.23108195, 0.44444611,\n",
       "       0.13346293, 0.16731563, 2.09096513, 0.59767756, 2.82258645,\n",
       "       0.13161902, 1.03237568, 0.93128535, 3.13101593, 0.99001871,\n",
       "       0.80282783, 0.91347183, 0.74144611, 0.86831119, 2.1516548 ,\n",
       "       0.4371437 , 0.06069804, 1.35445346, 0.69332534, 0.14327784,\n",
       "       0.64597161, 0.60714565, 0.04134773, 0.97889335, 0.40924298,\n",
       "       2.36184491, 0.1352984 , 0.13229796, 0.74115339, 0.10132315,\n",
       "       0.12023687, 2.25164695, 0.13321998, 0.21510976, 1.53915256,\n",
       "       0.16642326, 1.16426416, 0.15782525, 0.04131728, 0.42462323,\n",
       "       2.75054154, 1.16418014, 1.30036628, 0.26063667, 0.14273459,\n",
       "       0.01959666, 0.80628625, 1.28219789, 0.27363518, 2.73154527,\n",
       "       0.16631384, 0.78563838, 0.6763456 , 0.29981341, 2.11153075,\n",
       "       0.32217255, 0.00427181, 3.12534635, 2.3760802 , 0.20925389,\n",
       "       1.09240977, 2.65035126, 2.54355308, 0.27371269, 0.2168887 ,\n",
       "       0.16880273, 0.28207577, 0.36684449, 2.12780008, 0.08163754,\n",
       "       0.13397045, 2.13358145, 2.04079784, 2.54872683, 0.34222722,\n",
       "       2.82072045, 3.09369531, 0.10190991, 0.13806216, 0.1742349 ,\n",
       "       0.07077391, 0.82303878, 0.0861296 , 0.26068209, 0.74476008,\n",
       "       0.41058528, 1.63997214, 1.30061094, 0.42104694, 0.08274383,\n",
       "       2.38073033, 0.27341853, 1.85512157, 0.00997903, 1.65810103,\n",
       "       2.57413969, 2.77526429, 0.24935679, 0.59471743, 0.2892173 ,\n",
       "       0.32218683, 0.18332338, 0.95385823, 0.02039464, 2.33079772,\n",
       "       0.01488788, 0.42305822, 2.12956001, 0.9945888 ])"
      ]
     },
     "execution_count": 251,
     "metadata": {},
     "output_type": "execute_result"
    }
   ],
   "source": [
    "y_pred"
   ]
  },
  {
   "cell_type": "code",
   "execution_count": 252,
   "id": "c50d7f6b-79a9-46fa-97f8-a110f3834957",
   "metadata": {},
   "outputs": [],
   "source": [
    "from sklearn.metrics import mean_absolute_error,mean_squared_error,r2_score"
   ]
  },
  {
   "cell_type": "code",
   "execution_count": 253,
   "id": "f5eb4629-5478-4567-9239-89eb8932a7eb",
   "metadata": {},
   "outputs": [
    {
     "data": {
      "text/plain": [
       "0.0041160758267860635"
      ]
     },
     "execution_count": 253,
     "metadata": {},
     "output_type": "execute_result"
    }
   ],
   "source": [
    "mean_absolute_error(y_test, y_pred)"
   ]
  },
  {
   "cell_type": "code",
   "execution_count": 254,
   "id": "d0c17849-bdcd-4ea0-b9c9-cebf60194a76",
   "metadata": {},
   "outputs": [
    {
     "data": {
      "text/plain": [
       "5.6030064931589325e-05"
      ]
     },
     "execution_count": 254,
     "metadata": {},
     "output_type": "execute_result"
    }
   ],
   "source": [
    "mean_squared_error(y_test, y_pred)"
   ]
  },
  {
   "cell_type": "code",
   "execution_count": 255,
   "id": "4c5dd6ec-f50b-4df3-8983-908bfcc32dc8",
   "metadata": {},
   "outputs": [
    {
     "data": {
      "text/plain": [
       "0.9999334660858038"
      ]
     },
     "execution_count": 255,
     "metadata": {},
     "output_type": "execute_result"
    }
   ],
   "source": [
    "r2_score(y_test, y_pred)"
   ]
  },
  {
   "cell_type": "markdown",
   "id": "842af6ff-7294-409a-bbf2-9877e00bcb43",
   "metadata": {},
   "source": [
    "# Ridge"
   ]
  },
  {
   "cell_type": "code",
   "execution_count": 256,
   "id": "66718bb2-4c9a-4660-b903-14373ee5f2c9",
   "metadata": {},
   "outputs": [],
   "source": [
    "from sklearn.linear_model import Ridge"
   ]
  },
  {
   "cell_type": "code",
   "execution_count": 258,
   "id": "eccc98c5-ced2-4654-ba0f-6907daaaa51a",
   "metadata": {},
   "outputs": [],
   "source": [
    "ridge=Ridge(alpha=1.0)"
   ]
  },
  {
   "cell_type": "raw",
   "id": "79144bcf-697b-4b70-af98-bf3a0d60681d",
   "metadata": {},
   "source": [
    "ridge.fit(x_train,y_train)"
   ]
  },
  {
   "cell_type": "code",
   "execution_count": 265,
   "id": "43eb6bf3-e352-4ff7-ae1e-f223193adbed",
   "metadata": {},
   "outputs": [],
   "source": [
    "from sklearn.linear_model import Ridge"
   ]
  },
  {
   "cell_type": "code",
   "execution_count": 266,
   "id": "5a4af897-293e-4589-8308-eed5bfcdf7c8",
   "metadata": {},
   "outputs": [],
   "source": [
    "ridge = Ridge(alpha=1.0)\n"
   ]
  },
  {
   "cell_type": "code",
   "execution_count": 267,
   "id": "326c78c1-23fa-40b5-8f32-69deafe42928",
   "metadata": {},
   "outputs": [
    {
     "data": {
      "text/html": [
       "<style>#sk-container-id-5 {\n",
       "  /* Definition of color scheme common for light and dark mode */\n",
       "  --sklearn-color-text: black;\n",
       "  --sklearn-color-line: gray;\n",
       "  /* Definition of color scheme for unfitted estimators */\n",
       "  --sklearn-color-unfitted-level-0: #fff5e6;\n",
       "  --sklearn-color-unfitted-level-1: #f6e4d2;\n",
       "  --sklearn-color-unfitted-level-2: #ffe0b3;\n",
       "  --sklearn-color-unfitted-level-3: chocolate;\n",
       "  /* Definition of color scheme for fitted estimators */\n",
       "  --sklearn-color-fitted-level-0: #f0f8ff;\n",
       "  --sklearn-color-fitted-level-1: #d4ebff;\n",
       "  --sklearn-color-fitted-level-2: #b3dbfd;\n",
       "  --sklearn-color-fitted-level-3: cornflowerblue;\n",
       "\n",
       "  /* Specific color for light theme */\n",
       "  --sklearn-color-text-on-default-background: var(--sg-text-color, var(--theme-code-foreground, var(--jp-content-font-color1, black)));\n",
       "  --sklearn-color-background: var(--sg-background-color, var(--theme-background, var(--jp-layout-color0, white)));\n",
       "  --sklearn-color-border-box: var(--sg-text-color, var(--theme-code-foreground, var(--jp-content-font-color1, black)));\n",
       "  --sklearn-color-icon: #696969;\n",
       "\n",
       "  @media (prefers-color-scheme: dark) {\n",
       "    /* Redefinition of color scheme for dark theme */\n",
       "    --sklearn-color-text-on-default-background: var(--sg-text-color, var(--theme-code-foreground, var(--jp-content-font-color1, white)));\n",
       "    --sklearn-color-background: var(--sg-background-color, var(--theme-background, var(--jp-layout-color0, #111)));\n",
       "    --sklearn-color-border-box: var(--sg-text-color, var(--theme-code-foreground, var(--jp-content-font-color1, white)));\n",
       "    --sklearn-color-icon: #878787;\n",
       "  }\n",
       "}\n",
       "\n",
       "#sk-container-id-5 {\n",
       "  color: var(--sklearn-color-text);\n",
       "}\n",
       "\n",
       "#sk-container-id-5 pre {\n",
       "  padding: 0;\n",
       "}\n",
       "\n",
       "#sk-container-id-5 input.sk-hidden--visually {\n",
       "  border: 0;\n",
       "  clip: rect(1px 1px 1px 1px);\n",
       "  clip: rect(1px, 1px, 1px, 1px);\n",
       "  height: 1px;\n",
       "  margin: -1px;\n",
       "  overflow: hidden;\n",
       "  padding: 0;\n",
       "  position: absolute;\n",
       "  width: 1px;\n",
       "}\n",
       "\n",
       "#sk-container-id-5 div.sk-dashed-wrapped {\n",
       "  border: 1px dashed var(--sklearn-color-line);\n",
       "  margin: 0 0.4em 0.5em 0.4em;\n",
       "  box-sizing: border-box;\n",
       "  padding-bottom: 0.4em;\n",
       "  background-color: var(--sklearn-color-background);\n",
       "}\n",
       "\n",
       "#sk-container-id-5 div.sk-container {\n",
       "  /* jupyter's `normalize.less` sets `[hidden] { display: none; }`\n",
       "     but bootstrap.min.css set `[hidden] { display: none !important; }`\n",
       "     so we also need the `!important` here to be able to override the\n",
       "     default hidden behavior on the sphinx rendered scikit-learn.org.\n",
       "     See: https://github.com/scikit-learn/scikit-learn/issues/21755 */\n",
       "  display: inline-block !important;\n",
       "  position: relative;\n",
       "}\n",
       "\n",
       "#sk-container-id-5 div.sk-text-repr-fallback {\n",
       "  display: none;\n",
       "}\n",
       "\n",
       "div.sk-parallel-item,\n",
       "div.sk-serial,\n",
       "div.sk-item {\n",
       "  /* draw centered vertical line to link estimators */\n",
       "  background-image: linear-gradient(var(--sklearn-color-text-on-default-background), var(--sklearn-color-text-on-default-background));\n",
       "  background-size: 2px 100%;\n",
       "  background-repeat: no-repeat;\n",
       "  background-position: center center;\n",
       "}\n",
       "\n",
       "/* Parallel-specific style estimator block */\n",
       "\n",
       "#sk-container-id-5 div.sk-parallel-item::after {\n",
       "  content: \"\";\n",
       "  width: 100%;\n",
       "  border-bottom: 2px solid var(--sklearn-color-text-on-default-background);\n",
       "  flex-grow: 1;\n",
       "}\n",
       "\n",
       "#sk-container-id-5 div.sk-parallel {\n",
       "  display: flex;\n",
       "  align-items: stretch;\n",
       "  justify-content: center;\n",
       "  background-color: var(--sklearn-color-background);\n",
       "  position: relative;\n",
       "}\n",
       "\n",
       "#sk-container-id-5 div.sk-parallel-item {\n",
       "  display: flex;\n",
       "  flex-direction: column;\n",
       "}\n",
       "\n",
       "#sk-container-id-5 div.sk-parallel-item:first-child::after {\n",
       "  align-self: flex-end;\n",
       "  width: 50%;\n",
       "}\n",
       "\n",
       "#sk-container-id-5 div.sk-parallel-item:last-child::after {\n",
       "  align-self: flex-start;\n",
       "  width: 50%;\n",
       "}\n",
       "\n",
       "#sk-container-id-5 div.sk-parallel-item:only-child::after {\n",
       "  width: 0;\n",
       "}\n",
       "\n",
       "/* Serial-specific style estimator block */\n",
       "\n",
       "#sk-container-id-5 div.sk-serial {\n",
       "  display: flex;\n",
       "  flex-direction: column;\n",
       "  align-items: center;\n",
       "  background-color: var(--sklearn-color-background);\n",
       "  padding-right: 1em;\n",
       "  padding-left: 1em;\n",
       "}\n",
       "\n",
       "\n",
       "/* Toggleable style: style used for estimator/Pipeline/ColumnTransformer box that is\n",
       "clickable and can be expanded/collapsed.\n",
       "- Pipeline and ColumnTransformer use this feature and define the default style\n",
       "- Estimators will overwrite some part of the style using the `sk-estimator` class\n",
       "*/\n",
       "\n",
       "/* Pipeline and ColumnTransformer style (default) */\n",
       "\n",
       "#sk-container-id-5 div.sk-toggleable {\n",
       "  /* Default theme specific background. It is overwritten whether we have a\n",
       "  specific estimator or a Pipeline/ColumnTransformer */\n",
       "  background-color: var(--sklearn-color-background);\n",
       "}\n",
       "\n",
       "/* Toggleable label */\n",
       "#sk-container-id-5 label.sk-toggleable__label {\n",
       "  cursor: pointer;\n",
       "  display: block;\n",
       "  width: 100%;\n",
       "  margin-bottom: 0;\n",
       "  padding: 0.5em;\n",
       "  box-sizing: border-box;\n",
       "  text-align: center;\n",
       "}\n",
       "\n",
       "#sk-container-id-5 label.sk-toggleable__label-arrow:before {\n",
       "  /* Arrow on the left of the label */\n",
       "  content: \"▸\";\n",
       "  float: left;\n",
       "  margin-right: 0.25em;\n",
       "  color: var(--sklearn-color-icon);\n",
       "}\n",
       "\n",
       "#sk-container-id-5 label.sk-toggleable__label-arrow:hover:before {\n",
       "  color: var(--sklearn-color-text);\n",
       "}\n",
       "\n",
       "/* Toggleable content - dropdown */\n",
       "\n",
       "#sk-container-id-5 div.sk-toggleable__content {\n",
       "  max-height: 0;\n",
       "  max-width: 0;\n",
       "  overflow: hidden;\n",
       "  text-align: left;\n",
       "  /* unfitted */\n",
       "  background-color: var(--sklearn-color-unfitted-level-0);\n",
       "}\n",
       "\n",
       "#sk-container-id-5 div.sk-toggleable__content.fitted {\n",
       "  /* fitted */\n",
       "  background-color: var(--sklearn-color-fitted-level-0);\n",
       "}\n",
       "\n",
       "#sk-container-id-5 div.sk-toggleable__content pre {\n",
       "  margin: 0.2em;\n",
       "  border-radius: 0.25em;\n",
       "  color: var(--sklearn-color-text);\n",
       "  /* unfitted */\n",
       "  background-color: var(--sklearn-color-unfitted-level-0);\n",
       "}\n",
       "\n",
       "#sk-container-id-5 div.sk-toggleable__content.fitted pre {\n",
       "  /* unfitted */\n",
       "  background-color: var(--sklearn-color-fitted-level-0);\n",
       "}\n",
       "\n",
       "#sk-container-id-5 input.sk-toggleable__control:checked~div.sk-toggleable__content {\n",
       "  /* Expand drop-down */\n",
       "  max-height: 200px;\n",
       "  max-width: 100%;\n",
       "  overflow: auto;\n",
       "}\n",
       "\n",
       "#sk-container-id-5 input.sk-toggleable__control:checked~label.sk-toggleable__label-arrow:before {\n",
       "  content: \"▾\";\n",
       "}\n",
       "\n",
       "/* Pipeline/ColumnTransformer-specific style */\n",
       "\n",
       "#sk-container-id-5 div.sk-label input.sk-toggleable__control:checked~label.sk-toggleable__label {\n",
       "  color: var(--sklearn-color-text);\n",
       "  background-color: var(--sklearn-color-unfitted-level-2);\n",
       "}\n",
       "\n",
       "#sk-container-id-5 div.sk-label.fitted input.sk-toggleable__control:checked~label.sk-toggleable__label {\n",
       "  background-color: var(--sklearn-color-fitted-level-2);\n",
       "}\n",
       "\n",
       "/* Estimator-specific style */\n",
       "\n",
       "/* Colorize estimator box */\n",
       "#sk-container-id-5 div.sk-estimator input.sk-toggleable__control:checked~label.sk-toggleable__label {\n",
       "  /* unfitted */\n",
       "  background-color: var(--sklearn-color-unfitted-level-2);\n",
       "}\n",
       "\n",
       "#sk-container-id-5 div.sk-estimator.fitted input.sk-toggleable__control:checked~label.sk-toggleable__label {\n",
       "  /* fitted */\n",
       "  background-color: var(--sklearn-color-fitted-level-2);\n",
       "}\n",
       "\n",
       "#sk-container-id-5 div.sk-label label.sk-toggleable__label,\n",
       "#sk-container-id-5 div.sk-label label {\n",
       "  /* The background is the default theme color */\n",
       "  color: var(--sklearn-color-text-on-default-background);\n",
       "}\n",
       "\n",
       "/* On hover, darken the color of the background */\n",
       "#sk-container-id-5 div.sk-label:hover label.sk-toggleable__label {\n",
       "  color: var(--sklearn-color-text);\n",
       "  background-color: var(--sklearn-color-unfitted-level-2);\n",
       "}\n",
       "\n",
       "/* Label box, darken color on hover, fitted */\n",
       "#sk-container-id-5 div.sk-label.fitted:hover label.sk-toggleable__label.fitted {\n",
       "  color: var(--sklearn-color-text);\n",
       "  background-color: var(--sklearn-color-fitted-level-2);\n",
       "}\n",
       "\n",
       "/* Estimator label */\n",
       "\n",
       "#sk-container-id-5 div.sk-label label {\n",
       "  font-family: monospace;\n",
       "  font-weight: bold;\n",
       "  display: inline-block;\n",
       "  line-height: 1.2em;\n",
       "}\n",
       "\n",
       "#sk-container-id-5 div.sk-label-container {\n",
       "  text-align: center;\n",
       "}\n",
       "\n",
       "/* Estimator-specific */\n",
       "#sk-container-id-5 div.sk-estimator {\n",
       "  font-family: monospace;\n",
       "  border: 1px dotted var(--sklearn-color-border-box);\n",
       "  border-radius: 0.25em;\n",
       "  box-sizing: border-box;\n",
       "  margin-bottom: 0.5em;\n",
       "  /* unfitted */\n",
       "  background-color: var(--sklearn-color-unfitted-level-0);\n",
       "}\n",
       "\n",
       "#sk-container-id-5 div.sk-estimator.fitted {\n",
       "  /* fitted */\n",
       "  background-color: var(--sklearn-color-fitted-level-0);\n",
       "}\n",
       "\n",
       "/* on hover */\n",
       "#sk-container-id-5 div.sk-estimator:hover {\n",
       "  /* unfitted */\n",
       "  background-color: var(--sklearn-color-unfitted-level-2);\n",
       "}\n",
       "\n",
       "#sk-container-id-5 div.sk-estimator.fitted:hover {\n",
       "  /* fitted */\n",
       "  background-color: var(--sklearn-color-fitted-level-2);\n",
       "}\n",
       "\n",
       "/* Specification for estimator info (e.g. \"i\" and \"?\") */\n",
       "\n",
       "/* Common style for \"i\" and \"?\" */\n",
       "\n",
       ".sk-estimator-doc-link,\n",
       "a:link.sk-estimator-doc-link,\n",
       "a:visited.sk-estimator-doc-link {\n",
       "  float: right;\n",
       "  font-size: smaller;\n",
       "  line-height: 1em;\n",
       "  font-family: monospace;\n",
       "  background-color: var(--sklearn-color-background);\n",
       "  border-radius: 1em;\n",
       "  height: 1em;\n",
       "  width: 1em;\n",
       "  text-decoration: none !important;\n",
       "  margin-left: 1ex;\n",
       "  /* unfitted */\n",
       "  border: var(--sklearn-color-unfitted-level-1) 1pt solid;\n",
       "  color: var(--sklearn-color-unfitted-level-1);\n",
       "}\n",
       "\n",
       ".sk-estimator-doc-link.fitted,\n",
       "a:link.sk-estimator-doc-link.fitted,\n",
       "a:visited.sk-estimator-doc-link.fitted {\n",
       "  /* fitted */\n",
       "  border: var(--sklearn-color-fitted-level-1) 1pt solid;\n",
       "  color: var(--sklearn-color-fitted-level-1);\n",
       "}\n",
       "\n",
       "/* On hover */\n",
       "div.sk-estimator:hover .sk-estimator-doc-link:hover,\n",
       ".sk-estimator-doc-link:hover,\n",
       "div.sk-label-container:hover .sk-estimator-doc-link:hover,\n",
       ".sk-estimator-doc-link:hover {\n",
       "  /* unfitted */\n",
       "  background-color: var(--sklearn-color-unfitted-level-3);\n",
       "  color: var(--sklearn-color-background);\n",
       "  text-decoration: none;\n",
       "}\n",
       "\n",
       "div.sk-estimator.fitted:hover .sk-estimator-doc-link.fitted:hover,\n",
       ".sk-estimator-doc-link.fitted:hover,\n",
       "div.sk-label-container:hover .sk-estimator-doc-link.fitted:hover,\n",
       ".sk-estimator-doc-link.fitted:hover {\n",
       "  /* fitted */\n",
       "  background-color: var(--sklearn-color-fitted-level-3);\n",
       "  color: var(--sklearn-color-background);\n",
       "  text-decoration: none;\n",
       "}\n",
       "\n",
       "/* Span, style for the box shown on hovering the info icon */\n",
       ".sk-estimator-doc-link span {\n",
       "  display: none;\n",
       "  z-index: 9999;\n",
       "  position: relative;\n",
       "  font-weight: normal;\n",
       "  right: .2ex;\n",
       "  padding: .5ex;\n",
       "  margin: .5ex;\n",
       "  width: min-content;\n",
       "  min-width: 20ex;\n",
       "  max-width: 50ex;\n",
       "  color: var(--sklearn-color-text);\n",
       "  box-shadow: 2pt 2pt 4pt #999;\n",
       "  /* unfitted */\n",
       "  background: var(--sklearn-color-unfitted-level-0);\n",
       "  border: .5pt solid var(--sklearn-color-unfitted-level-3);\n",
       "}\n",
       "\n",
       ".sk-estimator-doc-link.fitted span {\n",
       "  /* fitted */\n",
       "  background: var(--sklearn-color-fitted-level-0);\n",
       "  border: var(--sklearn-color-fitted-level-3);\n",
       "}\n",
       "\n",
       ".sk-estimator-doc-link:hover span {\n",
       "  display: block;\n",
       "}\n",
       "\n",
       "/* \"?\"-specific style due to the `<a>` HTML tag */\n",
       "\n",
       "#sk-container-id-5 a.estimator_doc_link {\n",
       "  float: right;\n",
       "  font-size: 1rem;\n",
       "  line-height: 1em;\n",
       "  font-family: monospace;\n",
       "  background-color: var(--sklearn-color-background);\n",
       "  border-radius: 1rem;\n",
       "  height: 1rem;\n",
       "  width: 1rem;\n",
       "  text-decoration: none;\n",
       "  /* unfitted */\n",
       "  color: var(--sklearn-color-unfitted-level-1);\n",
       "  border: var(--sklearn-color-unfitted-level-1) 1pt solid;\n",
       "}\n",
       "\n",
       "#sk-container-id-5 a.estimator_doc_link.fitted {\n",
       "  /* fitted */\n",
       "  border: var(--sklearn-color-fitted-level-1) 1pt solid;\n",
       "  color: var(--sklearn-color-fitted-level-1);\n",
       "}\n",
       "\n",
       "/* On hover */\n",
       "#sk-container-id-5 a.estimator_doc_link:hover {\n",
       "  /* unfitted */\n",
       "  background-color: var(--sklearn-color-unfitted-level-3);\n",
       "  color: var(--sklearn-color-background);\n",
       "  text-decoration: none;\n",
       "}\n",
       "\n",
       "#sk-container-id-5 a.estimator_doc_link.fitted:hover {\n",
       "  /* fitted */\n",
       "  background-color: var(--sklearn-color-fitted-level-3);\n",
       "}\n",
       "</style><div id=\"sk-container-id-5\" class=\"sk-top-container\"><div class=\"sk-text-repr-fallback\"><pre>Ridge()</pre><b>In a Jupyter environment, please rerun this cell to show the HTML representation or trust the notebook. <br />On GitHub, the HTML representation is unable to render, please try loading this page with nbviewer.org.</b></div><div class=\"sk-container\" hidden><div class=\"sk-item\"><div class=\"sk-estimator fitted sk-toggleable\"><input class=\"sk-toggleable__control sk-hidden--visually\" id=\"sk-estimator-id-5\" type=\"checkbox\" checked><label for=\"sk-estimator-id-5\" class=\"sk-toggleable__label fitted sk-toggleable__label-arrow fitted\">&nbsp;&nbsp;Ridge<a class=\"sk-estimator-doc-link fitted\" rel=\"noreferrer\" target=\"_blank\" href=\"https://scikit-learn.org/1.5/modules/generated/sklearn.linear_model.Ridge.html\">?<span>Documentation for Ridge</span></a><span class=\"sk-estimator-doc-link fitted\">i<span>Fitted</span></span></label><div class=\"sk-toggleable__content fitted\"><pre>Ridge()</pre></div> </div></div></div></div>"
      ],
      "text/plain": [
       "Ridge()"
      ]
     },
     "execution_count": 267,
     "metadata": {},
     "output_type": "execute_result"
    }
   ],
   "source": [
    "ridge.fit(x_train, y_train)\n"
   ]
  },
  {
   "cell_type": "code",
   "execution_count": 268,
   "id": "0d03f272-34c3-41fb-a432-a02fda3dde1f",
   "metadata": {},
   "outputs": [],
   "source": [
    "y_pred = ridge.predict(x_test)"
   ]
  },
  {
   "cell_type": "code",
   "execution_count": 269,
   "id": "91083d4c-bd23-4891-b129-10c33d275421",
   "metadata": {},
   "outputs": [
    {
     "data": {
      "text/plain": [
       "array([ 1.26569939,  1.02822997,  0.30298559,  0.85067859,  0.75228786,\n",
       "        1.58214446,  0.53529278,  0.55686223,  1.1425254 ,  0.985888  ,\n",
       "        0.65305272,  1.04967133,  1.88807218,  1.98580048,  0.66492025,\n",
       "        1.09870283,  1.4708816 ,  1.38190997,  0.753378  ,  2.36982604,\n",
       "        2.81719857,  0.2532478 ,  0.9479126 ,  0.24414894,  0.8986724 ,\n",
       "       -0.11953258,  0.49084498,  2.01582055,  1.21015858,  2.38129924,\n",
       "        0.21777261,  1.4673346 ,  1.35637691,  2.39201888,  1.46469616,\n",
       "        0.83495338,  1.50164772,  1.35992359,  1.2812727 ,  1.84810853,\n",
       "        0.84522901, -0.1012344 ,  0.9363701 ,  1.33797168,  0.01684169,\n",
       "        1.2811741 ,  0.63779551,  0.06201562,  1.61708335,  1.03769247,\n",
       "        2.30764241,  0.1322997 ,  0.43583231,  1.42395662,  0.13582461,\n",
       "        0.27013959,  2.1700655 ,  0.71400415,  0.37015608,  1.82748875,\n",
       "        0.56516805,  1.02529877,  0.11946165,  0.03476511,  0.91055047,\n",
       "        2.20861123,  1.68614082,  1.34547919,  0.71911563,  0.02595444,\n",
       "       -0.59488828,  1.45218965,  0.90681095,  0.15411252,  2.400393  ,\n",
       "        0.52071459,  1.28137131,  1.3507938 ,  0.14858294,  1.99287546,\n",
       "        0.47804949, -0.52577396,  2.56602149,  2.21461047,  0.44174113,\n",
       "        1.74469133,  2.29832297,  2.17250303,  0.45106679,  0.62486983,\n",
       "        0.6153598 ,  0.76512669,  0.15548541,  2.01266047, -0.23785899,\n",
       "        0.6035113 ,  1.9413304 ,  1.8185198 ,  2.5763221 ,  0.56488857,\n",
       "        2.44903824,  2.39395411,  0.13886382,  0.68133932,  0.04872033,\n",
       "       -0.11958522,  1.06480499,  0.29171192,  0.25818207,  1.44001566,\n",
       "        0.83544657,  1.94969152,  1.84175407,  0.56718839,  0.10158625,\n",
       "        1.9483428 ,  0.33908411,  1.55754978, -1.07896304,  1.30681174,\n",
       "        2.21377552,  2.53179393,  0.74176305,  1.05253563,  0.5992397 ,\n",
       "        0.41355018,  0.73587105,  1.63969   , -1.13547714,  2.02466669,\n",
       "       -0.23799514,  0.19556102,  1.73313093,  1.51371303])"
      ]
     },
     "execution_count": 269,
     "metadata": {},
     "output_type": "execute_result"
    }
   ],
   "source": [
    "y_pred"
   ]
  },
  {
   "cell_type": "code",
   "execution_count": 270,
   "id": "0e111740-302e-4e59-a887-15937dd319ce",
   "metadata": {},
   "outputs": [
    {
     "data": {
      "text/plain": [
       "0.3421248357802966"
      ]
     },
     "execution_count": 270,
     "metadata": {},
     "output_type": "execute_result"
    }
   ],
   "source": [
    "mean_absolute_error(y_test,y_pred)"
   ]
  },
  {
   "cell_type": "code",
   "execution_count": 271,
   "id": "6ebc3a3d-0c0a-4526-9bdf-dcfa443f6ab7",
   "metadata": {},
   "outputs": [
    {
     "data": {
      "text/plain": [
       "0.17182006120045182"
      ]
     },
     "execution_count": 271,
     "metadata": {},
     "output_type": "execute_result"
    }
   ],
   "source": [
    "mean_squared_error(y_test,y_pred)"
   ]
  },
  {
   "cell_type": "code",
   "execution_count": 272,
   "id": "7f419768-8809-457e-9e0b-73291299b2d5",
   "metadata": {},
   "outputs": [
    {
     "data": {
      "text/plain": [
       "0.7959691600740157"
      ]
     },
     "execution_count": 272,
     "metadata": {},
     "output_type": "execute_result"
    }
   ],
   "source": [
    "r2_score(y_test,y_pred)"
   ]
  },
  {
   "cell_type": "markdown",
   "id": "14bd61d7-cf4c-4f1b-9db9-c19a8c6fb6c2",
   "metadata": {},
   "source": [
    "# Lasso"
   ]
  },
  {
   "cell_type": "code",
   "execution_count": 273,
   "id": "dbe00756-edb2-4fd3-9989-0de725645b87",
   "metadata": {},
   "outputs": [],
   "source": [
    "from sklearn.linear_model import Lasso"
   ]
  },
  {
   "cell_type": "code",
   "execution_count": 275,
   "id": "e0fcb147-fc6c-4035-afb2-775da7435630",
   "metadata": {},
   "outputs": [],
   "source": [
    "lasso=Lasso(alpha=1.0)"
   ]
  },
  {
   "cell_type": "code",
   "execution_count": 277,
   "id": "263fdddf-2405-4ccd-a72c-4b6a83bcf2bb",
   "metadata": {},
   "outputs": [
    {
     "data": {
      "text/html": [
       "<style>#sk-container-id-6 {\n",
       "  /* Definition of color scheme common for light and dark mode */\n",
       "  --sklearn-color-text: black;\n",
       "  --sklearn-color-line: gray;\n",
       "  /* Definition of color scheme for unfitted estimators */\n",
       "  --sklearn-color-unfitted-level-0: #fff5e6;\n",
       "  --sklearn-color-unfitted-level-1: #f6e4d2;\n",
       "  --sklearn-color-unfitted-level-2: #ffe0b3;\n",
       "  --sklearn-color-unfitted-level-3: chocolate;\n",
       "  /* Definition of color scheme for fitted estimators */\n",
       "  --sklearn-color-fitted-level-0: #f0f8ff;\n",
       "  --sklearn-color-fitted-level-1: #d4ebff;\n",
       "  --sklearn-color-fitted-level-2: #b3dbfd;\n",
       "  --sklearn-color-fitted-level-3: cornflowerblue;\n",
       "\n",
       "  /* Specific color for light theme */\n",
       "  --sklearn-color-text-on-default-background: var(--sg-text-color, var(--theme-code-foreground, var(--jp-content-font-color1, black)));\n",
       "  --sklearn-color-background: var(--sg-background-color, var(--theme-background, var(--jp-layout-color0, white)));\n",
       "  --sklearn-color-border-box: var(--sg-text-color, var(--theme-code-foreground, var(--jp-content-font-color1, black)));\n",
       "  --sklearn-color-icon: #696969;\n",
       "\n",
       "  @media (prefers-color-scheme: dark) {\n",
       "    /* Redefinition of color scheme for dark theme */\n",
       "    --sklearn-color-text-on-default-background: var(--sg-text-color, var(--theme-code-foreground, var(--jp-content-font-color1, white)));\n",
       "    --sklearn-color-background: var(--sg-background-color, var(--theme-background, var(--jp-layout-color0, #111)));\n",
       "    --sklearn-color-border-box: var(--sg-text-color, var(--theme-code-foreground, var(--jp-content-font-color1, white)));\n",
       "    --sklearn-color-icon: #878787;\n",
       "  }\n",
       "}\n",
       "\n",
       "#sk-container-id-6 {\n",
       "  color: var(--sklearn-color-text);\n",
       "}\n",
       "\n",
       "#sk-container-id-6 pre {\n",
       "  padding: 0;\n",
       "}\n",
       "\n",
       "#sk-container-id-6 input.sk-hidden--visually {\n",
       "  border: 0;\n",
       "  clip: rect(1px 1px 1px 1px);\n",
       "  clip: rect(1px, 1px, 1px, 1px);\n",
       "  height: 1px;\n",
       "  margin: -1px;\n",
       "  overflow: hidden;\n",
       "  padding: 0;\n",
       "  position: absolute;\n",
       "  width: 1px;\n",
       "}\n",
       "\n",
       "#sk-container-id-6 div.sk-dashed-wrapped {\n",
       "  border: 1px dashed var(--sklearn-color-line);\n",
       "  margin: 0 0.4em 0.5em 0.4em;\n",
       "  box-sizing: border-box;\n",
       "  padding-bottom: 0.4em;\n",
       "  background-color: var(--sklearn-color-background);\n",
       "}\n",
       "\n",
       "#sk-container-id-6 div.sk-container {\n",
       "  /* jupyter's `normalize.less` sets `[hidden] { display: none; }`\n",
       "     but bootstrap.min.css set `[hidden] { display: none !important; }`\n",
       "     so we also need the `!important` here to be able to override the\n",
       "     default hidden behavior on the sphinx rendered scikit-learn.org.\n",
       "     See: https://github.com/scikit-learn/scikit-learn/issues/21755 */\n",
       "  display: inline-block !important;\n",
       "  position: relative;\n",
       "}\n",
       "\n",
       "#sk-container-id-6 div.sk-text-repr-fallback {\n",
       "  display: none;\n",
       "}\n",
       "\n",
       "div.sk-parallel-item,\n",
       "div.sk-serial,\n",
       "div.sk-item {\n",
       "  /* draw centered vertical line to link estimators */\n",
       "  background-image: linear-gradient(var(--sklearn-color-text-on-default-background), var(--sklearn-color-text-on-default-background));\n",
       "  background-size: 2px 100%;\n",
       "  background-repeat: no-repeat;\n",
       "  background-position: center center;\n",
       "}\n",
       "\n",
       "/* Parallel-specific style estimator block */\n",
       "\n",
       "#sk-container-id-6 div.sk-parallel-item::after {\n",
       "  content: \"\";\n",
       "  width: 100%;\n",
       "  border-bottom: 2px solid var(--sklearn-color-text-on-default-background);\n",
       "  flex-grow: 1;\n",
       "}\n",
       "\n",
       "#sk-container-id-6 div.sk-parallel {\n",
       "  display: flex;\n",
       "  align-items: stretch;\n",
       "  justify-content: center;\n",
       "  background-color: var(--sklearn-color-background);\n",
       "  position: relative;\n",
       "}\n",
       "\n",
       "#sk-container-id-6 div.sk-parallel-item {\n",
       "  display: flex;\n",
       "  flex-direction: column;\n",
       "}\n",
       "\n",
       "#sk-container-id-6 div.sk-parallel-item:first-child::after {\n",
       "  align-self: flex-end;\n",
       "  width: 50%;\n",
       "}\n",
       "\n",
       "#sk-container-id-6 div.sk-parallel-item:last-child::after {\n",
       "  align-self: flex-start;\n",
       "  width: 50%;\n",
       "}\n",
       "\n",
       "#sk-container-id-6 div.sk-parallel-item:only-child::after {\n",
       "  width: 0;\n",
       "}\n",
       "\n",
       "/* Serial-specific style estimator block */\n",
       "\n",
       "#sk-container-id-6 div.sk-serial {\n",
       "  display: flex;\n",
       "  flex-direction: column;\n",
       "  align-items: center;\n",
       "  background-color: var(--sklearn-color-background);\n",
       "  padding-right: 1em;\n",
       "  padding-left: 1em;\n",
       "}\n",
       "\n",
       "\n",
       "/* Toggleable style: style used for estimator/Pipeline/ColumnTransformer box that is\n",
       "clickable and can be expanded/collapsed.\n",
       "- Pipeline and ColumnTransformer use this feature and define the default style\n",
       "- Estimators will overwrite some part of the style using the `sk-estimator` class\n",
       "*/\n",
       "\n",
       "/* Pipeline and ColumnTransformer style (default) */\n",
       "\n",
       "#sk-container-id-6 div.sk-toggleable {\n",
       "  /* Default theme specific background. It is overwritten whether we have a\n",
       "  specific estimator or a Pipeline/ColumnTransformer */\n",
       "  background-color: var(--sklearn-color-background);\n",
       "}\n",
       "\n",
       "/* Toggleable label */\n",
       "#sk-container-id-6 label.sk-toggleable__label {\n",
       "  cursor: pointer;\n",
       "  display: block;\n",
       "  width: 100%;\n",
       "  margin-bottom: 0;\n",
       "  padding: 0.5em;\n",
       "  box-sizing: border-box;\n",
       "  text-align: center;\n",
       "}\n",
       "\n",
       "#sk-container-id-6 label.sk-toggleable__label-arrow:before {\n",
       "  /* Arrow on the left of the label */\n",
       "  content: \"▸\";\n",
       "  float: left;\n",
       "  margin-right: 0.25em;\n",
       "  color: var(--sklearn-color-icon);\n",
       "}\n",
       "\n",
       "#sk-container-id-6 label.sk-toggleable__label-arrow:hover:before {\n",
       "  color: var(--sklearn-color-text);\n",
       "}\n",
       "\n",
       "/* Toggleable content - dropdown */\n",
       "\n",
       "#sk-container-id-6 div.sk-toggleable__content {\n",
       "  max-height: 0;\n",
       "  max-width: 0;\n",
       "  overflow: hidden;\n",
       "  text-align: left;\n",
       "  /* unfitted */\n",
       "  background-color: var(--sklearn-color-unfitted-level-0);\n",
       "}\n",
       "\n",
       "#sk-container-id-6 div.sk-toggleable__content.fitted {\n",
       "  /* fitted */\n",
       "  background-color: var(--sklearn-color-fitted-level-0);\n",
       "}\n",
       "\n",
       "#sk-container-id-6 div.sk-toggleable__content pre {\n",
       "  margin: 0.2em;\n",
       "  border-radius: 0.25em;\n",
       "  color: var(--sklearn-color-text);\n",
       "  /* unfitted */\n",
       "  background-color: var(--sklearn-color-unfitted-level-0);\n",
       "}\n",
       "\n",
       "#sk-container-id-6 div.sk-toggleable__content.fitted pre {\n",
       "  /* unfitted */\n",
       "  background-color: var(--sklearn-color-fitted-level-0);\n",
       "}\n",
       "\n",
       "#sk-container-id-6 input.sk-toggleable__control:checked~div.sk-toggleable__content {\n",
       "  /* Expand drop-down */\n",
       "  max-height: 200px;\n",
       "  max-width: 100%;\n",
       "  overflow: auto;\n",
       "}\n",
       "\n",
       "#sk-container-id-6 input.sk-toggleable__control:checked~label.sk-toggleable__label-arrow:before {\n",
       "  content: \"▾\";\n",
       "}\n",
       "\n",
       "/* Pipeline/ColumnTransformer-specific style */\n",
       "\n",
       "#sk-container-id-6 div.sk-label input.sk-toggleable__control:checked~label.sk-toggleable__label {\n",
       "  color: var(--sklearn-color-text);\n",
       "  background-color: var(--sklearn-color-unfitted-level-2);\n",
       "}\n",
       "\n",
       "#sk-container-id-6 div.sk-label.fitted input.sk-toggleable__control:checked~label.sk-toggleable__label {\n",
       "  background-color: var(--sklearn-color-fitted-level-2);\n",
       "}\n",
       "\n",
       "/* Estimator-specific style */\n",
       "\n",
       "/* Colorize estimator box */\n",
       "#sk-container-id-6 div.sk-estimator input.sk-toggleable__control:checked~label.sk-toggleable__label {\n",
       "  /* unfitted */\n",
       "  background-color: var(--sklearn-color-unfitted-level-2);\n",
       "}\n",
       "\n",
       "#sk-container-id-6 div.sk-estimator.fitted input.sk-toggleable__control:checked~label.sk-toggleable__label {\n",
       "  /* fitted */\n",
       "  background-color: var(--sklearn-color-fitted-level-2);\n",
       "}\n",
       "\n",
       "#sk-container-id-6 div.sk-label label.sk-toggleable__label,\n",
       "#sk-container-id-6 div.sk-label label {\n",
       "  /* The background is the default theme color */\n",
       "  color: var(--sklearn-color-text-on-default-background);\n",
       "}\n",
       "\n",
       "/* On hover, darken the color of the background */\n",
       "#sk-container-id-6 div.sk-label:hover label.sk-toggleable__label {\n",
       "  color: var(--sklearn-color-text);\n",
       "  background-color: var(--sklearn-color-unfitted-level-2);\n",
       "}\n",
       "\n",
       "/* Label box, darken color on hover, fitted */\n",
       "#sk-container-id-6 div.sk-label.fitted:hover label.sk-toggleable__label.fitted {\n",
       "  color: var(--sklearn-color-text);\n",
       "  background-color: var(--sklearn-color-fitted-level-2);\n",
       "}\n",
       "\n",
       "/* Estimator label */\n",
       "\n",
       "#sk-container-id-6 div.sk-label label {\n",
       "  font-family: monospace;\n",
       "  font-weight: bold;\n",
       "  display: inline-block;\n",
       "  line-height: 1.2em;\n",
       "}\n",
       "\n",
       "#sk-container-id-6 div.sk-label-container {\n",
       "  text-align: center;\n",
       "}\n",
       "\n",
       "/* Estimator-specific */\n",
       "#sk-container-id-6 div.sk-estimator {\n",
       "  font-family: monospace;\n",
       "  border: 1px dotted var(--sklearn-color-border-box);\n",
       "  border-radius: 0.25em;\n",
       "  box-sizing: border-box;\n",
       "  margin-bottom: 0.5em;\n",
       "  /* unfitted */\n",
       "  background-color: var(--sklearn-color-unfitted-level-0);\n",
       "}\n",
       "\n",
       "#sk-container-id-6 div.sk-estimator.fitted {\n",
       "  /* fitted */\n",
       "  background-color: var(--sklearn-color-fitted-level-0);\n",
       "}\n",
       "\n",
       "/* on hover */\n",
       "#sk-container-id-6 div.sk-estimator:hover {\n",
       "  /* unfitted */\n",
       "  background-color: var(--sklearn-color-unfitted-level-2);\n",
       "}\n",
       "\n",
       "#sk-container-id-6 div.sk-estimator.fitted:hover {\n",
       "  /* fitted */\n",
       "  background-color: var(--sklearn-color-fitted-level-2);\n",
       "}\n",
       "\n",
       "/* Specification for estimator info (e.g. \"i\" and \"?\") */\n",
       "\n",
       "/* Common style for \"i\" and \"?\" */\n",
       "\n",
       ".sk-estimator-doc-link,\n",
       "a:link.sk-estimator-doc-link,\n",
       "a:visited.sk-estimator-doc-link {\n",
       "  float: right;\n",
       "  font-size: smaller;\n",
       "  line-height: 1em;\n",
       "  font-family: monospace;\n",
       "  background-color: var(--sklearn-color-background);\n",
       "  border-radius: 1em;\n",
       "  height: 1em;\n",
       "  width: 1em;\n",
       "  text-decoration: none !important;\n",
       "  margin-left: 1ex;\n",
       "  /* unfitted */\n",
       "  border: var(--sklearn-color-unfitted-level-1) 1pt solid;\n",
       "  color: var(--sklearn-color-unfitted-level-1);\n",
       "}\n",
       "\n",
       ".sk-estimator-doc-link.fitted,\n",
       "a:link.sk-estimator-doc-link.fitted,\n",
       "a:visited.sk-estimator-doc-link.fitted {\n",
       "  /* fitted */\n",
       "  border: var(--sklearn-color-fitted-level-1) 1pt solid;\n",
       "  color: var(--sklearn-color-fitted-level-1);\n",
       "}\n",
       "\n",
       "/* On hover */\n",
       "div.sk-estimator:hover .sk-estimator-doc-link:hover,\n",
       ".sk-estimator-doc-link:hover,\n",
       "div.sk-label-container:hover .sk-estimator-doc-link:hover,\n",
       ".sk-estimator-doc-link:hover {\n",
       "  /* unfitted */\n",
       "  background-color: var(--sklearn-color-unfitted-level-3);\n",
       "  color: var(--sklearn-color-background);\n",
       "  text-decoration: none;\n",
       "}\n",
       "\n",
       "div.sk-estimator.fitted:hover .sk-estimator-doc-link.fitted:hover,\n",
       ".sk-estimator-doc-link.fitted:hover,\n",
       "div.sk-label-container:hover .sk-estimator-doc-link.fitted:hover,\n",
       ".sk-estimator-doc-link.fitted:hover {\n",
       "  /* fitted */\n",
       "  background-color: var(--sklearn-color-fitted-level-3);\n",
       "  color: var(--sklearn-color-background);\n",
       "  text-decoration: none;\n",
       "}\n",
       "\n",
       "/* Span, style for the box shown on hovering the info icon */\n",
       ".sk-estimator-doc-link span {\n",
       "  display: none;\n",
       "  z-index: 9999;\n",
       "  position: relative;\n",
       "  font-weight: normal;\n",
       "  right: .2ex;\n",
       "  padding: .5ex;\n",
       "  margin: .5ex;\n",
       "  width: min-content;\n",
       "  min-width: 20ex;\n",
       "  max-width: 50ex;\n",
       "  color: var(--sklearn-color-text);\n",
       "  box-shadow: 2pt 2pt 4pt #999;\n",
       "  /* unfitted */\n",
       "  background: var(--sklearn-color-unfitted-level-0);\n",
       "  border: .5pt solid var(--sklearn-color-unfitted-level-3);\n",
       "}\n",
       "\n",
       ".sk-estimator-doc-link.fitted span {\n",
       "  /* fitted */\n",
       "  background: var(--sklearn-color-fitted-level-0);\n",
       "  border: var(--sklearn-color-fitted-level-3);\n",
       "}\n",
       "\n",
       ".sk-estimator-doc-link:hover span {\n",
       "  display: block;\n",
       "}\n",
       "\n",
       "/* \"?\"-specific style due to the `<a>` HTML tag */\n",
       "\n",
       "#sk-container-id-6 a.estimator_doc_link {\n",
       "  float: right;\n",
       "  font-size: 1rem;\n",
       "  line-height: 1em;\n",
       "  font-family: monospace;\n",
       "  background-color: var(--sklearn-color-background);\n",
       "  border-radius: 1rem;\n",
       "  height: 1rem;\n",
       "  width: 1rem;\n",
       "  text-decoration: none;\n",
       "  /* unfitted */\n",
       "  color: var(--sklearn-color-unfitted-level-1);\n",
       "  border: var(--sklearn-color-unfitted-level-1) 1pt solid;\n",
       "}\n",
       "\n",
       "#sk-container-id-6 a.estimator_doc_link.fitted {\n",
       "  /* fitted */\n",
       "  border: var(--sklearn-color-fitted-level-1) 1pt solid;\n",
       "  color: var(--sklearn-color-fitted-level-1);\n",
       "}\n",
       "\n",
       "/* On hover */\n",
       "#sk-container-id-6 a.estimator_doc_link:hover {\n",
       "  /* unfitted */\n",
       "  background-color: var(--sklearn-color-unfitted-level-3);\n",
       "  color: var(--sklearn-color-background);\n",
       "  text-decoration: none;\n",
       "}\n",
       "\n",
       "#sk-container-id-6 a.estimator_doc_link.fitted:hover {\n",
       "  /* fitted */\n",
       "  background-color: var(--sklearn-color-fitted-level-3);\n",
       "}\n",
       "</style><div id=\"sk-container-id-6\" class=\"sk-top-container\"><div class=\"sk-text-repr-fallback\"><pre>Lasso()</pre><b>In a Jupyter environment, please rerun this cell to show the HTML representation or trust the notebook. <br />On GitHub, the HTML representation is unable to render, please try loading this page with nbviewer.org.</b></div><div class=\"sk-container\" hidden><div class=\"sk-item\"><div class=\"sk-estimator fitted sk-toggleable\"><input class=\"sk-toggleable__control sk-hidden--visually\" id=\"sk-estimator-id-6\" type=\"checkbox\" checked><label for=\"sk-estimator-id-6\" class=\"sk-toggleable__label fitted sk-toggleable__label-arrow fitted\">&nbsp;&nbsp;Lasso<a class=\"sk-estimator-doc-link fitted\" rel=\"noreferrer\" target=\"_blank\" href=\"https://scikit-learn.org/1.5/modules/generated/sklearn.linear_model.Lasso.html\">?<span>Documentation for Lasso</span></a><span class=\"sk-estimator-doc-link fitted\">i<span>Fitted</span></span></label><div class=\"sk-toggleable__content fitted\"><pre>Lasso()</pre></div> </div></div></div></div>"
      ],
      "text/plain": [
       "Lasso()"
      ]
     },
     "execution_count": 277,
     "metadata": {},
     "output_type": "execute_result"
    }
   ],
   "source": [
    "lasso.fit(x_train,y_train)"
   ]
  },
  {
   "cell_type": "code",
   "execution_count": 278,
   "id": "36c1dd7d-8cd2-4c3b-a499-d4627c193e99",
   "metadata": {},
   "outputs": [],
   "source": [
    "y_pred=lasso.predict(x_test)"
   ]
  },
  {
   "cell_type": "code",
   "execution_count": 279,
   "id": "b967b78c-00a7-44d8-933d-b058434bea3a",
   "metadata": {},
   "outputs": [
    {
     "data": {
      "text/plain": [
       "array([0.93416965, 1.10560912, 0.85515187, 1.10047131, 1.42493027,\n",
       "       1.11832557, 0.85947804, 1.07517185, 1.14695907, 0.86715924,\n",
       "       0.84427133, 1.05365953, 1.46955293, 1.22544552, 0.84632661,\n",
       "       1.25459769, 1.22438561, 0.99449579, 0.89070228, 1.02805013,\n",
       "       1.25502533, 0.83995633, 1.29097078, 0.83256881, 1.33169809,\n",
       "       0.8143505 , 0.85854518, 1.49458879, 1.36847826, 1.17033892,\n",
       "       0.84520273, 1.12272027, 1.03639082, 1.04860949, 1.12929015,\n",
       "       1.30789124, 1.23204706, 1.26856291, 1.14049015, 1.43178104,\n",
       "       1.28536675, 0.82157669, 1.05975147, 1.28416243, 0.84317603,\n",
       "       1.3762815 , 1.34826374, 0.77405645, 1.23814709, 0.87314555,\n",
       "       1.46166503, 0.91630833, 0.85827322, 1.39989882, 0.86759606,\n",
       "       0.83915929, 1.50111946, 0.90318348, 0.84749303, 0.9840834 ,\n",
       "       0.82433321, 1.06650962, 0.87343175, 0.77486502, 0.85559831,\n",
       "       1.11393939, 1.1215193 , 1.26480919, 0.90940837, 0.83169407,\n",
       "       0.75140893, 1.23172328, 1.14222573, 1.24197338, 1.1999838 ,\n",
       "       0.82421021, 1.20623453, 1.37944942, 0.83424421, 1.42935641,\n",
       "       0.86279015, 0.62131744, 1.14724916, 1.30884491, 0.87827991,\n",
       "       1.20520168, 1.24178227, 1.22670676, 0.84765687, 0.88215115,\n",
       "       0.89160002, 0.85050178, 1.08251642, 1.49573534, 0.81416697,\n",
       "       0.81568309, 1.3977536 , 1.47988794, 1.50159381, 0.84622445,\n",
       "       1.22495257, 1.06911068, 0.81280031, 0.91733688, 0.85025288,\n",
       "       0.79072793, 1.20107615, 0.86046189, 0.90894988, 1.34609842,\n",
       "       1.34599427, 1.0001693 , 1.13310543, 0.89783471, 0.85949072,\n",
       "       1.23229748, 0.88032933, 1.00126213, 0.69857932, 1.08945077,\n",
       "       1.27195157, 1.24635401, 0.88350661, 1.28028126, 1.31383915,\n",
       "       0.86260928, 0.84409955, 1.29112931, 0.71624846, 1.29633457,\n",
       "       0.68189052, 1.29373805, 1.20102006, 1.09733459])"
      ]
     },
     "execution_count": 279,
     "metadata": {},
     "output_type": "execute_result"
    }
   ],
   "source": [
    "y_pred"
   ]
  },
  {
   "cell_type": "code",
   "execution_count": 280,
   "id": "63f7c9a5-86b6-4e68-97f7-4cff09cf4bc3",
   "metadata": {},
   "outputs": [
    {
     "data": {
      "text/plain": [
       "0.7019359396058574"
      ]
     },
     "execution_count": 280,
     "metadata": {},
     "output_type": "execute_result"
    }
   ],
   "source": [
    "mean_absolute_error(y_test,y_pred)"
   ]
  },
  {
   "cell_type": "code",
   "execution_count": 281,
   "id": "60dda5f4-159b-4a32-9a59-89f57ffd38be",
   "metadata": {},
   "outputs": [
    {
     "data": {
      "text/plain": [
       "0.6569811752995076"
      ]
     },
     "execution_count": 281,
     "metadata": {},
     "output_type": "execute_result"
    }
   ],
   "source": [
    "mean_squared_error(y_test,y_pred)"
   ]
  },
  {
   "cell_type": "code",
   "execution_count": 282,
   "id": "9e6de34e-d7f2-493b-a9d4-5d4c2c24f4a9",
   "metadata": {},
   "outputs": [
    {
     "data": {
      "text/plain": [
       "0.2198558184917796"
      ]
     },
     "execution_count": 282,
     "metadata": {},
     "output_type": "execute_result"
    }
   ],
   "source": [
    "r2_score(y_test,y_pred)"
   ]
  },
  {
   "cell_type": "markdown",
   "id": "29d8e738-867e-4853-9f4a-f06718826bfc",
   "metadata": {},
   "source": [
    "## Linear Regression: \n",
    "   Good fit. The model explains ~79% of the variance .\n",
    "## RandomForestRegressor:  \n",
    "    Best model so far — explains ~99% of the variance\n",
    "## Ridge Regression:\n",
    "     Very similar to Linear Regression 79%\n",
    "## Lasso Regression\t:\n",
    "      Poor performance "
   ]
  },
  {
   "cell_type": "code",
   "execution_count": null,
   "id": "4e414c14-778c-48a0-a26b-6f0cc7857bfa",
   "metadata": {},
   "outputs": [],
   "source": []
  }
 ],
 "metadata": {
  "kernelspec": {
   "display_name": "Python 3 (ipykernel)",
   "language": "python",
   "name": "python3"
  },
  "language_info": {
   "codemirror_mode": {
    "name": "ipython",
    "version": 3
   },
   "file_extension": ".py",
   "mimetype": "text/x-python",
   "name": "python",
   "nbconvert_exporter": "python",
   "pygments_lexer": "ipython3",
   "version": "3.12.7"
  }
 },
 "nbformat": 4,
 "nbformat_minor": 5
}
